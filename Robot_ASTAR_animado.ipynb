{
 "cells": [
  {
   "cell_type": "code",
   "execution_count": 19,
   "id": "6880e558",
   "metadata": {},
   "outputs": [],
   "source": [
    "import matplotlib.pyplot as plt\n",
    "from matplotlib.animation import FuncAnimation\n",
    "import numpy as np\n",
    "import igraph\n",
    "from igraph import Graph, EdgeSeq\n",
    "import plotly.graph_objects as go"
   ]
  },
  {
   "cell_type": "code",
   "execution_count": 20,
   "id": "fd176538",
   "metadata": {},
   "outputs": [],
   "source": [
    "mov = 0.5 # tamanio de paso del robot\n",
    "expandidos = []\n",
    "\n",
    "origen = [5,0]\n",
    "meta = [8,8]"
   ]
  },
  {
   "cell_type": "code",
   "execution_count": 21,
   "id": "9dd627f3",
   "metadata": {},
   "outputs": [],
   "source": [
    "def get_nodos(raiz):\n",
    "    nodos = []\n",
    "    por_visitar = [raiz]\n",
    "    visitados = []\n",
    "\n",
    "    while por_visitar != []:\n",
    "        nodo = por_visitar.pop(0)\n",
    "        if (nodo in visitados) or (nodo in nodos):\n",
    "            continue\n",
    "        nodos.append(nodo)\n",
    "        por_visitar += nodo.hijos\n",
    "        visitados.append(nodo)\n",
    "\n",
    "    return nodos"
   ]
  },
  {
   "cell_type": "code",
   "execution_count": 22,
   "id": "2e38b5a4",
   "metadata": {},
   "outputs": [],
   "source": [
    "def get_etiquetas(nodos):\n",
    "    labels = []\n",
    "    for nodo in nodos:\n",
    "        labels.append(\n",
    "            str(nodo.pos)\n",
    "        )\n",
    "    return labels"
   ]
  },
  {
   "cell_type": "code",
   "execution_count": 23,
   "id": "3f7e746c",
   "metadata": {},
   "outputs": [],
   "source": [
    "def crear_grafo(nodos, etiquetas):\n",
    "    \n",
    "    g = Graph(directed = True)\n",
    "\n",
    "    for nodo in nodos:\n",
    "        g.add_vertex(etiquetas[nodos.index(nodo)])\n",
    "    padre_hijo = []\n",
    "    for nodo in nodos:\n",
    "        \n",
    "        padre_hijo.append([nodo.papa, nodo])\n",
    "    for r in padre_hijo:\n",
    "        if r[0]:  # tiene papa\n",
    "            g.add_edge(etiquetas[nodos.index(r[0])], etiquetas[nodos.index(r[1])])\n",
    "\n",
    "    edges = [e.tuple for e in g.es]\n",
    "    \n",
    "    return g, edges"
   ]
  },
  {
   "cell_type": "code",
   "execution_count": 24,
   "id": "284ed9c0",
   "metadata": {},
   "outputs": [],
   "source": [
    "def dibujar_grafo(grafo, labels, title):\n",
    "    raices = [v.index for v in grafo.vs if grafo.degree(v, mode=\"in\") == 0]\n",
    "    if len(raices) != 1:\n",
    "        return f\"SHay {len(raices)}, imposible ejecutar\"\n",
    "    root_idx = raices[0]\n",
    "\n",
    "    layout = grafo.layout_reingold_tilford(mode=\"out\", root=[root_idx]) # out, que no se graficque hacia los lados, sino hacia abajo\n",
    "\n",
    "    Xn = [pos[0] for pos in layout]\n",
    "    Yn = [-pos[1] for pos in layout]  # y negativa: hacia abajo\n",
    "\n",
    "    Xe, Ye = [], []\n",
    "    for edge in grafo.get_edgelist():\n",
    "        Xe += [Xn[edge[0]], Xn[edge[1]], None]\n",
    "        Ye += [Yn[edge[0]], Yn[edge[1]], None]\n",
    "\n",
    "    trace_edges = go.Scatter(\n",
    "        x=Xe, y=Ye,\n",
    "        mode=\"lines\",\n",
    "        line=dict(width=1, color=\"gray\"),\n",
    "        hoverinfo=\"none\"\n",
    "    )\n",
    "\n",
    "    trace_nodes = go.Scatter(\n",
    "        x=Xn, y=Yn,\n",
    "        mode=\"markers\",\n",
    "        marker=dict(symbol=\"circle-dot\", size=30, color=\"lightblue\", line=dict(width=2)),\n",
    "        text=labels,\n",
    "        textposition=\"middle center\",\n",
    "        hoverinfo=\"text\"\n",
    "    )\n",
    "\n",
    "    fig = go.Figure(data=[trace_edges, trace_nodes],\n",
    "                    layout=go.Layout(title=title,\n",
    "                                     showlegend=True,\n",
    "                                     margin=dict(b=20, l=5, r=5, t=40),\n",
    "                                     xaxis=dict(showgrid=False, zeroline=False),\n",
    "                                     yaxis=dict(showgrid=False, zeroline=False)))\n",
    "    fig.show()"
   ]
  },
  {
   "cell_type": "code",
   "execution_count": 25,
   "id": "c2a2e524",
   "metadata": {},
   "outputs": [],
   "source": [
    "def dibujar_grafo_anim(grafo, labels, title):\n",
    "    raices = [v.index for v in grafo.vs if grafo.degree(v, mode=\"in\") == 0]\n",
    "    if len(raices) != 1:\n",
    "        raise ValueError(f\"Se esperaba 1 raíz, pero hay {len(raices)}\")\n",
    "\n",
    "    root_idx = raices[0]\n",
    "    layout = grafo.layout_reingold_tilford(mode=\"out\", root=[root_idx])\n",
    "    Xn = [pos[0] for pos in layout]\n",
    "    Yn = [-pos[1] for pos in layout]\n",
    "\n",
    "    # Preparar nodos y aristas para cada frame\n",
    "    frames = []\n",
    "    num_nodos = len(grafo.vs)\n",
    "    for i in range(1, num_nodos + 1):\n",
    "        # Aristas visibles hasta este nodo\n",
    "        Xe, Ye = [], []\n",
    "        for edge in grafo.get_edgelist():\n",
    "            if edge[0] < i and edge[1] < i:\n",
    "                Xe += [Xn[edge[0]], Xn[edge[1]], None]\n",
    "                Ye += [Yn[edge[0]], Yn[edge[1]], None]\n",
    "\n",
    "        trace_edges = go.Scatter(\n",
    "            x=Xe, y=Ye,\n",
    "            mode=\"lines\",\n",
    "            line=dict(width=1, color=\"gray\"),\n",
    "            hoverinfo=\"none\"\n",
    "        )\n",
    "\n",
    "        trace_nodes = go.Scatter(\n",
    "            x=Xn[:i], y=Yn[:i],\n",
    "            mode=\"markers\",\n",
    "            marker=dict(symbol=\"circle-dot\", size=30, color=\"lightblue\", line=dict(width=2)),\n",
    "            text=labels[:i],\n",
    "            textposition=\"middle center\",\n",
    "            hoverinfo=\"text\"\n",
    "        )\n",
    "\n",
    "        frames.append(go.Frame(data=[trace_edges, trace_nodes], name=str(i)))\n",
    "\n",
    "    # Frame inicial\n",
    "    initial_edges = go.Scatter(x=[], y=[], mode=\"lines\")\n",
    "    initial_nodes = go.Scatter(x=[], y=[], mode=\"markers\")\n",
    "\n",
    "    fig = go.Figure(\n",
    "        data=[initial_edges, initial_nodes],\n",
    "        layout=go.Layout(\n",
    "            title=title,\n",
    "            showlegend=True,\n",
    "            margin=dict(b=20, l=7, r=5, t=40),\n",
    "            xaxis=dict(showgrid=False, zeroline=False),\n",
    "            yaxis=dict(showgrid=False, zeroline=False),\n",
    "            updatemenus=[dict(\n",
    "                type=\"buttons\",\n",
    "                buttons=[dict(label=\" > Reproducir\",\n",
    "                              method=\"animate\",\n",
    "                              args=[None, {\"frame\": {\"duration\": 500, \"redraw\": True},\n",
    "                                           \"fromcurrent\": True, \"transition\": {\"duration\": 0}}])],\n",
    "                showactive=False,\n",
    "                x=0.1, y=-0.1\n",
    "            )]\n",
    "        ),\n",
    "        frames=frames\n",
    "    )\n",
    "\n",
    "    fig.show()"
   ]
  },
  {
   "cell_type": "code",
   "execution_count": 26,
   "id": "63b43dc7",
   "metadata": {},
   "outputs": [],
   "source": [
    "def dibujar(gp):\n",
    "    plt.grid(True)\n",
    "    plt.scatter(gp[0], gp[1], c=\"r\") # dibula la posicion del punto\n",
    "    plt.plot([0,0,10, 10,0], [0,10,10,0,0], c=\"k\") # dibujamos un cuadro delimitando el espacio de trabajo"
   ]
  },
  {
   "cell_type": "code",
   "execution_count": 27,
   "id": "3ee50ff4",
   "metadata": {},
   "outputs": [],
   "source": [
    "class Obstaculo():\n",
    "    def __init__(self, v1, v2):\n",
    "        self.v1 = v1 # esquina superior\n",
    "        self.v2 = v2 # esquina inferior\n",
    "\n",
    "    def en_colision(self, punto):\n",
    "        if self.v1[0] <= punto[0] <= self.v2[0] and self.v2[1] <= punto[1] <= self.v1[1]:\n",
    "            return True\n",
    "        return False\n",
    "    \n",
    "    def dibuja(self):\n",
    "        x = [self.v1[0], self.v2[0], self.v2[0], self.v1[0], self.v1[0]]\n",
    "        y = [self.v1[1], self.v1[1], self.v2[1], self.v2[1], self.v1[1]]\n",
    "        plt.plot(x,y, \"--k\")"
   ]
  },
  {
   "cell_type": "code",
   "execution_count": 28,
   "id": "840d39b0",
   "metadata": {},
   "outputs": [],
   "source": [
    "def es_punto_valido(punto, obstaculos, limites):\n",
    "    # esta en el limite permitido?\n",
    "    if limites[0] <= punto[0] <= limites[2] and limites[1] <= punto[1] <= limites[3] :\n",
    "        # Hay colision\n",
    "        for o in obstaculos:\n",
    "            if o.en_colision(punto):\n",
    "                return False\n",
    "        return True\n",
    "    return False"
   ]
  },
  {
   "cell_type": "code",
   "execution_count": 29,
   "id": "fe158f93",
   "metadata": {},
   "outputs": [],
   "source": [
    "class Nodo():\n",
    "    def __init__(self, pos, papa = None):\n",
    "        global expandidos\n",
    "        self.pos = pos\n",
    "        self.hijos = []\n",
    "        self.papa = papa\n",
    "        if self not in expandidos:\n",
    "            expandidos.append(self)\n",
    "\n",
    "    def genera_hijos(self, obstaculos, limites):\n",
    "        global expandidos\n",
    "        \n",
    "        # uno arriba\n",
    "        pos_arriba = self.pos[:]\n",
    "        pos_arriba[1] += mov\n",
    "\n",
    "        # uno abajo\n",
    "        pos_abajo = self.pos[:]\n",
    "        pos_abajo[1] -= mov\n",
    "        \n",
    "        # uno izq\n",
    "        pos_izq = self.pos[:]\n",
    "        pos_izq [0] -= mov\n",
    "        \n",
    "        # uno der\n",
    "        pos_der = self.pos[:]\n",
    "        pos_der[0] += mov\n",
    "        \n",
    "        if es_punto_valido(pos_arriba, obstaculos, limites):\n",
    "            hijo = self.__class__(pos_arriba, self)\n",
    "            self.hijos.append(hijo)\n",
    "\n",
    "        if es_punto_valido(pos_abajo, obstaculos, limites):\n",
    "            hijo = self.__class__(pos_abajo, self)\n",
    "            self.hijos.append(hijo)\n",
    "        \n",
    "        if es_punto_valido(pos_izq, obstaculos, limites):\n",
    "            hijo = self.__class__(pos_izq, self)\n",
    "            self.hijos.append(hijo)\n",
    "        \n",
    "        if es_punto_valido(pos_der, obstaculos, limites):\n",
    "            hijo = self.__class__(pos_der, self)\n",
    "            self.hijos.append(hijo)\n",
    "\n",
    "    def __eq__(self, n2):\n",
    "        return self.pos == n2.pos\n",
    "\n",
    "    def __str__(self):\n",
    "        s = f\"{self.pos[0]}, {self.pos[1]}\"\n",
    "        return s"
   ]
  },
  {
   "cell_type": "code",
   "execution_count": 30,
   "id": "0dbf5d01",
   "metadata": {},
   "outputs": [],
   "source": [
    "class Robot():\n",
    "    def __init__(self, pos = [5,5], limites = [0,0,10,10], obstaculos = []):\n",
    "        self.pos = pos\n",
    "        self.limites = limites\n",
    "        self.obstaculos = obstaculos\n",
    "        self.trajectory = []\n",
    "        self.raiz = Nodo(self.pos)\n",
    "        if self.raiz not in expandidos:\n",
    "            expandidos.append(self.raiz)\n",
    "    \n",
    "    def agrega_obstaculo(self, obs):\n",
    "        self.obstaculos.append(obs)\n",
    "\n",
    "    def plot_robot(self):\n",
    "        plt.scatter(self.pos[0], self.pos[1], c=\"b\")"
   ]
  },
  {
   "cell_type": "code",
   "execution_count": 31,
   "id": "e944231e",
   "metadata": {},
   "outputs": [],
   "source": [
    "class NodoHeuristica(Nodo):\n",
    "    def __init__(self, pos, papa = None):\n",
    "        super(NodoHeuristica, self).__init__(pos, papa)\n",
    "        if papa:\n",
    "            self.costo = papa.costo + 1 # del nodo padre a este nodo\n",
    "        else:\n",
    "            self.costo = 0\n",
    "        self.h = float(\"inf\")\n",
    "\n",
    "        if self not in expandidos:\n",
    "            expandidos.append(self)\n",
    "\n",
    "    \n",
    "    def heuristica(self, meta):\n",
    "        self.h = abs(self.pos[0] - meta[0]) + abs(self.pos[1] - meta[1])\n",
    "        return self.h\n",
    "    \n",
    "    def f_n(self, meta):\n",
    "        self.h = abs(self.pos[0] - meta[0]) + abs(self.pos[1] - meta[1]) + self.costo\n",
    "        return self.h\n",
    "        \n",
    "    def astar(self, meta, robot):\n",
    "              \n",
    "        visitados = []\n",
    "        franja = [self] # por visitar\n",
    "        while franja != []:\n",
    "            h = franja.pop(0)\n",
    "\n",
    "            if h in visitados:\n",
    "                continue\n",
    "\n",
    "            if h.pos == meta:\n",
    "                camino = [h]\n",
    "                papa = h.papa\n",
    "                while papa:\n",
    "                    camino.append(papa)\n",
    "                    papa = papa.papa\n",
    "                camino.reverse()\n",
    "                return camino\n",
    "            \n",
    "            h.genera_hijos(robot.obstaculos, robot.limites)\n",
    "            \n",
    "            for i in h.hijos:\n",
    "                i.f_n(meta)\n",
    "            \n",
    "            franja += h.hijos\n",
    "            franja.sort()\n",
    "            visitados.append(h)\n",
    "    def __lt__(self, n2):\n",
    "        return self.h < n2.h"
   ]
  },
  {
   "cell_type": "code",
   "execution_count": 32,
   "id": "62baf983",
   "metadata": {},
   "outputs": [],
   "source": [
    "class RobotHeur(Robot, Nodo):\n",
    "    \n",
    "    def __init__(self, pos=[5, 5], limites=[0, 0, 10, 10], obstaculos=[]):\n",
    "        super(RobotHeur, self).__init__(pos, limites, obstaculos)\n",
    "        self.raiz = NodoHeuristica(self.pos)\n",
    "\n",
    "    def ASTAR(self, meta):\n",
    "        self.raiz = NodoHeuristica(self.pos)\n",
    "        camino = self.raiz.astar(meta, self)\n",
    "        if camino:\n",
    "            self.trajectory = []\n",
    "            for paso in camino:\n",
    "                self.trajectory += paso.pos\n",
    "        else:\n",
    "            print(\"Camino no encontrado\")\n",
    "        return camino"
   ]
  },
  {
   "cell_type": "code",
   "execution_count": 33,
   "id": "b55df1db",
   "metadata": {},
   "outputs": [],
   "source": [
    "def plot_space_simple(robot, expandidos, title):\n",
    "    for obstaculo in robot.obstaculos:\n",
    "        obstaculo.dibuja()\n",
    "    robot.plot_robot()\n",
    "\n",
    "    for p in expandidos:\n",
    "        plt.scatter(p.pos[0], p.pos[1], c=\"k\")\n",
    "\n",
    "    plt.plot(robot.trajectory[0::2], robot.trajectory[1::2], \"o-b\")\n",
    "\n",
    "    dibujar([8,8])\n",
    "\n",
    "    plt.title(title)\n",
    "    plt.grid(visible=True)\n"
   ]
  },
  {
   "cell_type": "code",
   "execution_count": 34,
   "id": "63564aef",
   "metadata": {},
   "outputs": [],
   "source": [
    "def plot_space_animado(robot, expandidos, title):\n",
    "    # Creamos la figura y los ejes\n",
    "    fig, ax = plt.subplots()\n",
    "\n",
    "    x_points = robot.trajectory[0::2]\n",
    "    y_points = robot.trajectory[1::2]\n",
    "    ax.set_xlim(-1, 11)\n",
    "    ax.set_ylim(-1, 11)\n",
    "\n",
    "    for obstaculo in robot.obstaculos:\n",
    "        obstaculo.dibuja()\n",
    "    \n",
    "\n",
    "    # Línea inicial vacía\n",
    "    line, = ax.plot([], [], \"o-b\")\n",
    "    exp = ax.scatter([], [])\n",
    "    \n",
    "\n",
    "\n",
    "    # Función de inicialización\n",
    "    def init():\n",
    "        line.set_data([], [])\n",
    "        exp.set_offsets(np.empty((0, 2)))\n",
    "        dibujar(meta)\n",
    "        robot.plot_robot()\n",
    "        return line,\n",
    "\n",
    "    def update(frame):\n",
    "\n",
    "        x_data = x_points[:frame]\n",
    "        y_data = y_points[:frame]\n",
    "        line.set_data(x_data, y_data)\n",
    "\n",
    "        x_exp = []\n",
    "        y_exp = []\n",
    "\n",
    "        porcentaje = frame / len(x_points)\n",
    "        num_expandidos = int(len(expandidos) * porcentaje)\n",
    "\n",
    "        for nodo in expandidos[:num_expandidos]:\n",
    "            x_exp.append(nodo.pos[0])\n",
    "            y_exp.append(nodo.pos[1])\n",
    "        exp.set_color(\"y\")\n",
    "        exp.set_offsets(np.c_[x_exp, y_exp])\n",
    "        \n",
    "        return line, exp\n",
    "\n",
    "    # Creamos la animación\n",
    "    ani = FuncAnimation(\n",
    "        fig, update, frames=len(x_points),\n",
    "        init_func=init, blit=True, interval=100\n",
    "    )\n",
    "\n",
    "    plt.title(title)\n",
    "    plt.grid(visible=True)\n",
    "    # Mostramos la animación\n",
    "    plt.show()"
   ]
  },
  {
   "cell_type": "code",
   "execution_count": 35,
   "id": "32ea31f3",
   "metadata": {},
   "outputs": [],
   "source": [
    "def ejecutar_ASTAR(origen, meta):\n",
    "    global expandidos\n",
    "    expandidos = []\n",
    "\n",
    "    wall_E_ASTAR = RobotHeur(origen)\n",
    "    wall_E_ASTAR.agrega_obstaculo(Obstaculo([6,6],[10,2]))\n",
    "    wall_E_ASTAR.agrega_obstaculo(Obstaculo([5,9],[7,7]))\n",
    "    wall_E_ASTAR.agrega_obstaculo(Obstaculo([4,6],[5,4]))\n",
    "\n",
    "    camino = wall_E_ASTAR.ASTAR(meta=meta)\n",
    "    print(f\"distancia camino: {len(camino)}\")\n",
    "\n",
    "    \"\"\"\n",
    "    Alternar entre plot_space_simple y plot_space_animated si no se visualiza en la notebook \n",
    "    \"\"\"\n",
    "    plot_space_simple(wall_E_ASTAR, expandidos, \"Camino del robot con A*\")\n",
    "    print(f\"Expandidos {len(expandidos)}\")\n",
    "\n",
    "    nodos = get_nodos(wall_E_ASTAR.raiz)\n",
    "    etiquetas = get_etiquetas(expandidos)\n",
    "    grafo, uniones = crear_grafo(expandidos, etiquetas)\n",
    "\n",
    "    \"\"\"\n",
    "    Alternar entre dibujar_grafo y dibujar_grafo_anim si no se visualiza en la notebook \n",
    "    \"\"\"\n",
    "    dibujar_grafo(grafo, etiquetas, \"Arbol A*\")"
   ]
  },
  {
   "cell_type": "code",
   "execution_count": 36,
   "id": "34b955dc",
   "metadata": {},
   "outputs": [
    {
     "name": "stdout",
     "output_type": "stream",
     "text": [
      "distancia camino: 23\n",
      "Expandidos 153\n"
     ]
    },
    {
     "data": {
      "application/vnd.plotly.v1+json": {
       "config": {
        "plotlyServerURL": "https://plot.ly"
       },
       "data": [
        {
         "hoverinfo": "none",
         "line": {
          "color": "gray",
          "width": 1
         },
         "mode": "lines",
         "type": "scatter",
         "x": [
          0,
          -1.999528463648834,
          null,
          0,
          0.4997642318244171,
          null,
          0,
          1.499764231824417,
          null,
          -1.999528463648834,
          -3.998113854595336,
          null,
          -1.999528463648834,
          -1.500235768175583,
          null,
          -1.999528463648834,
          -0.5002357681755829,
          null,
          1.499764231824417,
          1.499764231824417,
          null,
          -3.998113854595336,
          -5.993870027434842,
          null,
          -3.998113854595336,
          -3.5002357681755827,
          null,
          -3.998113854595336,
          -2.5002357681755827,
          null,
          -0.5002357681755829,
          -0.5002357681755829,
          null,
          1.499764231824417,
          1.499764231824417,
          null,
          0.4997642318244171,
          0.4997642318244171,
          null,
          -5.993870027434842,
          -7.98113854595336,
          null,
          -5.993870027434842,
          -5.500235768175583,
          null,
          -5.993870027434842,
          -4.500235768175583,
          null,
          -2.5002357681755827,
          -2.5002357681755827,
          null,
          -0.5002357681755829,
          -0.5002357681755829,
          null,
          1.499764231824417,
          1.499764231824417,
          null,
          -1.500235768175583,
          -1.500235768175583,
          null,
          -7.98113854595336,
          -9.942944101508916,
          null,
          -7.98113854595336,
          -7.500235768175583,
          null,
          -7.98113854595336,
          -6.500235768175583,
          null,
          -4.500235768175583,
          -4.500235768175583,
          null,
          -2.5002357681755827,
          -2.5002357681755827,
          null,
          -0.5002357681755829,
          -0.5002357681755829,
          null,
          1.499764231824417,
          1.499764231824417,
          null,
          -3.5002357681755827,
          -3.5002357681755827,
          null,
          -9.942944101508916,
          -11.828360768175582,
          null,
          -9.942944101508916,
          -9.500235768175582,
          null,
          -9.942944101508916,
          -8.500235768175582,
          null,
          -4.500235768175583,
          -4.500235768175583,
          null,
          -2.5002357681755827,
          -2.5002357681755827,
          null,
          -0.5002357681755829,
          -0.5002357681755829,
          null,
          1.499764231824417,
          1.499764231824417,
          null,
          0.4997642318244171,
          0.4997642318244171,
          null,
          -5.500235768175583,
          -5.500235768175583,
          null,
          -11.828360768175582,
          -13.484610768175582,
          null,
          -11.828360768175582,
          -11.500235768175582,
          null,
          -11.828360768175582,
          -10.500235768175582,
          null,
          -4.500235768175583,
          -4.500235768175583,
          null,
          -2.5002357681755827,
          -2.5002357681755827,
          null,
          -0.5002357681755829,
          -0.5002357681755829,
          null,
          1.499764231824417,
          1.499764231824417,
          null,
          -1.500235768175583,
          -1.500235768175583,
          null,
          -7.500235768175583,
          -7.500235768175583,
          null,
          -13.484610768175582,
          -14.468985768175582,
          null,
          -13.484610768175582,
          -12.500235768175582,
          null,
          -4.500235768175583,
          -4.500235768175583,
          null,
          -2.5002357681755827,
          -2.5002357681755827,
          null,
          -0.5002357681755829,
          -0.5002357681755829,
          null,
          -3.5002357681755827,
          -3.5002357681755827,
          null,
          -9.500235768175582,
          -9.500235768175582,
          null,
          -12.500235768175582,
          -12.500235768175582,
          null,
          -4.500235768175583,
          -4.500235768175583,
          null,
          -2.5002357681755827,
          -2.5002357681755827,
          null,
          0.4997642318244171,
          0.4997642318244171,
          null,
          -5.500235768175583,
          -5.500235768175583,
          null,
          -11.500235768175582,
          -11.500235768175582,
          null,
          1.499764231824417,
          1.499764231824417,
          null,
          -12.500235768175582,
          -12.500235768175582,
          null,
          -4.500235768175583,
          -4.500235768175583,
          null,
          -1.500235768175583,
          -1.500235768175583,
          null,
          -7.500235768175583,
          -7.500235768175583,
          null,
          -14.468985768175582,
          -14.468985768175582,
          null,
          -0.5002357681755829,
          -0.5002357681755829,
          null,
          -12.500235768175582,
          -12.500235768175582,
          null,
          -3.5002357681755827,
          -3.5002357681755827,
          null,
          -9.500235768175582,
          -9.500235768175582,
          null,
          -2.5002357681755827,
          -2.5002357681755827,
          null,
          -12.500235768175582,
          -12.500235768175582,
          null,
          0.4997642318244171,
          0.4997642318244171,
          null,
          -5.500235768175583,
          -5.500235768175583,
          null,
          -11.500235768175582,
          -11.500235768175582,
          null,
          1.499764231824417,
          1.499764231824417,
          null,
          -4.500235768175583,
          -4.500235768175583,
          null,
          -12.500235768175582,
          -12.500235768175582,
          null,
          -1.500235768175583,
          -1.500235768175583,
          null,
          -7.500235768175583,
          -7.500235768175583,
          null,
          -14.468985768175582,
          -14.468985768175582,
          null,
          -0.5002357681755829,
          -0.5002357681755829,
          null,
          -12.500235768175582,
          -12.500235768175582,
          null,
          -3.5002357681755827,
          -3.5002357681755827,
          null,
          -9.500235768175582,
          -9.500235768175582,
          null,
          -2.5002357681755827,
          -2.5002357681755827,
          null,
          -12.500235768175582,
          -13.250235768175582,
          null,
          -12.500235768175582,
          -11.750235768175582,
          null,
          0.4997642318244171,
          0.4997642318244171,
          null,
          -5.500235768175583,
          -5.500235768175583,
          null,
          -11.500235768175582,
          -11.500235768175582,
          null,
          1.499764231824417,
          1.499764231824417,
          null,
          -4.500235768175583,
          -4.500235768175583,
          null,
          -11.750235768175582,
          -11.750235768175582,
          null,
          -1.500235768175583,
          -1.500235768175583,
          null,
          -7.500235768175583,
          -7.500235768175583,
          null,
          -14.468985768175582,
          -15.437735768175582,
          null,
          -14.468985768175582,
          -13.500235768175582,
          null,
          -0.5002357681755829,
          -0.5002357681755829,
          null,
          -11.750235768175582,
          -11.750235768175582,
          null,
          -3.5002357681755827,
          -3.5002357681755827,
          null,
          -9.500235768175582,
          -9.500235768175582,
          null,
          -2.5002357681755827,
          -2.5002357681755827,
          null,
          -13.250235768175582,
          -13.250235768175582,
          null,
          -15.437735768175582,
          -16.375235768175582,
          null,
          -15.437735768175582,
          -14.500235768175582,
          null,
          -11.750235768175582,
          -11.750235768175582,
          null,
          0.4997642318244171,
          0.4997642318244171,
          null,
          -5.500235768175583,
          -5.500235768175583,
          null,
          -11.500235768175582,
          -11.500235768175582,
          null,
          -4.500235768175583,
          -4.500235768175583,
          null,
          -16.375235768175582,
          -17.250235768175582,
          null,
          -16.375235768175582,
          -15.500235768175582,
          null,
          -11.750235768175582,
          -12.687735768175582,
          null,
          -11.750235768175582,
          -10.812735768175582,
          null,
          -1.500235768175583,
          -1.500235768175583,
          null,
          -7.500235768175583,
          -7.500235768175583,
          null,
          -13.500235768175582,
          -13.500235768175582,
          null,
          -17.250235768175582,
          -18.000235768175582,
          null,
          -17.250235768175582,
          -16.500235768175582,
          null,
          -12.687735768175582,
          -13.562735768175582,
          null,
          -12.687735768175582,
          -11.812735768175582,
          null,
          -10.812735768175582,
          -10.812735768175582,
          null,
          -3.5002357681755827,
          -3.5002357681755827,
          null,
          -9.500235768175582,
          -9.500235768175582,
          null,
          -13.250235768175582,
          -13.750235768175582,
          null,
          -13.250235768175582,
          -12.750235768175582,
          null,
          -14.500235768175582,
          -14.500235768175582,
          null,
          -18.000235768175582,
          -18.500235768175582,
          null,
          -18.000235768175582,
          -17.500235768175582,
          null,
          -13.562735768175582,
          -14.312735768175582,
          null,
          -13.562735768175582,
          -12.812735768175582,
          null,
          -11.812735768175582,
          -11.812735768175582,
          null,
          0.4997642318244171,
          0.4997642318244171,
          null,
          -5.500235768175583,
          -5.500235768175583,
          null,
          -11.500235768175582,
          -11.500235768175582,
          null,
          -15.500235768175582,
          -15.500235768175582,
          null,
          -13.750235768175582,
          -14.250235768175582,
          null,
          -13.750235768175582,
          -13.250235768175582,
          null,
          -18.500235768175582,
          -19.000235768175582,
          null,
          -18.500235768175582,
          -18.000235768175582,
          null,
          -14.312735768175582,
          -14.812735768175582,
          null,
          -14.312735768175582,
          -13.812735768175582,
          null,
          -12.812735768175582,
          -12.812735768175582,
          null,
          -1.500235768175583,
          -1.500235768175583,
          null,
          -7.500235768175583,
          -7.500235768175583,
          null,
          -13.500235768175582,
          -13.500235768175582,
          null,
          -16.500235768175582,
          -16.500235768175582,
          null,
          -10.812735768175582,
          -10.812735768175582,
          null,
          -14.250235768175582,
          -14.750235768175582,
          null,
          -14.250235768175582,
          -13.750235768175582,
          null,
          -19.000235768175582,
          -19.500235768175582,
          null,
          -19.000235768175582,
          -18.500235768175582,
          null
         ],
         "y": [
          0,
          -1,
          null,
          0,
          -1,
          null,
          0,
          -1,
          null,
          -1,
          -2,
          null,
          -1,
          -2,
          null,
          -1,
          -2,
          null,
          -1,
          -2,
          null,
          -2,
          -3,
          null,
          -2,
          -3,
          null,
          -2,
          -3,
          null,
          -2,
          -3,
          null,
          -2,
          -3,
          null,
          -1,
          -2,
          null,
          -3,
          -4,
          null,
          -3,
          -4,
          null,
          -3,
          -4,
          null,
          -3,
          -4,
          null,
          -3,
          -4,
          null,
          -3,
          -4,
          null,
          -2,
          -3,
          null,
          -4,
          -5,
          null,
          -4,
          -5,
          null,
          -4,
          -5,
          null,
          -4,
          -5,
          null,
          -4,
          -5,
          null,
          -4,
          -5,
          null,
          -4,
          -5,
          null,
          -3,
          -4,
          null,
          -5,
          -6,
          null,
          -5,
          -6,
          null,
          -5,
          -6,
          null,
          -5,
          -6,
          null,
          -5,
          -6,
          null,
          -5,
          -6,
          null,
          -5,
          -6,
          null,
          -2,
          -3,
          null,
          -4,
          -5,
          null,
          -6,
          -7,
          null,
          -6,
          -7,
          null,
          -6,
          -7,
          null,
          -6,
          -7,
          null,
          -6,
          -7,
          null,
          -6,
          -7,
          null,
          -6,
          -7,
          null,
          -3,
          -4,
          null,
          -5,
          -6,
          null,
          -7,
          -8,
          null,
          -7,
          -8,
          null,
          -7,
          -8,
          null,
          -7,
          -8,
          null,
          -7,
          -8,
          null,
          -4,
          -5,
          null,
          -6,
          -7,
          null,
          -8,
          -9,
          null,
          -8,
          -9,
          null,
          -8,
          -9,
          null,
          -3,
          -4,
          null,
          -5,
          -6,
          null,
          -7,
          -8,
          null,
          -7,
          -8,
          null,
          -9,
          -10,
          null,
          -9,
          -10,
          null,
          -4,
          -5,
          null,
          -6,
          -7,
          null,
          -8,
          -9,
          null,
          -8,
          -9,
          null,
          -10,
          -11,
          null,
          -5,
          -6,
          null,
          -7,
          -8,
          null,
          -9,
          -10,
          null,
          -11,
          -12,
          null,
          -4,
          -5,
          null,
          -6,
          -7,
          null,
          -8,
          -9,
          null,
          -8,
          -9,
          null,
          -10,
          -11,
          null,
          -12,
          -13,
          null,
          -5,
          -6,
          null,
          -7,
          -8,
          null,
          -9,
          -10,
          null,
          -9,
          -10,
          null,
          -13,
          -14,
          null,
          -6,
          -7,
          null,
          -8,
          -9,
          null,
          -10,
          -11,
          null,
          -14,
          -15,
          null,
          -14,
          -15,
          null,
          -5,
          -6,
          null,
          -7,
          -8,
          null,
          -9,
          -10,
          null,
          -9,
          -10,
          null,
          -11,
          -12,
          null,
          -15,
          -16,
          null,
          -6,
          -7,
          null,
          -8,
          -9,
          null,
          -10,
          -11,
          null,
          -10,
          -11,
          null,
          -10,
          -11,
          null,
          -16,
          -17,
          null,
          -7,
          -8,
          null,
          -9,
          -10,
          null,
          -11,
          -12,
          null,
          -15,
          -16,
          null,
          -11,
          -12,
          null,
          -11,
          -12,
          null,
          -17,
          -18,
          null,
          -6,
          -7,
          null,
          -8,
          -9,
          null,
          -10,
          -11,
          null,
          -12,
          -13,
          null,
          -12,
          -13,
          null,
          -12,
          -13,
          null,
          -18,
          -19,
          null,
          -18,
          -19,
          null,
          -7,
          -8,
          null,
          -9,
          -10,
          null,
          -11,
          -12,
          null,
          -13,
          -14,
          null,
          -13,
          -14,
          null,
          -19,
          -20,
          null,
          -19,
          -20,
          null,
          -19,
          -20,
          null,
          -8,
          -9,
          null,
          -10,
          -11,
          null,
          -16,
          -17,
          null,
          -16,
          -17,
          null,
          -12,
          -13,
          null,
          -14,
          -15,
          null,
          -14,
          -15,
          null,
          -20,
          -21,
          null,
          -20,
          -21,
          null,
          -20,
          -21,
          null,
          -7,
          -8,
          null,
          -9,
          -10,
          null,
          -11,
          -12,
          null,
          -13,
          -14,
          null,
          -17,
          -18,
          null,
          -17,
          -18,
          null,
          -15,
          -16,
          null,
          -15,
          -16,
          null,
          -21,
          -22,
          null,
          -21,
          -22,
          null,
          -21,
          -22,
          null,
          -8,
          -9,
          null,
          -10,
          -11,
          null,
          -12,
          -13,
          null,
          -14,
          -15,
          null,
          -20,
          -21,
          null,
          -18,
          -19,
          null,
          -18,
          -19,
          null,
          -16,
          -17,
          null,
          -16,
          -17,
          null
         ]
        },
        {
         "hoverinfo": "text",
         "marker": {
          "color": "lightblue",
          "line": {
           "width": 2
          },
          "size": 30,
          "symbol": "circle-dot"
         },
         "mode": "markers",
         "text": [
          "[5, 0]",
          "[5, 0.5]",
          "[4.5, 0]",
          "[5.5, 0]",
          "[5, 1.0]",
          "[4.5, 0.5]",
          "[5.5, 0.5]",
          "[6.0, 0]",
          "[5, 1.5]",
          "[4.5, 1.0]",
          "[5.5, 1.0]",
          "[6.0, 0.5]",
          "[6.5, 0]",
          "[4.0, 0]",
          "[5, 2.0]",
          "[4.5, 1.5]",
          "[5.5, 1.5]",
          "[6.0, 1.0]",
          "[6.5, 0.5]",
          "[7.0, 0]",
          "[4.0, 0.5]",
          "[5, 2.5]",
          "[4.5, 2.0]",
          "[5.5, 2.0]",
          "[6.0, 1.5]",
          "[6.5, 1.0]",
          "[7.0, 0.5]",
          "[7.5, 0]",
          "[4.0, 1.0]",
          "[5, 3.0]",
          "[4.5, 2.5]",
          "[5.5, 2.5]",
          "[6.5, 1.5]",
          "[7.0, 1.0]",
          "[7.5, 0.5]",
          "[8.0, 0]",
          "[3.5, 0]",
          "[4.0, 1.5]",
          "[5, 3.5]",
          "[4.5, 3.0]",
          "[5.5, 3.0]",
          "[7.0, 1.5]",
          "[7.5, 1.0]",
          "[8.0, 0.5]",
          "[8.5, 0]",
          "[3.5, 0.5]",
          "[4.0, 2.0]",
          "[4.5, 3.5]",
          "[5.5, 3.5]",
          "[7.5, 1.5]",
          "[8.0, 1.0]",
          "[8.5, 0.5]",
          "[3.5, 1.0]",
          "[4.0, 2.5]",
          "[5.5, 4.0]",
          "[8.0, 1.5]",
          "[8.5, 1.0]",
          "[3.0, 0]",
          "[3.5, 1.5]",
          "[4.0, 3.0]",
          "[9.0, 0]",
          "[5.5, 4.5]",
          "[8.5, 1.5]",
          "[3.0, 0.5]",
          "[3.5, 2.0]",
          "[4.0, 3.5]",
          "[9.0, 0.5]",
          "[5.5, 5.0]",
          "[3.0, 1.0]",
          "[3.5, 2.5]",
          "[9.0, 1.0]",
          "[5.5, 5.5]",
          "[2.5, 0]",
          "[3.0, 1.5]",
          "[3.5, 3.0]",
          "[9.5, 0]",
          "[9.0, 1.5]",
          "[5.5, 6.0]",
          "[2.5, 0.5]",
          "[3.0, 2.0]",
          "[3.5, 3.5]",
          "[9.5, 0.5]",
          "[5.5, 6.5]",
          "[2.5, 1.0]",
          "[3.0, 2.5]",
          "[9.5, 1.0]",
          "[5.0, 6.5]",
          "[6.0, 6.5]",
          "[2.0, 0]",
          "[2.5, 1.5]",
          "[3.0, 3.0]",
          "[10.0, 0]",
          "[9.5, 1.5]",
          "[6.5, 6.5]",
          "[2.0, 0.5]",
          "[2.5, 2.0]",
          "[3.5, 4.0]",
          "[3.0, 3.5]",
          "[10.0, 0.5]",
          "[7.0, 6.5]",
          "[2.0, 1.0]",
          "[2.5, 2.5]",
          "[10.0, 1.0]",
          "[4.5, 6.5]",
          "[3.5, 4.5]",
          "[3.0, 4.0]",
          "[7.5, 6.5]",
          "[1.5, 0]",
          "[2.0, 1.5]",
          "[2.5, 3.0]",
          "[10.0, 1.5]",
          "[3.5, 5.0]",
          "[3.0, 4.5]",
          "[7.5, 7.0]",
          "[8.0, 6.5]",
          "[1.5, 0.5]",
          "[2.0, 2.0]",
          "[2.5, 3.5]",
          "[3.5, 5.5]",
          "[3.0, 5.0]",
          "[7.5, 7.5]",
          "[8.0, 7.0]",
          "[8.5, 6.5]",
          "[1.5, 1.0]",
          "[2.0, 2.5]",
          "[4.5, 7.0]",
          "[4.0, 6.5]",
          "[2.5, 4.0]",
          "[3.5, 6.0]",
          "[3.0, 5.5]",
          "[7.5, 8.0]",
          "[8.0, 7.5]",
          "[8.5, 7.0]",
          "[1.0, 0]",
          "[1.5, 1.5]",
          "[2.0, 3.0]",
          "[2.5, 4.5]",
          "[4.5, 7.5]",
          "[4.0, 7.0]",
          "[3.5, 6.5]",
          "[3.0, 6.0]",
          "[7.5, 8.5]",
          "[8.0, 8.0]",
          "[8.5, 7.5]",
          "[1.0, 0.5]",
          "[1.5, 2.0]",
          "[2.0, 3.5]",
          "[2.5, 5.0]",
          "[9.0, 6.5]",
          "[4.5, 8.0]",
          "[4.0, 7.5]",
          "[3.5, 7.0]",
          "[3.0, 6.5]"
         ],
         "textposition": "middle center",
         "type": "scatter",
         "x": [
          0,
          -1.999528463648834,
          0.4997642318244171,
          1.499764231824417,
          -3.998113854595336,
          -1.500235768175583,
          -0.5002357681755829,
          1.499764231824417,
          -5.993870027434842,
          -3.5002357681755827,
          -2.5002357681755827,
          -0.5002357681755829,
          1.499764231824417,
          0.4997642318244171,
          -7.98113854595336,
          -5.500235768175583,
          -4.500235768175583,
          -2.5002357681755827,
          -0.5002357681755829,
          1.499764231824417,
          -1.500235768175583,
          -9.942944101508916,
          -7.500235768175583,
          -6.500235768175583,
          -4.500235768175583,
          -2.5002357681755827,
          -0.5002357681755829,
          1.499764231824417,
          -3.5002357681755827,
          -11.828360768175582,
          -9.500235768175582,
          -8.500235768175582,
          -4.500235768175583,
          -2.5002357681755827,
          -0.5002357681755829,
          1.499764231824417,
          0.4997642318244171,
          -5.500235768175583,
          -13.484610768175582,
          -11.500235768175582,
          -10.500235768175582,
          -4.500235768175583,
          -2.5002357681755827,
          -0.5002357681755829,
          1.499764231824417,
          -1.500235768175583,
          -7.500235768175583,
          -14.468985768175582,
          -12.500235768175582,
          -4.500235768175583,
          -2.5002357681755827,
          -0.5002357681755829,
          -3.5002357681755827,
          -9.500235768175582,
          -12.500235768175582,
          -4.500235768175583,
          -2.5002357681755827,
          0.4997642318244171,
          -5.500235768175583,
          -11.500235768175582,
          1.499764231824417,
          -12.500235768175582,
          -4.500235768175583,
          -1.500235768175583,
          -7.500235768175583,
          -14.468985768175582,
          -0.5002357681755829,
          -12.500235768175582,
          -3.5002357681755827,
          -9.500235768175582,
          -2.5002357681755827,
          -12.500235768175582,
          0.4997642318244171,
          -5.500235768175583,
          -11.500235768175582,
          1.499764231824417,
          -4.500235768175583,
          -12.500235768175582,
          -1.500235768175583,
          -7.500235768175583,
          -14.468985768175582,
          -0.5002357681755829,
          -12.500235768175582,
          -3.5002357681755827,
          -9.500235768175582,
          -2.5002357681755827,
          -13.250235768175582,
          -11.750235768175582,
          0.4997642318244171,
          -5.500235768175583,
          -11.500235768175582,
          1.499764231824417,
          -4.500235768175583,
          -11.750235768175582,
          -1.500235768175583,
          -7.500235768175583,
          -15.437735768175582,
          -13.500235768175582,
          -0.5002357681755829,
          -11.750235768175582,
          -3.5002357681755827,
          -9.500235768175582,
          -2.5002357681755827,
          -13.250235768175582,
          -16.375235768175582,
          -14.500235768175582,
          -11.750235768175582,
          0.4997642318244171,
          -5.500235768175583,
          -11.500235768175582,
          -4.500235768175583,
          -17.250235768175582,
          -15.500235768175582,
          -12.687735768175582,
          -10.812735768175582,
          -1.500235768175583,
          -7.500235768175583,
          -13.500235768175582,
          -18.000235768175582,
          -16.500235768175582,
          -13.562735768175582,
          -11.812735768175582,
          -10.812735768175582,
          -3.5002357681755827,
          -9.500235768175582,
          -13.750235768175582,
          -12.750235768175582,
          -14.500235768175582,
          -18.500235768175582,
          -17.500235768175582,
          -14.312735768175582,
          -12.812735768175582,
          -11.812735768175582,
          0.4997642318244171,
          -5.500235768175583,
          -11.500235768175582,
          -15.500235768175582,
          -14.250235768175582,
          -13.250235768175582,
          -19.000235768175582,
          -18.000235768175582,
          -14.812735768175582,
          -13.812735768175582,
          -12.812735768175582,
          -1.500235768175583,
          -7.500235768175583,
          -13.500235768175582,
          -16.500235768175582,
          -10.812735768175582,
          -14.750235768175582,
          -13.750235768175582,
          -19.500235768175582,
          -18.500235768175582
         ],
         "y": [
          0,
          -1,
          -1,
          -1,
          -2,
          -2,
          -2,
          -2,
          -3,
          -3,
          -3,
          -3,
          -3,
          -2,
          -4,
          -4,
          -4,
          -4,
          -4,
          -4,
          -3,
          -5,
          -5,
          -5,
          -5,
          -5,
          -5,
          -5,
          -4,
          -6,
          -6,
          -6,
          -6,
          -6,
          -6,
          -6,
          -3,
          -5,
          -7,
          -7,
          -7,
          -7,
          -7,
          -7,
          -7,
          -4,
          -6,
          -8,
          -8,
          -8,
          -8,
          -8,
          -5,
          -7,
          -9,
          -9,
          -9,
          -4,
          -6,
          -8,
          -8,
          -10,
          -10,
          -5,
          -7,
          -9,
          -9,
          -11,
          -6,
          -8,
          -10,
          -12,
          -5,
          -7,
          -9,
          -9,
          -11,
          -13,
          -6,
          -8,
          -10,
          -10,
          -14,
          -7,
          -9,
          -11,
          -15,
          -15,
          -6,
          -8,
          -10,
          -10,
          -12,
          -16,
          -7,
          -9,
          -11,
          -11,
          -11,
          -17,
          -8,
          -10,
          -12,
          -16,
          -12,
          -12,
          -18,
          -7,
          -9,
          -11,
          -13,
          -13,
          -13,
          -19,
          -19,
          -8,
          -10,
          -12,
          -14,
          -14,
          -20,
          -20,
          -20,
          -9,
          -11,
          -17,
          -17,
          -13,
          -15,
          -15,
          -21,
          -21,
          -21,
          -8,
          -10,
          -12,
          -14,
          -18,
          -18,
          -16,
          -16,
          -22,
          -22,
          -22,
          -9,
          -11,
          -13,
          -15,
          -21,
          -19,
          -19,
          -17,
          -17
         ]
        }
       ],
       "layout": {
        "margin": {
         "b": 20,
         "l": 5,
         "r": 5,
         "t": 40
        },
        "showlegend": true,
        "template": {
         "data": {
          "bar": [
           {
            "error_x": {
             "color": "#2a3f5f"
            },
            "error_y": {
             "color": "#2a3f5f"
            },
            "marker": {
             "line": {
              "color": "#E5ECF6",
              "width": 0.5
             },
             "pattern": {
              "fillmode": "overlay",
              "size": 10,
              "solidity": 0.2
             }
            },
            "type": "bar"
           }
          ],
          "barpolar": [
           {
            "marker": {
             "line": {
              "color": "#E5ECF6",
              "width": 0.5
             },
             "pattern": {
              "fillmode": "overlay",
              "size": 10,
              "solidity": 0.2
             }
            },
            "type": "barpolar"
           }
          ],
          "carpet": [
           {
            "aaxis": {
             "endlinecolor": "#2a3f5f",
             "gridcolor": "white",
             "linecolor": "white",
             "minorgridcolor": "white",
             "startlinecolor": "#2a3f5f"
            },
            "baxis": {
             "endlinecolor": "#2a3f5f",
             "gridcolor": "white",
             "linecolor": "white",
             "minorgridcolor": "white",
             "startlinecolor": "#2a3f5f"
            },
            "type": "carpet"
           }
          ],
          "choropleth": [
           {
            "colorbar": {
             "outlinewidth": 0,
             "ticks": ""
            },
            "type": "choropleth"
           }
          ],
          "contour": [
           {
            "colorbar": {
             "outlinewidth": 0,
             "ticks": ""
            },
            "colorscale": [
             [
              0,
              "#0d0887"
             ],
             [
              0.1111111111111111,
              "#46039f"
             ],
             [
              0.2222222222222222,
              "#7201a8"
             ],
             [
              0.3333333333333333,
              "#9c179e"
             ],
             [
              0.4444444444444444,
              "#bd3786"
             ],
             [
              0.5555555555555556,
              "#d8576b"
             ],
             [
              0.6666666666666666,
              "#ed7953"
             ],
             [
              0.7777777777777778,
              "#fb9f3a"
             ],
             [
              0.8888888888888888,
              "#fdca26"
             ],
             [
              1,
              "#f0f921"
             ]
            ],
            "type": "contour"
           }
          ],
          "contourcarpet": [
           {
            "colorbar": {
             "outlinewidth": 0,
             "ticks": ""
            },
            "type": "contourcarpet"
           }
          ],
          "heatmap": [
           {
            "colorbar": {
             "outlinewidth": 0,
             "ticks": ""
            },
            "colorscale": [
             [
              0,
              "#0d0887"
             ],
             [
              0.1111111111111111,
              "#46039f"
             ],
             [
              0.2222222222222222,
              "#7201a8"
             ],
             [
              0.3333333333333333,
              "#9c179e"
             ],
             [
              0.4444444444444444,
              "#bd3786"
             ],
             [
              0.5555555555555556,
              "#d8576b"
             ],
             [
              0.6666666666666666,
              "#ed7953"
             ],
             [
              0.7777777777777778,
              "#fb9f3a"
             ],
             [
              0.8888888888888888,
              "#fdca26"
             ],
             [
              1,
              "#f0f921"
             ]
            ],
            "type": "heatmap"
           }
          ],
          "histogram": [
           {
            "marker": {
             "pattern": {
              "fillmode": "overlay",
              "size": 10,
              "solidity": 0.2
             }
            },
            "type": "histogram"
           }
          ],
          "histogram2d": [
           {
            "colorbar": {
             "outlinewidth": 0,
             "ticks": ""
            },
            "colorscale": [
             [
              0,
              "#0d0887"
             ],
             [
              0.1111111111111111,
              "#46039f"
             ],
             [
              0.2222222222222222,
              "#7201a8"
             ],
             [
              0.3333333333333333,
              "#9c179e"
             ],
             [
              0.4444444444444444,
              "#bd3786"
             ],
             [
              0.5555555555555556,
              "#d8576b"
             ],
             [
              0.6666666666666666,
              "#ed7953"
             ],
             [
              0.7777777777777778,
              "#fb9f3a"
             ],
             [
              0.8888888888888888,
              "#fdca26"
             ],
             [
              1,
              "#f0f921"
             ]
            ],
            "type": "histogram2d"
           }
          ],
          "histogram2dcontour": [
           {
            "colorbar": {
             "outlinewidth": 0,
             "ticks": ""
            },
            "colorscale": [
             [
              0,
              "#0d0887"
             ],
             [
              0.1111111111111111,
              "#46039f"
             ],
             [
              0.2222222222222222,
              "#7201a8"
             ],
             [
              0.3333333333333333,
              "#9c179e"
             ],
             [
              0.4444444444444444,
              "#bd3786"
             ],
             [
              0.5555555555555556,
              "#d8576b"
             ],
             [
              0.6666666666666666,
              "#ed7953"
             ],
             [
              0.7777777777777778,
              "#fb9f3a"
             ],
             [
              0.8888888888888888,
              "#fdca26"
             ],
             [
              1,
              "#f0f921"
             ]
            ],
            "type": "histogram2dcontour"
           }
          ],
          "mesh3d": [
           {
            "colorbar": {
             "outlinewidth": 0,
             "ticks": ""
            },
            "type": "mesh3d"
           }
          ],
          "parcoords": [
           {
            "line": {
             "colorbar": {
              "outlinewidth": 0,
              "ticks": ""
             }
            },
            "type": "parcoords"
           }
          ],
          "pie": [
           {
            "automargin": true,
            "type": "pie"
           }
          ],
          "scatter": [
           {
            "fillpattern": {
             "fillmode": "overlay",
             "size": 10,
             "solidity": 0.2
            },
            "type": "scatter"
           }
          ],
          "scatter3d": [
           {
            "line": {
             "colorbar": {
              "outlinewidth": 0,
              "ticks": ""
             }
            },
            "marker": {
             "colorbar": {
              "outlinewidth": 0,
              "ticks": ""
             }
            },
            "type": "scatter3d"
           }
          ],
          "scattercarpet": [
           {
            "marker": {
             "colorbar": {
              "outlinewidth": 0,
              "ticks": ""
             }
            },
            "type": "scattercarpet"
           }
          ],
          "scattergeo": [
           {
            "marker": {
             "colorbar": {
              "outlinewidth": 0,
              "ticks": ""
             }
            },
            "type": "scattergeo"
           }
          ],
          "scattergl": [
           {
            "marker": {
             "colorbar": {
              "outlinewidth": 0,
              "ticks": ""
             }
            },
            "type": "scattergl"
           }
          ],
          "scattermap": [
           {
            "marker": {
             "colorbar": {
              "outlinewidth": 0,
              "ticks": ""
             }
            },
            "type": "scattermap"
           }
          ],
          "scattermapbox": [
           {
            "marker": {
             "colorbar": {
              "outlinewidth": 0,
              "ticks": ""
             }
            },
            "type": "scattermapbox"
           }
          ],
          "scatterpolar": [
           {
            "marker": {
             "colorbar": {
              "outlinewidth": 0,
              "ticks": ""
             }
            },
            "type": "scatterpolar"
           }
          ],
          "scatterpolargl": [
           {
            "marker": {
             "colorbar": {
              "outlinewidth": 0,
              "ticks": ""
             }
            },
            "type": "scatterpolargl"
           }
          ],
          "scatterternary": [
           {
            "marker": {
             "colorbar": {
              "outlinewidth": 0,
              "ticks": ""
             }
            },
            "type": "scatterternary"
           }
          ],
          "surface": [
           {
            "colorbar": {
             "outlinewidth": 0,
             "ticks": ""
            },
            "colorscale": [
             [
              0,
              "#0d0887"
             ],
             [
              0.1111111111111111,
              "#46039f"
             ],
             [
              0.2222222222222222,
              "#7201a8"
             ],
             [
              0.3333333333333333,
              "#9c179e"
             ],
             [
              0.4444444444444444,
              "#bd3786"
             ],
             [
              0.5555555555555556,
              "#d8576b"
             ],
             [
              0.6666666666666666,
              "#ed7953"
             ],
             [
              0.7777777777777778,
              "#fb9f3a"
             ],
             [
              0.8888888888888888,
              "#fdca26"
             ],
             [
              1,
              "#f0f921"
             ]
            ],
            "type": "surface"
           }
          ],
          "table": [
           {
            "cells": {
             "fill": {
              "color": "#EBF0F8"
             },
             "line": {
              "color": "white"
             }
            },
            "header": {
             "fill": {
              "color": "#C8D4E3"
             },
             "line": {
              "color": "white"
             }
            },
            "type": "table"
           }
          ]
         },
         "layout": {
          "annotationdefaults": {
           "arrowcolor": "#2a3f5f",
           "arrowhead": 0,
           "arrowwidth": 1
          },
          "autotypenumbers": "strict",
          "coloraxis": {
           "colorbar": {
            "outlinewidth": 0,
            "ticks": ""
           }
          },
          "colorscale": {
           "diverging": [
            [
             0,
             "#8e0152"
            ],
            [
             0.1,
             "#c51b7d"
            ],
            [
             0.2,
             "#de77ae"
            ],
            [
             0.3,
             "#f1b6da"
            ],
            [
             0.4,
             "#fde0ef"
            ],
            [
             0.5,
             "#f7f7f7"
            ],
            [
             0.6,
             "#e6f5d0"
            ],
            [
             0.7,
             "#b8e186"
            ],
            [
             0.8,
             "#7fbc41"
            ],
            [
             0.9,
             "#4d9221"
            ],
            [
             1,
             "#276419"
            ]
           ],
           "sequential": [
            [
             0,
             "#0d0887"
            ],
            [
             0.1111111111111111,
             "#46039f"
            ],
            [
             0.2222222222222222,
             "#7201a8"
            ],
            [
             0.3333333333333333,
             "#9c179e"
            ],
            [
             0.4444444444444444,
             "#bd3786"
            ],
            [
             0.5555555555555556,
             "#d8576b"
            ],
            [
             0.6666666666666666,
             "#ed7953"
            ],
            [
             0.7777777777777778,
             "#fb9f3a"
            ],
            [
             0.8888888888888888,
             "#fdca26"
            ],
            [
             1,
             "#f0f921"
            ]
           ],
           "sequentialminus": [
            [
             0,
             "#0d0887"
            ],
            [
             0.1111111111111111,
             "#46039f"
            ],
            [
             0.2222222222222222,
             "#7201a8"
            ],
            [
             0.3333333333333333,
             "#9c179e"
            ],
            [
             0.4444444444444444,
             "#bd3786"
            ],
            [
             0.5555555555555556,
             "#d8576b"
            ],
            [
             0.6666666666666666,
             "#ed7953"
            ],
            [
             0.7777777777777778,
             "#fb9f3a"
            ],
            [
             0.8888888888888888,
             "#fdca26"
            ],
            [
             1,
             "#f0f921"
            ]
           ]
          },
          "colorway": [
           "#636efa",
           "#EF553B",
           "#00cc96",
           "#ab63fa",
           "#FFA15A",
           "#19d3f3",
           "#FF6692",
           "#B6E880",
           "#FF97FF",
           "#FECB52"
          ],
          "font": {
           "color": "#2a3f5f"
          },
          "geo": {
           "bgcolor": "white",
           "lakecolor": "white",
           "landcolor": "#E5ECF6",
           "showlakes": true,
           "showland": true,
           "subunitcolor": "white"
          },
          "hoverlabel": {
           "align": "left"
          },
          "hovermode": "closest",
          "mapbox": {
           "style": "light"
          },
          "paper_bgcolor": "white",
          "plot_bgcolor": "#E5ECF6",
          "polar": {
           "angularaxis": {
            "gridcolor": "white",
            "linecolor": "white",
            "ticks": ""
           },
           "bgcolor": "#E5ECF6",
           "radialaxis": {
            "gridcolor": "white",
            "linecolor": "white",
            "ticks": ""
           }
          },
          "scene": {
           "xaxis": {
            "backgroundcolor": "#E5ECF6",
            "gridcolor": "white",
            "gridwidth": 2,
            "linecolor": "white",
            "showbackground": true,
            "ticks": "",
            "zerolinecolor": "white"
           },
           "yaxis": {
            "backgroundcolor": "#E5ECF6",
            "gridcolor": "white",
            "gridwidth": 2,
            "linecolor": "white",
            "showbackground": true,
            "ticks": "",
            "zerolinecolor": "white"
           },
           "zaxis": {
            "backgroundcolor": "#E5ECF6",
            "gridcolor": "white",
            "gridwidth": 2,
            "linecolor": "white",
            "showbackground": true,
            "ticks": "",
            "zerolinecolor": "white"
           }
          },
          "shapedefaults": {
           "line": {
            "color": "#2a3f5f"
           }
          },
          "ternary": {
           "aaxis": {
            "gridcolor": "white",
            "linecolor": "white",
            "ticks": ""
           },
           "baxis": {
            "gridcolor": "white",
            "linecolor": "white",
            "ticks": ""
           },
           "bgcolor": "#E5ECF6",
           "caxis": {
            "gridcolor": "white",
            "linecolor": "white",
            "ticks": ""
           }
          },
          "title": {
           "x": 0.05
          },
          "xaxis": {
           "automargin": true,
           "gridcolor": "white",
           "linecolor": "white",
           "ticks": "",
           "title": {
            "standoff": 15
           },
           "zerolinecolor": "white",
           "zerolinewidth": 2
          },
          "yaxis": {
           "automargin": true,
           "gridcolor": "white",
           "linecolor": "white",
           "ticks": "",
           "title": {
            "standoff": 15
           },
           "zerolinecolor": "white",
           "zerolinewidth": 2
          }
         }
        },
        "title": {
         "text": "Arbol A*"
        },
        "xaxis": {
         "showgrid": false,
         "zeroline": false
        },
        "yaxis": {
         "showgrid": false,
         "zeroline": false
        }
       }
      }
     },
     "metadata": {},
     "output_type": "display_data"
    },
    {
     "data": {
      "image/png": "[encoded data removed]",
      "text/plain": [
       "<Figure size 640x480 with 1 Axes>"
      ]
     },
     "metadata": {},
     "output_type": "display_data"
    }
   ],
   "source": [
    "ejecutar_ASTAR(origen, meta)"
   ]
  },
  {
   "cell_type": "code",
   "execution_count": null,
   "id": "8b488dd5",
   "metadata": {},
   "outputs": [],
   "source": []
  }
 ],
 "metadata": {
  "kernelspec": {
   "display_name": "myenv",
   "language": "python",
   "name": "python3"
  },
  "language_info": {
   "codemirror_mode": {
    "name": "ipython",
    "version": 3
   },
   "file_extension": ".py",
   "mimetype": "text/x-python",
   "name": "python",
   "nbconvert_exporter": "python",
   "pygments_lexer": "ipython3",
   "version": "3.10.16"
  }
 },
 "nbformat": 4,
 "nbformat_minor": 5
}
