{
 "cells": [
  {
   "cell_type": "code",
   "execution_count": 61,
   "id": "23a12e79",
   "metadata": {},
   "outputs": [],
   "source": [
    "import matplotlib.pyplot as plt\n",
    "from matplotlib.animation import FuncAnimation\n",
    "import numpy as np\n",
    "import igraph\n",
    "from igraph import Graph, EdgeSeq\n",
    "import plotly.graph_objects as go"
   ]
  },
  {
   "cell_type": "code",
   "execution_count": 62,
   "id": "e47ade6e",
   "metadata": {},
   "outputs": [],
   "source": [
    "def get_nodos(raiz):\n",
    "    nodos = []\n",
    "    por_visitar = [raiz]\n",
    "    visitados = []\n",
    "\n",
    "    while por_visitar != []:\n",
    "        nodo = por_visitar.pop(0)\n",
    "        if (nodo in visitados) or (nodo in nodos):\n",
    "            continue\n",
    "        nodos.append(nodo)\n",
    "        por_visitar += nodo.hijos\n",
    "        visitados.append(nodo)\n",
    "\n",
    "    return nodos"
   ]
  },
  {
   "cell_type": "code",
   "execution_count": 63,
   "id": "373c519d",
   "metadata": {},
   "outputs": [],
   "source": [
    "def get_etiquetas(nodos):\n",
    "    labels = []\n",
    "    for nodo in nodos:\n",
    "        labels.append(\n",
    "            str(nodo.pos)\n",
    "        )\n",
    "    return labels"
   ]
  },
  {
   "cell_type": "code",
   "execution_count": 64,
   "id": "967b0cb0",
   "metadata": {},
   "outputs": [],
   "source": [
    "def crear_grafo(nodos, etiquetas):\n",
    "    \n",
    "    g = Graph(directed = True)\n",
    "\n",
    "    for nodo in nodos:\n",
    "        g.add_vertex(etiquetas[nodos.index(nodo)])\n",
    "    padre_hijo = []\n",
    "    for nodo in nodos:\n",
    "        \n",
    "        padre_hijo.append([nodo.papa, nodo])\n",
    "    for r in padre_hijo:\n",
    "        if r[0]:  # tiene papa\n",
    "            g.add_edge(etiquetas[nodos.index(r[0])], etiquetas[nodos.index(r[1])])\n",
    "\n",
    "    edges = [e.tuple for e in g.es]\n",
    "    \n",
    "    return g, edges\n",
    "    "
   ]
  },
  {
   "cell_type": "code",
   "execution_count": 65,
   "id": "4ff27e2c",
   "metadata": {},
   "outputs": [],
   "source": [
    "def dibujar_grafo(grafo, labels, title):\n",
    "    # Encontrar raíz: nodo sin padres (grado de entrada 0)\n",
    "    raices = [v.index for v in grafo.vs if grafo.degree(v, mode=\"in\") == 0]\n",
    "    if len(raices) != 1:\n",
    "        return f\"SHay {len(raices)}, imposible ejecutar\"\n",
    "    root_idx = raices[0]\n",
    "\n",
    "    layout = grafo.layout_reingold_tilford(mode=\"out\", root=[root_idx]) # out, que no se graficque hacia los lados, sino hacia abajo\n",
    "\n",
    "    Xn = [pos[0] for pos in layout]\n",
    "    Yn = [-pos[1] for pos in layout]  # y negativa: hacia abajo\n",
    "\n",
    "    Xe, Ye = [], []\n",
    "    for edge in grafo.get_edgelist():\n",
    "        Xe += [Xn[edge[0]], Xn[edge[1]], None]\n",
    "        Ye += [Yn[edge[0]], Yn[edge[1]], None]\n",
    "\n",
    "    trace_edges = go.Scatter(\n",
    "        x=Xe, y=Ye,\n",
    "        mode="lines",\n",
    "        line=dict(width=1, color="gray"),\n",
    "        hoverinfo="none"\n",
    "    )\n",
    "\n",
    "    trace_nodes = go.Scatter(\n",
    "        x=Xn, y=Yn,\n",
    "        mode="markers",\n",
    "        marker=dict(symbol=\"circle-dot\", size=30, color=\"lightblue\", line=dict(width=2)),\n",
    "        text=labels,\n",
    "        textposition=\"middle center\",\n",
    "        hoverinfo=\"text\"\n",
    "    )\n",
    "\n",
    "    fig = go.Figure(data=[trace_edges, trace_nodes],\n",
    "                    layout=go.Layout(title=title,\n",
    "                                     showlegend=True,\n",
    "                                     margin=dict(b=20, l=5, r=5, t=40),\n",
    "                                     xaxis=dict(showgrid=False, zeroline=False),\n",
    "                                     yaxis=dict(showgrid=False, zeroline=False)))\n",
    "    fig.show()\n"
   ]
  },
  {
   "cell_type": "code",
   "execution_count": 66,
   "id": "0a5e4b34",
   "metadata": {},
   "outputs": [],
   "source": [
    "def dibujar_grafo_anim(grafo, labels, title):\n",
    "    raices = [v.index for v in grafo.vs if grafo.degree(v, mode=\"in\") == 0]\n",
    "    if len(raices) != 1:\n",
    "        raise ValueError(f\"Se esperaba 1 raíz, pero hay {len(raices)}\")\n",
    "\n",
    "    root_idx = raices[0]\n",
    "    layout = grafo.layout_reingold_tilford(mode=\"out\", root=[root_idx])\n",
    "    Xn = [pos[0] for pos in layout]\n",
    "    Yn = [-pos[1] for pos in layout]\n",
    "\n",
    "    # Preparar nodos y aristas para cada frame\n",
    "    frames = []\n",
    "    num_nodos = len(grafo.vs)\n",
    "    for i in range(1, num_nodos + 1):\n",
    "        # Aristas visibles hasta este nodo\n",
    "        Xe, Ye = [], []\n",
    "        for edge in grafo.get_edgelist():\n",
    "            if edge[0] < i and edge[1] < i:\n",
    "                Xe += [Xn[edge[0]], Xn[edge[1]], None]\n",
    "                Ye += [Yn[edge[0]], Yn[edge[1]], None]\n",
    "\n",
    "        trace_edges = go.Scatter(\n",
    "            x=Xe, y=Ye,\n",
    "            mode="lines",\n",
    "            line=dict(width=1, color="gray"),\n",
    "            hoverinfo="none"\n",
    "        )\n",
    "\n",
    "        trace_nodes = go.Scatter(\n",
    "            x=Xn[:i], y=Yn[:i],\n",
    "            mode="markers",\n",
    "            marker=dict(symbol=\"circle-dot\", size=30, color=\"lightblue\", line=dict(width=2)),\n",
    "            text=labels[:i],\n",
    "            textposition=\"middle center\",\n",
    "            hoverinfo=\"text\"\n",
    "        )\n",
    "\n",
    "        frames.append(go.Frame(data=[trace_edges, trace_nodes], name=str(i)))\n",
    "\n",
    "    # Frame inicial\n",
    "    initial_edges = go.Scatter(x=[], y=[], mode="lines")\n",
    "    initial_nodes = go.Scatter(x=[], y=[], mode="markers")\n",
    "\n",
    "    fig = go.Figure(\n",
    "        data=[initial_edges, initial_nodes],\n",
    "        layout=go.Layout(\n",
    "            title=title,\n",
    "            showlegend=True,\n",
    "            margin=dict(b=20, l=7, r=5, t=40),\n",
    "            xaxis=dict(showgrid=False, zeroline=False),\n",
    "            yaxis=dict(showgrid=False, zeroline=False),\n",
    "            updatemenus=[dict(\n",
    "                type=\"buttons\",\n",
    "                buttons=[dict(label=\" > Reproducir\",\n",
    "                              method=\"animate\",\n",
    "                              args=[None, {\"frame\": {\"duration\": 500, \"redraw\": True},\n",
    "                                           \"fromcurrent\": True, \"transition\": {\"duration\": 0}}])],\n",
    "                showactive=False,\n",
    "                x=0.1, y=-0.1\n",
    "            )]\n",
    "        ),\n",
    "        frames=frames\n",
    "    )\n",
    "\n",
    "    fig.show()\n"
   ]
  },
  {
   "cell_type": "code",
   "execution_count": 67,
   "id": "2585fc7c",
   "metadata": {},
   "outputs": [],
   "source": [
    "def dibujar(gp):\n",
    "    plt.grid(True)\n",
    "    plt.scatter(gp[0], gp[1], c=\"c\") # dibula la posicion de la meta\n",
    "    plt.plot([0,0,10, 10,0], [0,10,10,0,0]) # dibujamos un cuadro delimitando el espacio de trabajo"
   ]
  },
  {
   "cell_type": "code",
   "execution_count": 68,
   "id": "fceeb98e",
   "metadata": {},
   "outputs": [],
   "source": [
    "expandidos = []\n",
    "mov = 0.5 # tamanio de paso del robot"
   ]
  },
  {
   "cell_type": "code",
   "execution_count": 69,
   "id": "f5ccaa6d",
   "metadata": {},
   "outputs": [],
   "source": [
    "class Obstaculo():\n",
    "    def __init__(self, v1, v2):\n",
    "        self.v1 = v1 # esquina superior\n",
    "        self.v2 = v2 # esquina inferior\n",
    "\n",
    "    def en_colision(self, punto):\n",
    "        if self.v1[0] <= punto[0] <= self.v2[0] and self.v2[1] <= punto[1] <= self.v1[1]:\n",
    "            return True\n",
    "        return False\n",
    "    \n",
    "    def dibuja(self):\n",
    "        x = [self.v1[0], self.v2[0], self.v2[0], self.v1[0], self.v1[0]]\n",
    "        y = [self.v1[1], self.v1[1], self.v2[1], self.v2[1], self.v1[1]]\n",
    "        plt.plot(x,y)\n",
    "        \n"
   ]
  },
  {
   "cell_type": "code",
   "execution_count": 70,
   "id": "e1cf6324",
   "metadata": {},
   "outputs": [],
   "source": [
    "def es_punto_valido(punto, obstaculos, limites):\n",
    "    # esta en el limite permitido?\n",
    "    if limites[0] <= punto[0] <= limites[2] and limites[1] <= punto[1] <= limites[3] :\n",
    "        # Hay colision\n",
    "        for o in obstaculos:\n",
    "            if o.en_colision(punto):\n",
    "                return False\n",
    "        return True\n",
    "    return False"
   ]
  },
  {
   "cell_type": "code",
   "execution_count": 71,
   "id": "40ffb69a",
   "metadata": {},
   "outputs": [],
   "source": [
    "class Nodo():\n",
    "    def __init__(self, pos, papa = None):\n",
    "        self.pos = pos\n",
    "        self.hijos = []\n",
    "        self.papa = papa\n",
    "\n",
    "    def genera_hijos(self, obstaculos, limites):\n",
    "        global expandidos\n",
    "        \n",
    "        # uno arriba\n",
    "        pos_arriba = self.pos[:]\n",
    "        pos_arriba[1] += mov\n",
    "\n",
    "        # uno abajo\n",
    "        pos_abajo = self.pos[:]\n",
    "        pos_abajo[1] -= mov\n",
    "        \n",
    "        # uno izq\n",
    "        pos_izq = self.pos[:]\n",
    "        pos_izq [0] -= mov\n",
    "        \n",
    "        # uno der\n",
    "        pos_der = self.pos[:]\n",
    "        pos_der[0] += mov\n",
    "        \n",
    "        if es_punto_valido(pos_arriba, obstaculos, limites):\n",
    "            # self.hijos.append(Nodo(pos_arriba, self))\n",
    "            hijo = self.__class__(pos_arriba, self)\n",
    "            if hijo not in expandidos:\n",
    "                expandidos.append(hijo)\n",
    "            self.hijos.append(hijo)\n",
    "\n",
    "        if es_punto_valido(pos_abajo, obstaculos, limites):\n",
    "            hijo = self.__class__(pos_abajo, self)\n",
    "            if hijo not in expandidos:\n",
    "                expandidos.append(hijo)\n",
    "            self.hijos.append(hijo)\n",
    "        \n",
    "        if es_punto_valido(pos_izq, obstaculos, limites):\n",
    "            hijo = self.__class__(pos_izq, self)\n",
    "            if hijo not in expandidos:\n",
    "                expandidos.append(hijo)\n",
    "            self.hijos.append(hijo)\n",
    "        \n",
    "        if es_punto_valido(pos_der, obstaculos, limites):\n",
    "            hijo = self.__class__(pos_der, self)\n",
    "            if hijo not in expandidos:\n",
    "                expandidos.append(hijo)\n",
    "            self.hijos.append(hijo)\n",
    "\n",
    "    def __eq__(self, n2):\n",
    "        return self.pos == n2.pos\n",
    "\n",
    "    def __str__(self):\n",
    "        s = f\"{self.pos[0]}, {self.pos[1]}\"\n",
    "        return s\n",
    "\n",
    "    def bpp(self, meta, robot, visitados = []):\n",
    "        \n",
    "        if self in visitados:\n",
    "            return None\n",
    "        \n",
    "        #expandidos.append(self)\n",
    "\n",
    "        if self.pos == meta:\n",
    "            return [self]\n",
    "\n",
    "        self.genera_hijos(robot.obstaculos, robot.limites)\n",
    "        visitados.append(self)\n",
    "\n",
    "        for h in self.hijos:\n",
    "            resp = h.bpp(meta, robot, visitados)\n",
    "            if resp:\n",
    "                resp.append(self)\n",
    "                return resp\n",
    "        \n",
    "        return None\n",
    "\n",
    "    def bpa(self, meta, robot, visitados = []):\n",
    "        \n",
    "        if self.pos == meta:\n",
    "            return [self]\n",
    "        \n",
    "        if self in visitados:\n",
    "            return None\n",
    "        \n",
    "        self.genera_hijos(robot.obstaculos, robot.limites)\n",
    "        visitados.append(self)\n",
    "\n",
    "        #expandidos.append(self)\n",
    "\n",
    "        por_visitar = self.hijos[:]\n",
    "\n",
    "        while por_visitar!= []:\n",
    "            h = por_visitar.pop(0)\n",
    "\n",
    "            if h in visitados:\n",
    "                continue\n",
    "\n",
    "            #expandidos.append(h)\n",
    "            \n",
    "            if h.pos == meta:\n",
    "                camino = [h]\n",
    "                papa = h.papa\n",
    "                while papa:\n",
    "                    camino.append(papa)\n",
    "                    papa = papa.papa\n",
    "                print(\"camino guardado...\")\n",
    "                print\n",
    "                camino.reverse()\n",
    "                return camino\n",
    "            \n",
    "            h.genera_hijos(robot.obstaculos, robot.limites)\n",
    "            visitados.append(h)\n",
    "            por_visitar += h.hijos\n",
    "        \n",
    "        return None"
   ]
  },
  {
   "cell_type": "code",
   "execution_count": null,
   "id": "36d71807",
   "metadata": {},
   "outputs": [],
   "source": [
    "class Robot():\n",
    "    def __init__(self, pos = [5,5], limites = [0,0,10,10], obstaculos = []):\n",
    "        self.pos = pos\n",
    "        self.limites = limites\n",
    "        self.obstaculos = obstaculos\n",
    "        self.trajectory = []\n",
    "        self.raiz = None\n",
    "    \n",
    "    def agrega_obstaculo(self, obs):\n",
    "        self.obstaculos.append(obs)\n",
    "\n",
    "    def plot_robot(self):\n",
    "        plt.scatter(self.pos[0], self.pos[1])\n",
    "\n",
    "    def BPP(self, meta, visitados = []):\n",
    "        self.raiz = Nodo(self.pos)\n",
    "        expandidos.append(self.raiz)\n",
    "        camino = self.raiz.bpp(meta, self)\n",
    "        camino.reverse()\n",
    "        self.trajectory = []\n",
    "        for paso in camino:\n",
    "            self.trajectory += paso.pos\n",
    "        return camino\n",
    "\n",
    "    def BPA(self, meta, visitados = []):\n",
    "        self.raiz = Nodo(self.pos)\n",
    "        expandidos.append(self.raiz)\n",
    "        camino = self.raiz.bpa(meta, self)\n",
    "        self.trajectory = []\n",
    "\n",
    "        for paso in camino:\n",
    "            self.trajectory += paso.pos\n",
    "        return camino\n",
    "        \n"
   ]
  },
  {
   "cell_type": "code",
   "execution_count": 73,
   "id": "2caa9afe",
   "metadata": {},
   "outputs": [],
   "source": [
    "def plot_space(robot, expandidos, camino):\n",
    "    # Creamos la figura y los ejes\n",
    "    fig, ax = plt.subplots()\n",
    "\n",
    "    x_points = robot.trajectory[0::2]\n",
    "    y_points = robot.trajectory[1::2]\n",
    "    ax.set_xlim(min(x_points) - 1, max(x_points) + 1)\n",
    "    ax.set_ylim(min(y_points) - 1, max(y_points) + 1)\n",
    "\n",
    "    for obstaculo in robot.obstaculos:\n",
    "        obstaculo.dibuja()\n",
    "    robot.plot_robot()\n",
    "    dibujar([8,8])\n",
    "\n",
    "    # Línea inicial vacía\n",
    "    line, = ax.plot([], [], "b-")\n",
    "\n",
    "    # Función de inicialización\n",
    "    def init():\n",
    "        line.set_data([], [])\n",
    "        return line,\n",
    "\n",
    "    def update(frame):\n",
    "        line.set_data(x_points[:frame], y_points[:frame])\n",
    "        return line,\n",
    "\n",
    "    # Creamos la animación\n",
    "    ani = FuncAnimation(\n",
    "        fig, update, frames=len(x_points),\n",
    "        init_func=init, blit=True, interval=100\n",
    "    )\n",
    "\n",
    "    plt.title(\"Camino del robot con BPP\")\n",
    "    plt.grid(visible=True)\n",
    "    # Mostramos la animación\n",
    "    plt.show()\n"
   ]
  },
  {
   "cell_type": "code",
   "execution_count": 74,
   "id": "27f2272a",
   "metadata": {},
   "outputs": [
    {
     "name": "stdout",
     "output_type": "stream",
     "text": [
      "8.0, 8.0\n",
      "8.0, 8.5\n",
      "8.0, 9.0\n",
      "8.0, 9.5\n",
      "8.0, 10.0\n",
      "7.5, 10.0\n",
      "7.5, 9.5\n",
      "7.0, 9.5\n",
      "7.0, 10.0\n",
      "6.5, 10.0\n",
      "6.5, 9.5\n",
      "6.0, 9.5\n",
      "6.0, 10.0\n",
      "5.5, 10.0\n",
      "5.5, 9.5\n",
      "5.0, 9.5\n",
      "5.0, 10.0\n",
      "4.5, 10.0\n",
      "4.5, 9.5\n",
      "4.5, 9.0\n",
      "4.5, 8.5\n",
      "4.5, 8.0\n",
      "4.5, 7.5\n",
      "4.5, 7.0\n",
      "4.5, 6.5\n",
      "4.0, 6.5\n",
      "4.0, 7.0\n",
      "4.0, 7.5\n",
      "4.0, 8.0\n",
      "4.0, 8.5\n",
      "4.0, 9.0\n",
      "4.0, 9.5\n",
      "4.0, 10.0\n",
      "3.5, 10.0\n",
      "3.5, 9.5\n",
      "3.5, 9.0\n",
      "3.5, 8.5\n",
      "3.5, 8.0\n",
      "3.5, 7.5\n",
      "3.5, 7.0\n",
      "3.5, 6.5\n",
      "3.5, 6.0\n",
      "3.5, 5.5\n",
      "3.5, 5.0\n",
      "3.5, 4.5\n",
      "3.5, 4.0\n",
      "3.5, 3.5\n",
      "4.0, 3.5\n",
      "4.0, 3.0\n",
      "4.0, 2.5\n",
      "4.0, 2.0\n",
      "4.0, 1.5\n",
      "4.0, 1.0\n",
      "4.0, 0.5\n",
      "4.0, 0.0\n",
      "4.5, 0.0\n",
      "4.5, 0.5\n",
      "4.5, 1.0\n",
      "4.5, 1.5\n",
      "4.5, 2.0\n",
      "4.5, 2.5\n",
      "4.5, 3.0\n",
      "4.5, 3.5\n",
      "5, 3.5\n",
      "5, 3.0\n",
      "5, 2.5\n",
      "5, 2.0\n",
      "5, 1.5\n",
      "5, 1.0\n",
      "5, 0.5\n",
      "5, 0\n"
     ]
    },
    {
     "data": {
      "image/png": "iVBORw0KGgoAAAANSUhEUgAAAiMAAAGxCAYAAACwbLZkAAAAOnRFWHRTb2Z0d2FyZQBNYXRwbG90bGliIHZlcnNpb24zLjEwLjAsIGh0dHBzOi8vbWF0cGxvdGxpYi5vcmcvlHJYcgAAAAlwSFlzAAAPYQAAD2EBqD+naQAALxVJREFUeJzt3Xl8U3W+//F3GtJ0oS2yFApdKBdBoCICDqtsBbyyiMu4LyzqqGXUinpxFxTpgL/xMvcqIF4FHAfEGQV1WDtWEARkcYXxIlUUFBmklJZSmibt9/eHt9HYAg2mfFN4PR+PPmi++Z5zPvlwSN6cc5I4jDFGAAAAlkTYLgAAAJzZCCMAAMAqwggAALCKMAIAAKwijAAAAKsIIwAAwCrCCAAAsIowAgAArCKMAAAAqwgjOO18+umnGjt2rNLT0xUVFaWGDRuqa9eumj59ug4ePHjK61m9erUcDodWr159yrd9LAMGDNCAAQNOatnWrVtrzJgxIa2nJvPmzZPD4dCWLVtCts5ly5Zp0qRJIVvfqTRmzBg5HA7/j9PpVHJysq666ipt27YtYG7VPvfzuc2bN9eVV16pzz//3D/v66+/DpgXERGhJk2aaNiwYdqwYcOpfog4gzWwXQAQSi+88IKysrLUvn173X///erYsaO8Xq+2bNmi2bNna8OGDVq8ePEpralr167asGGDOnbseEq3i+qWLVum5557rt4GkujoaOXl5UmSfD6f8vPzNWXKFPXu3Vuff/65WrVqFTB/6tSpGjhwoMrLy7VlyxY98cQTeuedd/TZZ58FzL3zzjt13XXXqaKiQtu3b9fkyZM1cOBAbdiwQeeff/4pfYw4MxFGcNrYsGGD7rjjDg0ZMkRLliyR2+323zdkyBDde++9WrFixSmvKz4+Xj179jzl2w03xhiVlZUpOjradin1VkRERMC+1LdvX6WmpiozM1NLly7V7373u4D5Z599tn9+v3791KhRI918882aN2+eHn74Yf+81NRU/7w+ffqobdu2yszM1MyZM/XCCy+cgkeGMx2naXDamDp1qhwOh+bMmRMQRKpERkbqkksu8d9etGiRhg4dqqSkJEVHR6tDhw564IEHdOTIkYDlxowZo4YNG+p///d/ddFFFyk2NlZJSUn6wx/+IEnauHGj+vbtq9jYWLVr107z588PWL6m0zRV68zPz9ewYcPUsGFDpaSk6N5775XH4wlY/uDBg8rKylKrVq0UGRmpNm3a6OGHH642rybGGE2fPl1paWmKiopS165dtXz58hrnFhcX67777lN6eroiIyPVqlUrZWdnV+tHbTkcDv3+97/X7Nmz1aFDB7ndbn9v1q1bp8zMTMXFxSkmJka9e/fW0qVLa1xPYWGhxo4dq8aNGys2NlYjR47UV199VW3eSy+9pPPOO09RUVFq3LixLrvssoBTEmPGjNFzzz3nr63q5+uvvz7u41ixYoUyMzOVkJCgmJgYdejQQTk5OQFz3nrrLfXq1UsxMTGKi4vTkCFDqp3mmDRpkhwOh7Zv365rr71WCQkJat68ucaNG6eioqIT9vNYEhISJEkul+uEc6sCxzfffBOSeUCoEEZwWqioqFBeXp66deumlJSUWi2zc+dODRs2TC+++KJWrFih7Oxsvfbaaxo5cmS1uV6vV5dffrmGDx+uN998UxdffLEefPBBPfTQQxo9erTGjRunxYsXq3379hozZoy2bt16wu17vV5dcsklyszM1Jtvvqlx48bpP//zPzVt2jT/nLKyMg0cOFAvv/yyJkyYoKVLl+qGG27Q9OnTdfnll59wG5MnT9bEiRP9R4vuuOMO3XrrrdqxY0fAvNLSUvXv31/z58/XXXfdpeXLl2vixImaN2+eLrnkEp3sl3svWbJEs2bN0mOPPaaVK1fqwgsv1Jo1azRo0CAVFRXpxRdf1MKFCxUXF6eRI0dq0aJF1dZx8803KyIiQgsWLNCMGTO0adMmDRgwQIcOHfLPycnJ0c0336xOnTrpjTfe0J/+9Cd9+umn6tWrl3bu3ClJevTRR/Xb3/5W0o9H0ap+kpKSjln/iy++qGHDhqmyslKzZ8/W22+/rbvuukvffvutf86CBQs0atQoxcfHa+HChXrxxRdVWFioAQMGaN26ddXWecUVV6hdu3Z6/fXX9cADD2jBggW65557at1Tn88nn8+nsrIybdu2Tffff7/OOussDR8+/ITL5ufnS5KaNWsWknlAyBjgNLBv3z4jyVxzzTUntXxlZaXxer1mzZo1RpL55JNP/PeNHj3aSDKvv/66f8zr9ZpmzZoZSebDDz/0jxcUFBin02kmTJjgH3v33XeNJPPuu+9WW+drr70WUMewYcNM+/bt/bdnz55d47xp06YZSWbVqlXHfEyFhYUmKirKXHbZZQHj77//vpFk+vfv7x/LyckxERERZvPmzQFz//a3vxlJZtmyZf6xtLQ0M3r06GNut4okk5CQYA4ePBgw3rNnT5OYmGgOHz7sH/P5fCYjI8MkJyebyspKY4wxc+fONZKOWf+UKVP8jzM6OtoMGzYsYN7u3buN2+021113nX9s/PjxprZPe4cPHzbx8fGmb9++/pp+qaKiwrRs2dKce+65pqKiImDZxMRE07t3b//Y448/biSZ6dOnB6wjKyvLREVFHXMbVar2mV/+JCUlmXXr1gXMrdrnFi1aZLxeryktLTXvvfeeadu2rXE6nf79e9euXUaSmTZtmvF6vaasrMxs3brVXHDBBUaSWbp0aa16BfxaHBnBGeurr77SddddpxYtWsjpdMrlcql///6SFHB4X/rxsP6wYcP8txs0aKC2bdsqKSkp4AK/xo0bKzExsVaHtx0OR7WjMJ07dw5YNi8vT7Gxsf7/0VepejfLO++8c8z1b9iwQWVlZbr++usDxnv37q20tLSAsb///e/KyMhQly5d/P/z9vl8uuiii37VO4EGDRqks846y3/7yJEj+uCDD/Tb3/5WDRs29I87nU7deOON+vbbb6sdtTlW/e+++67/cR49erTaO3xSUlI0aNCg4/boeNavX6/i4mJlZWXJ4XDUOGfHjh3au3evbrzxRkVE/PR02rBhQ11xxRXauHGjSktLA5b5+alC6ce/87KyMu3fv/+ENUVHR2vz5s3avHmzPvjgA73xxhtq167dMd/9cvXVV8vlcikmJkb9+vVTRUWF/va3v6lz584B8yZOnCiXy6WoqCh169ZNu3fv1vPPPx+wzwN1iQtYcVpo2rSpYmJitGvXrlrNLykp0YUXXqioqChNmTJF7dq1U0xMjPbs2aPLL79cR48eDZgfExOjqKiogLHIyEg1bty42rojIyNVVlZ2whpqWqfb7Q5YtqCgQC1atKj2YpiYmKgGDRqooKDgmOuvuq9FixbV7vvl2L/+9S/l5+cf87qDAwcOHP/BHMMvT4EUFhbKGFPjqZGWLVsG1H2sWqvGquZV/Xmsdebm5p5U7T/88IMkKTk5+ZhzTrTtyspKFRYWKiYmxj/epEmTgHlV1zf9cp+rSUREhLp37x4wdtFFFyklJUUTJkyoFkimTZumQYMGyel0qmnTpsc8hXn33XfrhhtuUEREhBo1aqT09PRjBjCgLhBGcFpwOp3KzMzU8uXL9e233x73BUT68YjD3r17tXr1av/REEkB1yGEgyZNmuiDDz6QMSbgxWH//v3y+Xxq2rTpcZeVpH379lW7b9++fWrdurX/dtOmTRUdHa2XXnqpxnUdbzvH88sXtLPOOksRERH6/vvvq83du3dvjds6Vv1t27aV9NPjPNY6T7b2quslfn59yC+daNsREREBR4bqQkxMjP7t3/5Nn3zySbX72rRpUy281CQ5OblW84C6wmkanDYefPBBGWN06623qry8vNr9Xq9Xb7/9tqSfXiR/+a6b559/vu4LDUJmZqZKSkq0ZMmSgPGXX37Zf/+x9OzZU1FRUfrLX/4SML5+/fpqp5FGjBihL7/8Uk2aNFH37t2r/fw8uPwasbGx6tGjh954442AIwGVlZV65ZVXlJycrHbt2gUsc6z6qz60rVevXoqOjtYrr7wSMO/bb79VXl5eQI+COQrRu3dvJSQkaPbs2ce8gLd9+/Zq1aqVFixYEDDnyJEjev311/3vsKlLJSUlys/PV2JiYp1uB6hLHBnBaaNXr16aNWuWsrKy1K1bN91xxx3q1KmTvF6vPvroI82ZM0cZGRkaOXKkevfurbPOOku33367Hn/8cblcLv3lL3+p8X+XNt1000167rnnNHr0aH399dc699xztW7dOk2dOlXDhg3T4MGDj7nsWWedpfvuu09TpkzRLbfcoiuvvFJ79uzRpEmTqp36yM7O1uuvv65+/frpnnvuUefOnVVZWandu3dr1apVuvfee9WjR4+QPKacnBwNGTJEAwcO1H333afIyEjNnDlT27Zt08KFC6sdTdmyZUtA/Q8//LBatWqlrKwsSVKjRo306KOP6qGHHtJNN92ka6+9VgUFBZo8ebKioqL0+OOP+9d17rnnSvrx9MXFF18sp9Opzp07KzIyslqdDRs21B//+EfdcsstGjx4sG699VY1b95c+fn5+uSTT/Tss88qIiJC06dP1/XXX68RI0botttuk8fj0dNPP61Dhw753/4dKpWVldq4caP/9++++07/9V//pcLCwnr7QW6AJN5Ng9PPxx9/bEaPHm1SU1NNZGSkiY2NNeeff7557LHHzP79+/3z1q9fb3r16mViYmJMs2bNzC233GI+/PBDI8nMnTvXP2/06NEmNja22nb69+9vOnXqVG08LS3NDB8+3H/7WO+mqWmdVe+4+LmCggJz++23m6SkJNOgQQOTlpZmHnzwQVNWVnbCXlRWVpqcnByTkpJiIiMjTefOnc3bb79t+vfvH/BuGmOMKSkpMY888ohp3769iYyMNAkJCebcc88199xzj9m3b1/A46vtu2nGjx9f431r1641gwYNMrGxsSY6Otr07NnTvP322wFzqt5Ns2rVKnPjjTeaRo0a+d81s3Pnzmrr/J//+R/TuXNnf+2jRo0y27dvD5jj8XjMLbfcYpo1a2YcDoeRZHbt2nXcx7Fs2TLTv39/Exsba2JiYkzHjh3NtGnTAuYsWbLE9OjRw0RFRZnY2FiTmZlp3n///YA5VX+3P/zwQ42P80R11PRumsTERNO/f3+zePHigLlV+9xf//rX466z6t00Tz/99HHnAXXNYcxJfoAAAABACHDNCAAAsIowAgAArCKMAAAAqwgjAADAKsIIAACwijACAACsCrsPPausrNTevXsVFxfHdyMAAFBPGGN0+PBhtWzZMuCLI2sj7MLI3r17j/llTgAAILzt2bPnhN8P9kthF0bi4uIk/fhg4uPjLVcTyOv1atWqVRo6dOgxv90UP6FfwaFfwaNnwaFfwaFfwTl48KDS09P9r+PBCLswUnVqJj4+PizDSExMjOLj49kxa4F+BYd+BY+eBYd+BYd+Bcfr9Uqq/m3dtcEFrAAAwCrCCAAAsIowAgAArCKMAAAAqwgjAADAKsIIAACwijACAACsIowAAACrCCMAAMAqwggAALCKMAIAAKwijAAAAKsIIwAAwCrCCAAAsIowAgAArCKMAAAAqwgjAADAKsIIAACwijACAACsIowAAACrCCMAAMAqwggAALCKMAIAAKwijAAAAKuCDiPvvfeeRo4cqZYtW8rhcGjJkiUB9xtjNGnSJLVs2VLR0dEaMGCAtm/fHqp6AQDAaaZBsAscOXJE5513nsaOHasrrrii2v3Tp0/XM888o3nz5qldu3aaMmWKhgwZoh07diguLq7W26ksLVVlg6DLq1OVXq8c5eU/1uZy2S4n7NGv4NCv4NGz4NCv4NCv4FSWlp70sg5jjDnphR0OLV68WJdeeqmkH4+KtGzZUtnZ2Zo4caIkyePxqHnz5po2bZpuu+22auvweDzyeDz+28XFxUpJSdGmtmerodN5sqUBAIBTqKSiQr/J36mioiLFx8cHtWxIrxnZtWuX9u3bp6FDh/rH3G63+vfvr/Xr19e4TE5OjhISEvw/KSkpoSwJAACEuZCeB9m3b58kqXnz5gHjzZs31zfffFPjMg8++KAmTJjgv111ZKR13jtBJ6u65vX5lJeXp0GDBskVZqeQwhH9Cg79Ch49Cw79Cg79Ck5BYaGUnn5Sy9ZJdx0OR8BtY0y1sSput1tut7v6eEKC3GEWRiK8XpnISLnj4+Xi/OEJ0a/g0K/g0bPg0K/g0K/guH2+k142pKdpWrRoIemnIyRV9u/fX+1oCQAAgBTiMJKenq4WLVooNzfXP1ZeXq41a9aod+/eodwUAAA4TQR9mqakpET5+fn+27t27dLHH3+sxo0bKzU1VdnZ2Zo6darOPvtsnX322Zo6dapiYmJ03XXXhbRwAABwegg6jGzZskUDBw703666+HT06NGaN2+e/uM//kNHjx5VVlaWCgsL1aNHD61atSqozxgBAABnjqDDyIABA3S8jyZxOByaNGmSJk2a9GvqAgAAZwi+mwYAAFhFGAEAAFYRRgAAgFWEEQAAYBVhBAAAWEUYAQAAVhFGAACAVYQRAABgFWEEAABYRRgBAABWEUYAAIBVhBEAAGAVYQQAAFhFGAEAAFYRRgAAgFWEEQAAYBVhBAAAWEUYAQAAVhFGAACAVYQRAABgFWEEAABY1cB2AQAkGSMd+UGR3mKpvEQykbYrqh+8XjkrPFL5Ecm4bFcT/rzeH/c1IMwQRoBwcOSAXDM66GJJ2vZ729XUGy5JIyTpU8uF1BMuSX1jz5bMMNulAAE4TQMAZ5AmR3ZK3lLbZQABODIChANXtP9Xb/bncsUkWCym/vB6vVq5cpUuumioXC5O0xxXean0/9rargKoEWEECAcOx0+/u2KkyFh7tdQnDq8qnO4f+0UYAeotTtMAAACrCCMAAMAqwggAALCKMAIAAKwijAAAAKsIIwAAwCrCCAAAsIowAgAArCKMAAAAqwgjAADAKsIIAACwijACAACsIowAAACrCCMAAMAqwggAALCKMAIAAKwijAAAAKsIIwAAwCrCCAAAsIowAgAArCKMAAAAqwgjAADAKsIIAACwijACAMAvVBijdYcOSZLWHTqkCmPsFnSaC3kY8fl8euSRR5Senq7o6Gi1adNGTzzxhCorK0O9KQAAQu6NH35Q640bNXzbNknS8G3b1HrjRr3xww+WKzt9NQj1CqdNm6bZs2dr/vz56tSpk7Zs2aKxY8cqISFBd999d6g3BwBAyLzxww/67fbtMpKifzb+ncej327frr916qTLmzWzVd5pK+RhZMOGDRo1apSGDx8uSWrdurUWLlyoLVu2hHpTAACETIUxujs/XzWdkDGSHJKy8/M1qmlTOR2OU1zd6S3kYaRv376aPXu2vvjiC7Vr106ffPKJ1q1bpxkzZtQ43+PxyOPx+G8XFxdLkrxer7xeb6jL+1Wq6gm3usIV/QqC1yuX/1efRM9qhX0sCOxjJ7Tu0CEVlJX5j4hE/991ItE/u17kQFmZ3jtwQH0bNTr1BYa5X/PvMORhZOLEiSoqKtI555wjp9OpiooKPfXUU7r22mtrnJ+Tk6PJkydXG1+1apViYmJCXV5I5Obm2i6hXqFfJ+as8GjE//2el5enCqfbaj31DfvYibGP1c7CGsZeOnw44Hbx+vVadmrKqVdKS0tPelmHMaG9RPjVV1/V/fffr6efflqdOnXSxx9/rOzsbD3zzDMaPXp0tfk1HRlJSUnRgQMHFB8fH8rSfjWv16vc3FwNGTJELpfrxAuc4ehXEMqPyPV0miSpNPtLuWITLBdUP7CPBYF97ITWHTrkv2hV+vGIyEuHD2tcXJyO/uy0zNKMDI6M1KCgoEBJSUkqKioK+vU75EdG7r//fj3wwAO65pprJEnnnnuuvvnmG+Xk5NQYRtxut9zu6gnd5XKF7ZNLONcWjuhXLZif+uNyNaBfQWIfqwX2sRPq17SpmkRF6TuPJ+C6kaMOh446HHJISna71Y9rRmr0a/apkL+1t7S0VBERgat1Op28tRcAENacDof+1LatpB8vVv25qtsz2rYliNSBkIeRkSNH6qmnntLSpUv19ddfa/HixXrmmWd02WWXhXpTAACE1OXNmulvnTqp1S+O2Ce73byttw6F/DTNf//3f+vRRx9VVlaW9u/fr5YtW+q2227TY489FupNAQAQcpc3a6ZRTZvqvQMHVLx+vZZmZHBqpo6FPIzExcVpxowZx3wrLwAA4c7pcKhvo0ZaJqlvo0YEkTrGd9MAAACrCCMAAMAqwggAALCKMAIAAKwijAAAAKsIIwAAwCrCCAAAsIowAgAArCKMAAAAqwgjAADAKsIIAACwijACAACsIowAAACrCCMAAMAqwggAALCKMAIAAKwijAAAAKsIIwAAwCrCCAAAsIowAgAArCKMAAAAqwgjAADAqga2CwDwC95Sqdxlu4r6weuVs8IjlR+RDD07rvJS2xUAx0QYAcKMa0YH2yXUGy5JIyTpU8uFAPhVOE0DhANXjCqTe9iuAmeAgtizJVeM7TKAABwZAcKBw6GKm/6uZX9foosuGiqXi1MOteH1erVy5Sp6Vkter1frcldrmMNhuxQgAGEECBcOhyqcbikyVuKFtXYcXnoWDIdXIoggDHGaBgAAWEUYAQAAVhFGAACAVYQRAABgFWEEAABYRRgBAABWEUYAAIBVhBEAAGAVYQQAAFhFGAEAAFYRRgAAgFWEEQAAYBVhBAAAWEUYAQAAVhFGAACAVYQRAABgFWEEAABYRRgBAABWEUYAAIBVhBEAAGAVYQQAAFhFGAEAAFYRRgAAgFWEEQAAYFWdhJHvvvtON9xwg5o0aaKYmBh16dJFW7durYtNAQCAeq5BqFdYWFioPn36aODAgVq+fLkSExP15ZdfqlGjRqHeFAAAOA2EPIxMmzZNKSkpmjt3rn+sdevWod4MwpwxRgfLDqqkskSl3lK55LJdUtjz+Xwyxtguo94wxqigxKPDXumIx6dI47BdUtjzen3yVEil5T656NcJ0a/glJb7TnpZhwnxs1/Hjh110UUX6dtvv9WaNWvUqlUrZWVl6dZbb61xvsfjkcfj8d8uLi5WSkqKDhw4oPj4+FCW9qt5vV7l5uZqyJAhcrl4cT2eg2UHNfiNwbbLqHdSnal67bLXFBkZabuUsFdQ4lHPaWtslwHg/1R6SrVnxlUqKioK+vU75EdGvvrqK82aNUsTJkzQQw89pE2bNumuu+6S2+3WTTfdVG1+Tk6OJk+eXG181apViomJCXV5IZGbm2u7hLBXUlliu4R6aXfFbi3LXaZIB2HkRA57pTp4CgNgQciPjERGRqp79+5av369f+yuu+7S5s2btWHDhmrzOTJyeir1lqrvX/tKkpaPXK746PD6uww3R31H/UeSVl+2mn7VwhGPT12m5EmS1t7bR/ExbssVhT+v16e8vDwNGjRILhdB7kToV3AOFhxUm7Tk8DgykpSUpI4dOwaMdejQQa+//nqN891ut9zu6k8iLpcrbF/ww7m2cPHza0Tio+N5cT2BBt6f/imyf9XOz68RiY9xKyE22mI19YPX65XbKSXERrGP1QL9Co6vLOqklw35W3v79OmjHTt2BIx98cUXSktLC/WmAADAaSDkYeSee+7Rxo0bNXXqVOXn52vBggWaM2eOxo8fH+pNAQCA00DIw8gFF1ygxYsXa+HChcrIyNCTTz6pGTNm6Prrrw/1pgAAwGmgTq7IGTFihEaMGFEXqwYAAKcZvpsGAABYRRgBAABWEUYAAIBVhBEAAGAVYQQAAFhFGAEAAFYRRgAAgFWEEQAAYBVhBAAAWEUYAQAAVhFGAACAVYQRAABgFWEEAABYRRgBAABWEUYAAIBVhBEAAGAVYQQAAFhFGAEAAFYRRgAAgFWEEQAAYBVhBAAAWEUYAQAAVhFGAACAVYQRAABgFWEEAABYRRgBAABWEUYAAIBVhBEAAGAVYQQAAFhFGAEAAFYRRgAAgFWEEQAAYBVhBAAAWEUYAQAAVhFGAACAVYQRAABgFWEEAABYRRgBAABWEUYAAIBVhBEAAGAVYQQAAFhFGAEAAFYRRgAAgFWEEQAAYBVhBAAAWEUYAQAAVhFGAACAVYQRAABgFWEEAABYRRgBAABW1XkYycnJkcPhUHZ2dl1vCgAA1EN1GkY2b96sOXPmqHPnznW5GQAAUI81qKsVl5SU6Prrr9cLL7ygKVOm1NVmUA8c9R1VA2+d7WqnhaO+o7ZLAABr6uwVYvz48Ro+fLgGDx583DDi8Xjk8Xj8t4uLiyVJXq9XXq+3rso7KVX1hFtd4cjn8/l/H/zGYIuV1D9er1feBuxjJ+L1+gJ+59/lifEcFhz6FZxf06c6CSOvvvqqPvzwQ23evPmEc3NycjR58uRq46tWrVJMTExdlPer5ebm2i4h7BljlOpM1e6K3bZLqVdSnalam7dWDofDdilhz1MhVT2F5eXlye20Wk69wnNYcOhX7ZSWlp70sg5jjAlhLdqzZ4+6d++uVatW6bzzzpMkDRgwQF26dNGMGTOqza/pyEhKSooOHDig+Pj4UJb2q3m9XuXm5mrIkCFyuVy2ywl75eXlWpa7TIMGDaJfteD1erU2b62GDh1Kv2qhtNyn857MkyRteaCfEmKjLFcU/ngOCw79Ck5BQYGSkpJUVFQU9Ot3yI+MbN26Vfv371e3bt38YxUVFXrvvff07LPPyuPxyOn86b8wbrdbbre72npcLlfY/uWHc23hJtIRqfjoePpVC94GXjkcDvavWnKZn44euVwN6FkQ2MeCQ79q59f0KORhJDMzU5999lnA2NixY3XOOedo4sSJAUEEAAAg5GEkLi5OGRkZAWOxsbFq0qRJtXEAAAA+gRUAAFh1Sj78YfXq1adiMwAAoB7iyAgAALCKMAIAAKwijAAAAKsIIwAAwCrCCAAAsIowAgAArCKMAAAAqwgjAADAKsIIAACwijACAACsIowAAACrCCMAAMAqwggAALCKMAIAAKwijAAAAKsIIwAAwCrCCAAAsIowAgAArCKMAAAAqwgjAADAKsIIAACwijACAACsIowAAACrCCMAAMAqwggAALCKMAIAAKwijAAAAKsIIwAAwCrCCAAAsIowAgAArCKMAAAAqwgjAADAKsIIAACwijACAACsIowAAACrCCMAAMAqwggAALCKMAIAAKwijAAAAKsIIwAAwCrCCAAAsIowAgAArCKMAAAAqwgjAADAKsIIAACwijACAACsIowAAACrCCMAAMAqwggAALCKMAIAAKwijAAAAKtCHkZycnJ0wQUXKC4uTomJibr00ku1Y8eOUG8GAACcJkIeRtasWaPx48dr48aNys3Nlc/n09ChQ3XkyJFQbwoAAJwGGoR6hStWrAi4PXfuXCUmJmrr1q3q169fqDcHADpaXiGXy2e7jLDn9frkqZBKy31yGYftcsIe/QpOafnJ/xsMeRj5paKiIklS48aNa7zf4/HI4/H4bxcXF0uSvF6vvF5vXZcXlKp6wq2ucEW/gkO/guP1/vTE13PaGouV1DcN9B+b8mwXUY/Qr9qq9JSe9LIOY4wJYS0BjDEaNWqUCgsLtXbt2hrnTJo0SZMnT642vmDBAsXExNRVaQDqOWOkP213atdh/scKhINKT6n2zLhKRUVFio+PD2rZOg0j48eP19KlS7Vu3TolJyfXOKemIyMpKSk6cOBA0A+mrnm9XuXm5mrIkCFyuVy2ywl79Cs49Ct45eXlWrryHxo0aJBcrjo/0Fvveb0+5eXl0a9aol/BOVhwUG3Skk8qjNRZd++880699dZbeu+9944ZRCTJ7XbL7XZXG3e5XGH7hBzOtYUj+hUc+hUct1NKiI2iZ7Xg9XrpVxDoV3B8ZVEnvWzIw4gxRnfeeacWL16s1atXKz09PdSbAAAAp5GQh5Hx48drwYIFevPNNxUXF6d9+/ZJkhISEhQdHR3qzQEAgHou5J8zMmvWLBUVFWnAgAFKSkry/yxatCjUmwIAAKeBOjlNAwAAUFt8Nw0AALCKMAIAAKwijAAAAKsIIwAAwCrCCAAAsIowAgAArCKMAAAAqwgjAADAKsIIAACwijACAACsIowAAACrCCMAAMAqwggAALCKMAIAAKwijAAAAKsIIwAAwCrCCAAAsIowAgAArCKMAAAAqwgjAADAKsIIAACwijACAACsIowAAACrCCMAAMAqwggAALCKMAIAAKwijAAAAKsIIwAAwCrCCAAAsIowAgAArCKMAAAAqwgjAADAKsIIAACwijACAACsIowAAACrCCMAAMAqwggAALCKMAIAAKwijAAAAKsIIwAAwCrCCAAAsIowAgAArCKMAAAAqwgjAADAKsIIAACwijACAACsIowAAACrCCMAAMAqwggAALCKMAKEgYpKo027DkqSNu06qIpKY7kiADh1CCOAZSu2fa++0/I0bv5mSdK4+ZvVd1qeVmz73nJlAHBq1FkYmTlzptLT0xUVFaVu3bpp7dq1dbUpoN5ase173fHKh/q+qCxgfF9Rme545UMCCYAzQoO6WOmiRYuUnZ2tmTNnqk+fPnr++ed18cUX65///KdSU1NrtY7K0lJVNqiT8k5apdcrR3n5j7W5XLbLCXv06/gqKo1y3vhIkT6PJMltJEd5hdw+p1QhOSTlvPGRMlvHyxnhsFtsmGIfCw79Cg79Ck5laelJL+swxoT85HSPHj3UtWtXzZo1yz/WoUMHXXrppcrJyQmY6/F45PF4/LeLi4uVkpKiTW3PVkOnM9SlAQCAOlBSUaHf5O9UUVGR4uPjg1o25KdpysvLtXXrVg0dOjRgfOjQoVq/fn21+Tk5OUpISPD/pKSkhLokAAAQxkJ+HuTAgQOqqKhQ8+bNA8abN2+uffv2VZv/4IMPasKECf7bVUdGWue9E3Syqmten095eXkaNGiQXGF2Cikc0a/j2/JNoe74y4f+2+4Io0e7VurJDyPkqfzptMys67uqe9pZNkoMe+xjwaFfwaFfwSkoLJTS009q2TrrrsMReI7bGFNtTJLcbrfcbnf18YQEucMsjER4vTKRkXLHx8vF+cMTol/H1zMjXrGNvtS+ojIZ/RhGTGSFiiOc8hiHHJJaJESpZ0Ya14wcA/tYcOhXcOhXcNw+30kvG/LTNE2bNpXT6ax2FGT//v3VjpYAZzJnhEOPj+wo6ceLVX+u6vbjIzsSRACc9kIeRiIjI9WtWzfl5uYGjOfm5qp3796h3hxQr/17RpJm3dBVLRKiAsZbJERp1g1d9e8ZSZYqA4BTp05O00yYMEE33nijunfvrl69emnOnDnavXu3br/99rrYHFCv/XtGkoZ0bKGN+ft14PONemn0BerZNpEjIgDOGHUSRq6++moVFBToiSee0Pfff6+MjAwtW7ZMaWlpdbE5oN5zRjj0m/TGWva59Jv0xgQRAGeUOruANSsrS1lZWXW1egAAcJrgu2kAAIBVhBEAAGAVYQQAAFhFGAEAAFYRRgAAgFWEEQAAYBVhBAAAWEUYAQAAVhFGAACAVYQRAABgFWEEAABYRRgBAABWEUYAAIBVhBEAAGAVYQQAAFhFGAEAAFYRRgAAgFWEEQAAYBVhBAAAWEUYAQAAVhFGAACAVYQRAABgVQPbBfySMUaSVFxcbLmS6rxer0pLS1VcXCyXy2W7nLBHv4JDv4JHz4JDv4JDv4Jz+PBhST+9jgcj7MJI1YNJSUmxXAkAAAhWQUGBEhISglrGYU4mwtShyspK7d27V3FxcXI4HLbLCVBcXKyUlBTt2bNH8fHxtssJe/QrOPQrePQsOPQrOPQrOEVFRUpNTVVhYaEaNWoU1LJhd2QkIiJCycnJtss4rvj4eHbMINCv4NCv4NGz4NCv4NCv4EREBH85KhewAgAAqwgjAADAKsJIENxutx5//HG53W7bpdQL9Cs49Ct49Cw49Cs49Cs4v6ZfYXcBKwAAOLNwZAQAAFhFGAEAAFYRRgAAgFWEEQAAYBVhBAAAWEUYOYFZs2apc+fO/k/g69Wrl5YvX267rHojJydHDodD2dnZtksJW5MmTZLD4Qj4adGihe2ywtp3332nG264QU2aNFFMTIy6dOmirVu32i4rbLVu3braPuZwODR+/HjbpYUln8+nRx55ROnp6YqOjlabNm30xBNPqLKy0nZpYevw4cPKzs5WWlqaoqOj1bt3b23evLnWy4fdx8GHm+TkZP3hD39Q27ZtJUnz58/XqFGj9NFHH6lTp06Wqwtvmzdv1pw5c9S5c2fbpYS9Tp066R//+If/ttPptFhNeCssLFSfPn00cOBALV++XImJifryyy+D/i6MM8nmzZtVUVHhv71t2zYNGTJEV155pcWqwte0adM0e/ZszZ8/X506ddKWLVs0duxYJSQk6O6777ZdXli65ZZbtG3bNv35z39Wy5Yt9corr2jw4MH65z//qVatWp1weT5n5CQ0btxYTz/9tG6++WbbpYStkpISde3aVTNnztSUKVPUpUsXzZgxw3ZZYWnSpElasmSJPv74Y9ul1AsPPPCA3n//fa1du9Z2KfVWdna2/v73v2vnzp1h94Wk4WDEiBFq3ry5XnzxRf/YFVdcoZiYGP35z3+2WFl4Onr0qOLi4vTmm29q+PDh/vEuXbpoxIgRmjJlygnXwWmaIFRUVOjVV1/VkSNH1KtXL9vlhLXx48dr+PDhGjx4sO1S6oWdO3eqZcuWSk9P1zXXXKOvvvrKdklh66233lL37t115ZVXKjExUeeff75eeOEF22XVG+Xl5XrllVc0btw4gsgx9O3bV++8846++OILSdInn3yidevWadiwYZYrC08+n08VFRWKiooKGI+Ojta6detqtQ5O09TCZ599pl69eqmsrEwNGzbU4sWL1bFjR9tlha1XX31VH374YVDnC89kPXr00Msvv6x27drpX//6l6ZMmaLevXtr+/btatKkie3yws5XX32lWbNmacKECXrooYe0adMm3XXXXXK73brppptslxf2lixZokOHDmnMmDG2SwlbEydOVFFRkc455xw5nU5VVFToqaee0rXXXmu7tLAUFxenXr166cknn1SHDh3UvHlzLVy4UB988IHOPvvs2q3E4IQ8Ho/ZuXOn2bx5s3nggQdM06ZNzfbt222XFZZ2795tEhMTzccff+wf69+/v7n77rvtFVXPlJSUmObNm5s//vGPtksJSy6Xy/Tq1Stg7M477zQ9e/a0VFH9MnToUDNixAjbZYS1hQsXmuTkZLNw4ULz6aefmpdfftk0btzYzJs3z3ZpYSs/P9/069fPSDJOp9NccMEF5vrrrzcdOnSo1fKEkZOQmZlpfve739kuIywtXrzYvzNW/UgyDofDOJ1O4/P5bJdYLwwePNjcfvvttssIS6mpqebmm28OGJs5c6Zp2bKlpYrqj6+//tpERESYJUuW2C4lrCUnJ5tnn302YOzJJ5807du3t1RR/VFSUmL27t1rjDHmqquuMsOGDavVcpymOQnGGHk8HttlhKXMzEx99tlnAWNjx47VOeeco4kTJ/IukVrweDz6/PPPdeGFF9ouJSz16dNHO3bsCBj74osvlJaWZqmi+mPu3LlKTEwMuMgQ1ZWWlioiIvCSSqfTyVt7ayE2NlaxsbEqLCzUypUrNX369FotRxg5gYceekgXX3yxUlJSdPjwYb366qtavXq1VqxYYbu0sBQXF6eMjIyAsdjYWDVp0qTaOH503333aeTIkUpNTdX+/fs1ZcoUFRcXa/To0bZLC0v33HOPevfuralTp+qqq67Spk2bNGfOHM2ZM8d2aWGtsrJSc+fO1ejRo9WgAU/9xzNy5Eg99dRTSk1NVadOnfTRRx/pmWee0bhx42yXFrZWrlwpY4zat2+v/Px83X///Wrfvr3Gjh1buxXU3cGa08O4ceNMWlqaiYyMNM2aNTOZmZlm1apVtsuqV7hm5Piuvvpqk5SUZFwul2nZsqW5/PLLuSbpBN5++22TkZFh3G63Oeecc8ycOXNslxT2Vq5caSSZHTt22C4l7BUXF5u7777bpKammqioKNOmTRvz8MMPG4/HY7u0sLVo0SLTpk0bExkZaVq0aGHGjx9vDh06VOvl+ZwRAABgFZ8zAgAArCKMAAAAqwgjAADAKsIIAACwijACAACsIowAAACrCCMAAMAqwggAALCKMAIAAKwijAAAAKsIIwAAwKr/DwUdDFWgI+44AAAAAElFTkSuQmCC",
      "text/plain": [
       "<Figure size 640x480 with 1 Axes>"
      ]
     },
     "metadata": {},
     "output_type": "display_data"
    },
    {
     "data": {
      "text/plain": [
       "" dibujar([8,8])\\nfor obstaculo in wall_E_BPA.obstaculos:\\n    obstaculo.dibuja()\\nwall_E_BPA.plot_robot()\\n\\nplt.plot(wall_E_BPA.trajectory[0::2], wall_E_BPA.trajectory[1::2])\\n\\nfor p in expandidos:\\n    plt.scatter(p.pos[0], p.pos[1], c=\"k\")\\nprint(f\"expandidos {len(expandidos)}\") ""
      ]
     },
     "execution_count": 74,
     "metadata": {},
     "output_type": "execute_result"
    }
   ],
   "source": [
    "expandidos = []\n",
    "wall_E_BPA = Robot([5,0])\n",
    "wall_E_BPA.agrega_obstaculo(Obstaculo([6,6],[10,2]))\n",
    "wall_E_BPA.agrega_obstaculo(Obstaculo([5,9],[7,7]))\n",
    "wall_E_BPA.agrega_obstaculo(Obstaculo([4,6],[5,4]))\n",
    "camino = wall_E_BPA.BPP(meta=[8,8])\n",
    "\n",
    "plot_space(wall_E_BPA, expandidos, camino)\n",
    "\n",
    "\n",
    "\"\"\" dibujar([8,8])\n",
    "for obstaculo in wall_E_BPA.obstaculos:\n",
    "    obstaculo.dibuja()\n",
    "wall_E_BPA.plot_robot()\n",
    "\n",
    "plt.plot(wall_E_BPA.trajectory[0::2], wall_E_BPA.trajectory[1::2])\n",
    "\n",
    "for p in expandidos:\n",
    "    plt.scatter(p.pos[0], p.pos[1], c=\"k\")\n",
    "print(f\"expandidos {len(expandidos)}\") \"\"\"\n"
   ]
  },
  {
   "cell_type": "code",
   "execution_count": 75,
   "id": "acf0a3d7",
   "metadata": {},
   "outputs": [
    {
     "data": {
      "application/vnd.plotly.v1+json": {
       "config": {
        "plotlyServerURL": "https://plot.ly"
       },
       "data": [
        {
         "mode": "lines",
         "type": "scatter",
         "x": [],
         "y": []
        },
        {
         "mode": "markers",
         "type": "scatter",
         "x": [],
         "y": []
        }
       ],
       "frames": [
        {
         "data": [
          {
           "hoverinfo": "none",
           "line": {
            "color": "gray",
            "width": 1
           },
           "mode": "lines",
           "type": "scatter",
           "x": [],
           "y": []
          },
          {
           "hoverinfo": "text",
           "marker": {
            "color": "lightblue",
            "line": {
             "width": 2
            },
            "size": 30,
            "symbol": "circle-dot"
           },
           "mode": "markers",
           "text": [
            "[5, 0]"
           ],
           "textposition": "middle center",
           "type": "scatter",
           "x": [
            0
           ],
           "y": [
            0
           ]
          }
         ],
         "name": "1"
        },
        {
         "data": [
          {
           "hoverinfo": "none",
           "line": {
            "color": "gray",
            "width": 1
           },
           "mode": "lines",
           "type": "scatter",
           "x": [
            0,
            -1,
            null
           ],
           "y": [
            0,
            -1,
            null
           ]
          },
          {
           "hoverinfo": "text",
           "marker": {
            "color": "lightblue",
            "line": {
             "width": 2
            },
            "size": 30,
            "symbol": "circle-dot"
           },
           "mode": "markers",
           "text": [
            "[5, 0]",
            "[5, 0.5]"
           ],
           "textposition": "middle center",
           "type": "scatter",
           "x": [
            0,
            -1
           ],
           "y": [
            0,
            -1
           ]
          }
         ],
         "name": "2"
        },
        {
         "data": [
          {
           "hoverinfo": "none",
           "line": {
            "color": "gray",
            "width": 1
           },
           "mode": "lines",
           "type": "scatter",
           "x": [
            0,
            -1,
            null,
            0,
            0,
            null
           ],
           "y": [
            0,
            -1,
            null,
            0,
            -1,
            null
           ]
          },
          {
           "hoverinfo": "text",
           "marker": {
            "color": "lightblue",
            "line": {
             "width": 2
            },
            "size": 30,
            "symbol": "circle-dot"
           },
           "mode": "markers",
           "text": [
            "[5, 0]",
            "[5, 0.5]",
            "[4.5, 0]"
           ],
           "textposition": "middle center",
           "type": "scatter",
           "x": [
            0,
            -1,
            0
           ],
           "y": [
            0,
            -1,
            -1
           ]
          }
         ],
         "name": "3"
        },
        {
         "data": [
          {
           "hoverinfo": "none",
           "line": {
            "color": "gray",
            "width": 1
           },
           "mode": "lines",
           "type": "scatter",
           "x": [
            0,
            -1,
            null,
            0,
            0,
            null,
            0,
            1,
            null
           ],
           "y": [
            0,
            -1,
            null,
            0,
            -1,
            null,
            0,
            -1,
            null
           ]
          },
          {
           "hoverinfo": "text",
           "marker": {
            "color": "lightblue",
            "line": {
             "width": 2
            },
            "size": 30,
            "symbol": "circle-dot"
           },
           "mode": "markers",
           "text": [
            "[5, 0]",
            "[5, 0.5]",
            "[4.5, 0]",
            "[5.5, 0]"
           ],
           "textposition": "middle center",
           "type": "scatter",
           "x": [
            0,
            -1,
            0,
            1
           ],
           "y": [
            0,
            -1,
            -1,
            -1
           ]
          }
         ],
         "name": "4"
        },
        {
         "data": [
          {
           "hoverinfo": "none",
           "line": {
            "color": "gray",
            "width": 1
           },
           "mode": "lines",
           "type": "scatter",
           "x": [
            0,
            -1,
            null,
            0,
            0,
            null,
            0,
            1,
            null,
            -1,
            -2,
            null
           ],
           "y": [
            0,
            -1,
            null,
            0,
            -1,
            null,
            0,
            -1,
            null,
            -1,
            -2,
            null
           ]
          },
          {
           "hoverinfo": "text",
           "marker": {
            "color": "lightblue",
            "line": {
             "width": 2
            },
            "size": 30,
            "symbol": "circle-dot"
           },
           "mode": "markers",
           "text": [
            "[5, 0]",
            "[5, 0.5]",
            "[4.5, 0]",
            "[5.5, 0]",
            "[5, 1.0]"
           ],
           "textposition": "middle center",
           "type": "scatter",
           "x": [
            0,
            -1,
            0,
            1,
            -2
           ],
           "y": [
            0,
            -1,
            -1,
            -1,
            -2
           ]
          }
         ],
         "name": "5"
        },
        {
         "data": [
          {
           "hoverinfo": "none",
           "line": {
            "color": "gray",
            "width": 1
           },
           "mode": "lines",
           "type": "scatter",
           "x": [
            0,
            -1,
            null,
            0,
            0,
            null,
            0,
            1,
            null,
            -1,
            -2,
            null,
            -1,
            -1,
            null
           ],
           "y": [
            0,
            -1,
            null,
            0,
            -1,
            null,
            0,
            -1,
            null,
            -1,
            -2,
            null,
            -1,
            -2,
            null
           ]
          },
          {
           "hoverinfo": "text",
           "marker": {
            "color": "lightblue",
            "line": {
             "width": 2
            },
            "size": 30,
            "symbol": "circle-dot"
           },
           "mode": "markers",
           "text": [
            "[5, 0]",
            "[5, 0.5]",
            "[4.5, 0]",
            "[5.5, 0]",
            "[5, 1.0]",
            "[4.5, 0.5]"
           ],
           "textposition": "middle center",
           "type": "scatter",
           "x": [
            0,
            -1,
            0,
            1,
            -2,
            -1
           ],
           "y": [
            0,
            -1,
            -1,
            -1,
            -2,
            -2
           ]
          }
         ],
         "name": "6"
        },
        {
         "data": [
          {
           "hoverinfo": "none",
           "line": {
            "color": "gray",
            "width": 1
           },
           "mode": "lines",
           "type": "scatter",
           "x": [
            0,
            -1,
            null,
            0,
            0,
            null,
            0,
            1,
            null,
            -1,
            -2,
            null,
            -1,
            -1,
            null,
            -1,
            0,
            null
           ],
           "y": [
            0,
            -1,
            null,
            0,
            -1,
            null,
            0,
            -1,
            null,
            -1,
            -2,
            null,
            -1,
            -2,
            null,
            -1,
            -2,
            null
           ]
          },
          {
           "hoverinfo": "text",
           "marker": {
            "color": "lightblue",
            "line": {
             "width": 2
            },
            "size": 30,
            "symbol": "circle-dot"
           },
           "mode": "markers",
           "text": [
            "[5, 0]",
            "[5, 0.5]",
            "[4.5, 0]",
            "[5.5, 0]",
            "[5, 1.0]",
            "[4.5, 0.5]",
            "[5.5, 0.5]"
           ],
           "textposition": "middle center",
           "type": "scatter",
           "x": [
            0,
            -1,
            0,
            1,
            -2,
            -1,
            0
           ],
           "y": [
            0,
            -1,
            -1,
            -1,
            -2,
            -2,
            -2
           ]
          }
         ],
         "name": "7"
        },
        {
         "data": [
          {
           "hoverinfo": "none",
           "line": {
            "color": "gray",
            "width": 1
           },
           "mode": "lines",
           "type": "scatter",
           "x": [
            0,
            -1,
            null,
            0,
            0,
            null,
            0,
            1,
            null,
            -1,
            -2,
            null,
            -1,
            -1,
            null,
            -1,
            0,
            null,
            -2,
            -3,
            null
           ],
           "y": [
            0,
            -1,
            null,
            0,
            -1,
            null,
            0,
            -1,
            null,
            -1,
            -2,
            null,
            -1,
            -2,
            null,
            -1,
            -2,
            null,
            -2,
            -3,
            null
           ]
          },
          {
           "hoverinfo": "text",
           "marker": {
            "color": "lightblue",
            "line": {
             "width": 2
            },
            "size": 30,
            "symbol": "circle-dot"
           },
           "mode": "markers",
           "text": [
            "[5, 0]",
            "[5, 0.5]",
            "[4.5, 0]",
            "[5.5, 0]",
            "[5, 1.0]",
            "[4.5, 0.5]",
            "[5.5, 0.5]",
            "[5, 1.5]"
           ],
           "textposition": "middle center",
           "type": "scatter",
           "x": [
            0,
            -1,
            0,
            1,
            -2,
            -1,
            0,
            -3
           ],
           "y": [
            0,
            -1,
            -1,
            -1,
            -2,
            -2,
            -2,
            -3
           ]
          }
         ],
         "name": "8"
        },
        {
         "data": [
          {
           "hoverinfo": "none",
           "line": {
            "color": "gray",
            "width": 1
           },
           "mode": "lines",
           "type": "scatter",
           "x": [
            0,
            -1,
            null,
            0,
            0,
            null,
            0,
            1,
            null,
            -1,
            -2,
            null,
            -1,
            -1,
            null,
            -1,
            0,
            null,
            -2,
            -3,
            null,
            -2,
            -2,
            null
           ],
           "y": [
            0,
            -1,
            null,
            0,
            -1,
            null,
            0,
            -1,
            null,
            -1,
            -2,
            null,
            -1,
            -2,
            null,
            -1,
            -2,
            null,
            -2,
            -3,
            null,
            -2,
            -3,
            null
           ]
          },
          {
           "hoverinfo": "text",
           "marker": {
            "color": "lightblue",
            "line": {
             "width": 2
            },
            "size": 30,
            "symbol": "circle-dot"
           },
           "mode": "markers",
           "text": [
            "[5, 0]",
            "[5, 0.5]",
            "[4.5, 0]",
            "[5.5, 0]",
            "[5, 1.0]",
            "[4.5, 0.5]",
            "[5.5, 0.5]",
            "[5, 1.5]",
            "[4.5, 1.0]"
           ],
           "textposition": "middle center",
           "type": "scatter",
           "x": [
            0,
            -1,
            0,
            1,
            -2,
            -1,
            0,
            -3,
            -2
           ],
           "y": [
            0,
            -1,
            -1,
            -1,
            -2,
            -2,
            -2,
            -3,
            -3
           ]
          }
         ],
         "name": "9"
        },
        {
         "data": [
          {
           "hoverinfo": "none",
           "line": {
            "color": "gray",
            "width": 1
           },
           "mode": "lines",
           "type": "scatter",
           "x": [
            0,
            -1,
            null,
            0,
            0,
            null,
            0,
            1,
            null,
            -1,
            -2,
            null,
            -1,
            -1,
            null,
            -1,
            0,
            null,
            -2,
            -3,
            null,
            -2,
            -2,
            null,
            -2,
            -1,
            null
           ],
           "y": [
            0,
            -1,
            null,
            0,
            -1,
            null,
            0,
            -1,
            null,
            -1,
            -2,
            null,
            -1,
            -2,
            null,
            -1,
            -2,
            null,
            -2,
            -3,
            null,
            -2,
            -3,
            null,
            -2,
            -3,
            null
           ]
          },
          {
           "hoverinfo": "text",
           "marker": {
            "color": "lightblue",
            "line": {
             "width": 2
            },
            "size": 30,
            "symbol": "circle-dot"
           },
           "mode": "markers",
           "text": [
            "[5, 0]",
            "[5, 0.5]",
            "[4.5, 0]",
            "[5.5, 0]",
            "[5, 1.0]",
            "[4.5, 0.5]",
            "[5.5, 0.5]",
            "[5, 1.5]",
            "[4.5, 1.0]",
            "[5.5, 1.0]"
           ],
           "textposition": "middle center",
           "type": "scatter",
           "x": [
            0,
            -1,
            0,
            1,
            -2,
            -1,
            0,
            -3,
            -2,
            -1
           ],
           "y": [
            0,
            -1,
            -1,
            -1,
            -2,
            -2,
            -2,
            -3,
            -3,
            -3
           ]
          }
         ],
         "name": "10"
        },
        {
         "data": [
          {
           "hoverinfo": "none",
           "line": {
            "color": "gray",
            "width": 1
           },
           "mode": "lines",
           "type": "scatter",
           "x": [
            0,
            -1,
            null,
            0,
            0,
            null,
            0,
            1,
            null,
            -1,
            -2,
            null,
            -1,
            -1,
            null,
            -1,
            0,
            null,
            -2,
            -3,
            null,
            -2,
            -2,
            null,
            -2,
            -1,
            null,
            -3,
            -4,
            null
           ],
           "y": [
            0,
            -1,
            null,
            0,
            -1,
            null,
            0,
            -1,
            null,
            -1,
            -2,
            null,
            -1,
            -2,
            null,
            -1,
            -2,
            null,
            -2,
            -3,
            null,
            -2,
            -3,
            null,
            -2,
            -3,
            null,
            -3,
            -4,
            null
           ]
          },
          {
           "hoverinfo": "text",
           "marker": {
            "color": "lightblue",
            "line": {
             "width": 2
            },
            "size": 30,
            "symbol": "circle-dot"
           },
           "mode": "markers",
           "text": [
            "[5, 0]",
            "[5, 0.5]",
            "[4.5, 0]",
            "[5.5, 0]",
            "[5, 1.0]",
            "[4.5, 0.5]",
            "[5.5, 0.5]",
            "[5, 1.5]",
            "[4.5, 1.0]",
            "[5.5, 1.0]",
            "[5, 2.0]"
           ],
           "textposition": "middle center",
           "type": "scatter",
           "x": [
            0,
            -1,
            0,
            1,
            -2,
            -1,
            0,
            -3,
            -2,
            -1,
            -4
           ],
           "y": [
            0,
            -1,
            -1,
            -1,
            -2,
            -2,
            -2,
            -3,
            -3,
            -3,
            -4
           ]
          }
         ],
         "name": "11"
        },
        {
         "data": [
          {
           "hoverinfo": "none",
           "line": {
            "color": "gray",
            "width": 1
           },
           "mode": "lines",
           "type": "scatter",
           "x": [
            0,
            -1,
            null,
            0,
            0,
            null,
            0,
            1,
            null,
            -1,
            -2,
            null,
            -1,
            -1,
            null,
            -1,
            0,
            null,
            -2,
            -3,
            null,
            -2,
            -2,
            null,
            -2,
            -1,
            null,
            -3,
            -4,
            null,
            -3,
            -3,
            null
           ],
           "y": [
            0,
            -1,
            null,
            0,
            -1,
            null,
            0,
            -1,
            null,
            -1,
            -2,
            null,
            -1,
            -2,
            null,
            -1,
            -2,
            null,
            -2,
            -3,
            null,
            -2,
            -3,
            null,
            -2,
            -3,
            null,
            -3,
            -4,
            null,
            -3,
            -4,
            null
           ]
          },
          {
           "hoverinfo": "text",
           "marker": {
            "color": "lightblue",
            "line": {
             "width": 2
            },
            "size": 30,
            "symbol": "circle-dot"
           },
           "mode": "markers",
           "text": [
            "[5, 0]",
            "[5, 0.5]",
            "[4.5, 0]",
            "[5.5, 0]",
            "[5, 1.0]",
            "[4.5, 0.5]",
            "[5.5, 0.5]",
            "[5, 1.5]",
            "[4.5, 1.0]",
            "[5.5, 1.0]",
            "[5, 2.0]",
            "[4.5, 1.5]"
           ],
           "textposition": "middle center",
           "type": "scatter",
           "x": [
            0,
            -1,
            0,
            1,
            -2,
            -1,
            0,
            -3,
            -2,
            -1,
            -4,
            -3
           ],
           "y": [
            0,
            -1,
            -1,
            -1,
            -2,
            -2,
            -2,
            -3,
            -3,
            -3,
            -4,
            -4
           ]
          }
         ],
         "name": "12"
        },
        {
         "data": [
          {
           "hoverinfo": "none",
           "line": {
            "color": "gray",
            "width": 1
           },
           "mode": "lines",
           "type": "scatter",
           "x": [
            0,
            -1,
            null,
            0,
            0,
            null,
            0,
            1,
            null,
            -1,
            -2,
            null,
            -1,
            -1,
            null,
            -1,
            0,
            null,
            -2,
            -3,
            null,
            -2,
            -2,
            null,
            -2,
            -1,
            null,
            -3,
            -4,
            null,
            -3,
            -3,
            null,
            -3,
            -2,
            null
           ],
           "y": [
            0,
            -1,
            null,
            0,
            -1,
            null,
            0,
            -1,
            null,
            -1,
            -2,
            null,
            -1,
            -2,
            null,
            -1,
            -2,
            null,
            -2,
            -3,
            null,
            -2,
            -3,
            null,
            -2,
            -3,
            null,
            -3,
            -4,
            null,
            -3,
            -4,
            null,
            -3,
            -4,
            null
           ]
          },
          {
           "hoverinfo": "text",
           "marker": {
            "color": "lightblue",
            "line": {
             "width": 2
            },
            "size": 30,
            "symbol": "circle-dot"
           },
           "mode": "markers",
           "text": [
            "[5, 0]",
            "[5, 0.5]",
            "[4.5, 0]",
            "[5.5, 0]",
            "[5, 1.0]",
            "[4.5, 0.5]",
            "[5.5, 0.5]",
            "[5, 1.5]",
            "[4.5, 1.0]",
            "[5.5, 1.0]",
            "[5, 2.0]",
            "[4.5, 1.5]",
            "[5.5, 1.5]"
           ],
           "textposition": "middle center",
           "type": "scatter",
           "x": [
            0,
            -1,
            0,
            1,
            -2,
            -1,
            0,
            -3,
            -2,
            -1,
            -4,
            -3,
            -2
           ],
           "y": [
            0,
            -1,
            -1,
            -1,
            -2,
            -2,
            -2,
            -3,
            -3,
            -3,
            -4,
            -4,
            -4
           ]
          }
         ],
         "name": "13"
        },
        {
         "data": [
          {
           "hoverinfo": "none",
           "line": {
            "color": "gray",
            "width": 1
           },
           "mode": "lines",
           "type": "scatter",
           "x": [
            0,
            -1,
            null,
            0,
            0,
            null,
            0,
            1,
            null,
            -1,
            -2,
            null,
            -1,
            -1,
            null,
            -1,
            0,
            null,
            -2,
            -3,
            null,
            -2,
            -2,
            null,
            -2,
            -1,
            null,
            -3,
            -4,
            null,
            -3,
            -3,
            null,
            -3,
            -2,
            null,
            -4,
            -5,
            null
           ],
           "y": [
            0,
            -1,
            null,
            0,
            -1,
            null,
            0,
            -1,
            null,
            -1,
            -2,
            null,
            -1,
            -2,
            null,
            -1,
            -2,
            null,
            -2,
            -3,
            null,
            -2,
            -3,
            null,
            -2,
            -3,
            null,
            -3,
            -4,
            null,
            -3,
            -4,
            null,
            -3,
            -4,
            null,
            -4,
            -5,
            null
           ]
          },
          {
           "hoverinfo": "text",
           "marker": {
            "color": "lightblue",
            "line": {
             "width": 2
            },
            "size": 30,
            "symbol": "circle-dot"
           },
           "mode": "markers",
           "text": [
            "[5, 0]",
            "[5, 0.5]",
            "[4.5, 0]",
            "[5.5, 0]",
            "[5, 1.0]",
            "[4.5, 0.5]",
            "[5.5, 0.5]",
            "[5, 1.5]",
            "[4.5, 1.0]",
            "[5.5, 1.0]",
            "[5, 2.0]",
            "[4.5, 1.5]",
            "[5.5, 1.5]",
            "[5, 2.5]"
           ],
           "textposition": "middle center",
           "type": "scatter",
           "x": [
            0,
            -1,
            0,
            1,
            -2,
            -1,
            0,
            -3,
            -2,
            -1,
            -4,
            -3,
            -2,
            -5
           ],
           "y": [
            0,
            -1,
            -1,
            -1,
            -2,
            -2,
            -2,
            -3,
            -3,
            -3,
            -4,
            -4,
            -4,
            -5
           ]
          }
         ],
         "name": "14"
        },
        {
         "data": [
          {
           "hoverinfo": "none",
           "line": {
            "color": "gray",
            "width": 1
           },
           "mode": "lines",
           "type": "scatter",
           "x": [
            0,
            -1,
            null,
            0,
            0,
            null,
            0,
            1,
            null,
            -1,
            -2,
            null,
            -1,
            -1,
            null,
            -1,
            0,
            null,
            -2,
            -3,
            null,
            -2,
            -2,
            null,
            -2,
            -1,
            null,
            -3,
            -4,
            null,
            -3,
            -3,
            null,
            -3,
            -2,
            null,
            -4,
            -5,
            null,
            -4,
            -4,
            null
           ],
           "y": [
            0,
            -1,
            null,
            0,
            -1,
            null,
            0,
            -1,
            null,
            -1,
            -2,
            null,
            -1,
            -2,
            null,
            -1,
            -2,
            null,
            -2,
            -3,
            null,
            -2,
            -3,
            null,
            -2,
            -3,
            null,
            -3,
            -4,
            null,
            -3,
            -4,
            null,
            -3,
            -4,
            null,
            -4,
            -5,
            null,
            -4,
            -5,
            null
           ]
          },
          {
           "hoverinfo": "text",
           "marker": {
            "color": "lightblue",
            "line": {
             "width": 2
            },
            "size": 30,
            "symbol": "circle-dot"
           },
           "mode": "markers",
           "text": [
            "[5, 0]",
            "[5, 0.5]",
            "[4.5, 0]",
            "[5.5, 0]",
            "[5, 1.0]",
            "[4.5, 0.5]",
            "[5.5, 0.5]",
            "[5, 1.5]",
            "[4.5, 1.0]",
            "[5.5, 1.0]",
            "[5, 2.0]",
            "[4.5, 1.5]",
            "[5.5, 1.5]",
            "[5, 2.5]",
            "[4.5, 2.0]"
           ],
           "textposition": "middle center",
           "type": "scatter",
           "x": [
            0,
            -1,
            0,
            1,
            -2,
            -1,
            0,
            -3,
            -2,
            -1,
            -4,
            -3,
            -2,
            -5,
            -4
           ],
           "y": [
            0,
            -1,
            -1,
            -1,
            -2,
            -2,
            -2,
            -3,
            -3,
            -3,
            -4,
            -4,
            -4,
            -5,
            -5
           ]
          }
         ],
         "name": "15"
        },
        {
         "data": [
          {
           "hoverinfo": "none",
           "line": {
            "color": "gray",
            "width": 1
           },
           "mode": "lines",
           "type": "scatter",
           "x": [
            0,
            -1,
            null,
            0,
            0,
            null,
            0,
            1,
            null,
            -1,
            -2,
            null,
            -1,
            -1,
            null,
            -1,
            0,
            null,
            -2,
            -3,
            null,
            -2,
            -2,
            null,
            -2,
            -1,
            null,
            -3,
            -4,
            null,
            -3,
            -3,
            null,
            -3,
            -2,
            null,
            -4,
            -5,
            null,
            -4,
            -4,
            null,
            -4,
            -3,
            null
           ],
           "y": [
            0,
            -1,
            null,
            0,
            -1,
            null,
            0,
            -1,
            null,
            -1,
            -2,
            null,
            -1,
            -2,
            null,
            -1,
            -2,
            null,
            -2,
            -3,
            null,
            -2,
            -3,
            null,
            -2,
            -3,
            null,
            -3,
            -4,
            null,
            -3,
            -4,
            null,
            -3,
            -4,
            null,
            -4,
            -5,
            null,
            -4,
            -5,
            null,
            -4,
            -5,
            null
           ]
          },
          {
           "hoverinfo": "text",
           "marker": {
            "color": "lightblue",
            "line": {
             "width": 2
            },
            "size": 30,
            "symbol": "circle-dot"
           },
           "mode": "markers",
           "text": [
            "[5, 0]",
            "[5, 0.5]",
            "[4.5, 0]",
            "[5.5, 0]",
            "[5, 1.0]",
            "[4.5, 0.5]",
            "[5.5, 0.5]",
            "[5, 1.5]",
            "[4.5, 1.0]",
            "[5.5, 1.0]",
            "[5, 2.0]",
            "[4.5, 1.5]",
            "[5.5, 1.5]",
            "[5, 2.5]",
            "[4.5, 2.0]",
            "[5.5, 2.0]"
           ],
           "textposition": "middle center",
           "type": "scatter",
           "x": [
            0,
            -1,
            0,
            1,
            -2,
            -1,
            0,
            -3,
            -2,
            -1,
            -4,
            -3,
            -2,
            -5,
            -4,
            -3
           ],
           "y": [
            0,
            -1,
            -1,
            -1,
            -2,
            -2,
            -2,
            -3,
            -3,
            -3,
            -4,
            -4,
            -4,
            -5,
            -5,
            -5
           ]
          }
         ],
         "name": "16"
        },
        {
         "data": [
          {
           "hoverinfo": "none",
           "line": {
            "color": "gray",
            "width": 1
           },
           "mode": "lines",
           "type": "scatter",
           "x": [
            0,
            -1,
            null,
            0,
            0,
            null,
            0,
            1,
            null,
            -1,
            -2,
            null,
            -1,
            -1,
            null,
            -1,
            0,
            null,
            -2,
            -3,
            null,
            -2,
            -2,
            null,
            -2,
            -1,
            null,
            -3,
            -4,
            null,
            -3,
            -3,
            null,
            -3,
            -2,
            null,
            -4,
            -5,
            null,
            -4,
            -4,
            null,
            -4,
            -3,
            null,
            -5,
            -6,
            null
           ],
           "y": [
            0,
            -1,
            null,
            0,
            -1,
            null,
            0,
            -1,
            null,
            -1,
            -2,
            null,
            -1,
            -2,
            null,
            -1,
            -2,
            null,
            -2,
            -3,
            null,
            -2,
            -3,
            null,
            -2,
            -3,
            null,
            -3,
            -4,
            null,
            -3,
            -4,
            null,
            -3,
            -4,
            null,
            -4,
            -5,
            null,
            -4,
            -5,
            null,
            -4,
            -5,
            null,
            -5,
            -6,
            null
           ]
          },
          {
           "hoverinfo": "text",
           "marker": {
            "color": "lightblue",
            "line": {
             "width": 2
            },
            "size": 30,
            "symbol": "circle-dot"
           },
           "mode": "markers",
           "text": [
            "[5, 0]",
            "[5, 0.5]",
            "[4.5, 0]",
            "[5.5, 0]",
            "[5, 1.0]",
            "[4.5, 0.5]",
            "[5.5, 0.5]",
            "[5, 1.5]",
            "[4.5, 1.0]",
            "[5.5, 1.0]",
            "[5, 2.0]",
            "[4.5, 1.5]",
            "[5.5, 1.5]",
            "[5, 2.5]",
            "[4.5, 2.0]",
            "[5.5, 2.0]",
            "[5, 3.0]"
           ],
           "textposition": "middle center",
           "type": "scatter",
           "x": [
            0,
            -1,
            0,
            1,
            -2,
            -1,
            0,
            -3,
            -2,
            -1,
            -4,
            -3,
            -2,
            -5,
            -4,
            -3,
            -6
           ],
           "y": [
            0,
            -1,
            -1,
            -1,
            -2,
            -2,
            -2,
            -3,
            -3,
            -3,
            -4,
            -4,
            -4,
            -5,
            -5,
            -5,
            -6
           ]
          }
         ],
         "name": "17"
        },
        {
         "data": [
          {
           "hoverinfo": "none",
           "line": {
            "color": "gray",
            "width": 1
           },
           "mode": "lines",
           "type": "scatter",
           "x": [
            0,
            -1,
            null,
            0,
            0,
            null,
            0,
            1,
            null,
            -1,
            -2,
            null,
            -1,
            -1,
            null,
            -1,
            0,
            null,
            -2,
            -3,
            null,
            -2,
            -2,
            null,
            -2,
            -1,
            null,
            -3,
            -4,
            null,
            -3,
            -3,
            null,
            -3,
            -2,
            null,
            -4,
            -5,
            null,
            -4,
            -4,
            null,
            -4,
            -3,
            null,
            -5,
            -6,
            null,
            -5,
            -5,
            null
           ],
           "y": [
            0,
            -1,
            null,
            0,
            -1,
            null,
            0,
            -1,
            null,
            -1,
            -2,
            null,
            -1,
            -2,
            null,
            -1,
            -2,
            null,
            -2,
            -3,
            null,
            -2,
            -3,
            null,
            -2,
            -3,
            null,
            -3,
            -4,
            null,
            -3,
            -4,
            null,
            -3,
            -4,
            null,
            -4,
            -5,
            null,
            -4,
            -5,
            null,
            -4,
            -5,
            null,
            -5,
            -6,
            null,
            -5,
            -6,
            null
           ]
          },
          {
           "hoverinfo": "text",
           "marker": {
            "color": "lightblue",
            "line": {
             "width": 2
            },
            "size": 30,
            "symbol": "circle-dot"
           },
           "mode": "markers",
           "text": [
            "[5, 0]",
            "[5, 0.5]",
            "[4.5, 0]",
            "[5.5, 0]",
            "[5, 1.0]",
            "[4.5, 0.5]",
            "[5.5, 0.5]",
            "[5, 1.5]",
            "[4.5, 1.0]",
            "[5.5, 1.0]",
            "[5, 2.0]",
            "[4.5, 1.5]",
            "[5.5, 1.5]",
            "[5, 2.5]",
            "[4.5, 2.0]",
            "[5.5, 2.0]",
            "[5, 3.0]",
            "[4.5, 2.5]"
           ],
           "textposition": "middle center",
           "type": "scatter",
           "x": [
            0,
            -1,
            0,
            1,
            -2,
            -1,
            0,
            -3,
            -2,
            -1,
            -4,
            -3,
            -2,
            -5,
            -4,
            -3,
            -6,
            -5
           ],
           "y": [
            0,
            -1,
            -1,
            -1,
            -2,
            -2,
            -2,
            -3,
            -3,
            -3,
            -4,
            -4,
            -4,
            -5,
            -5,
            -5,
            -6,
            -6
           ]
          }
         ],
         "name": "18"
        },
        {
         "data": [
          {
           "hoverinfo": "none",
           "line": {
            "color": "gray",
            "width": 1
           },
           "mode": "lines",
           "type": "scatter",
           "x": [
            0,
            -1,
            null,
            0,
            0,
            null,
            0,
            1,
            null,
            -1,
            -2,
            null,
            -1,
            -1,
            null,
            -1,
            0,
            null,
            -2,
            -3,
            null,
            -2,
            -2,
            null,
            -2,
            -1,
            null,
            -3,
            -4,
            null,
            -3,
            -3,
            null,
            -3,
            -2,
            null,
            -4,
            -5,
            null,
            -4,
            -4,
            null,
            -4,
            -3,
            null,
            -5,
            -6,
            null,
            -5,
            -5,
            null,
            -5,
            -4,
            null
           ],
           "y": [
            0,
            -1,
            null,
            0,
            -1,
            null,
            0,
            -1,
            null,
            -1,
            -2,
            null,
            -1,
            -2,
            null,
            -1,
            -2,
            null,
            -2,
            -3,
            null,
            -2,
            -3,
            null,
            -2,
            -3,
            null,
            -3,
            -4,
            null,
            -3,
            -4,
            null,
            -3,
            -4,
            null,
            -4,
            -5,
            null,
            -4,
            -5,
            null,
            -4,
            -5,
            null,
            -5,
            -6,
            null,
            -5,
            -6,
            null,
            -5,
            -6,
            null
           ]
          },
          {
           "hoverinfo": "text",
           "marker": {
            "color": "lightblue",
            "line": {
             "width": 2
            },
            "size": 30,
            "symbol": "circle-dot"
           },
           "mode": "markers",
           "text": [
            "[5, 0]",
            "[5, 0.5]",
            "[4.5, 0]",
            "[5.5, 0]",
            "[5, 1.0]",
            "[4.5, 0.5]",
            "[5.5, 0.5]",
            "[5, 1.5]",
            "[4.5, 1.0]",
            "[5.5, 1.0]",
            "[5, 2.0]",
            "[4.5, 1.5]",
            "[5.5, 1.5]",
            "[5, 2.5]",
            "[4.5, 2.0]",
            "[5.5, 2.0]",
            "[5, 3.0]",
            "[4.5, 2.5]",
            "[5.5, 2.5]"
           ],
           "textposition": "middle center",
           "type": "scatter",
           "x": [
            0,
            -1,
            0,
            1,
            -2,
            -1,
            0,
            -3,
            -2,
            -1,
            -4,
            -3,
            -2,
            -5,
            -4,
            -3,
            -6,
            -5,
            -4
           ],
           "y": [
            0,
            -1,
            -1,
            -1,
            -2,
            -2,
            -2,
            -3,
            -3,
            -3,
            -4,
            -4,
            -4,
            -5,
            -5,
            -5,
            -6,
            -6,
            -6
           ]
          }
         ],
         "name": "19"
        },
        {
         "data": [
          {
           "hoverinfo": "none",
           "line": {
            "color": "gray",
            "width": 1
           },
           "mode": "lines",
           "type": "scatter",
           "x": [
            0,
            -1,
            null,
            0,
            0,
            null,
            0,
            1,
            null,
            -1,
            -2,
            null,
            -1,
            -1,
            null,
            -1,
            0,
            null,
            -2,
            -3,
            null,
            -2,
            -2,
            null,
            -2,
            -1,
            null,
            -3,
            -4,
            null,
            -3,
            -3,
            null,
            -3,
            -2,
            null,
            -4,
            -5,
            null,
            -4,
            -4,
            null,
            -4,
            -3,
            null,
            -5,
            -6,
            null,
            -5,
            -5,
            null,
            -5,
            -4,
            null,
            -6,
            -7,
            null
           ],
           "y": [
            0,
            -1,
            null,
            0,
            -1,
            null,
            0,
            -1,
            null,
            -1,
            -2,
            null,
            -1,
            -2,
            null,
            -1,
            -2,
            null,
            -2,
            -3,
            null,
            -2,
            -3,
            null,
            -2,
            -3,
            null,
            -3,
            -4,
            null,
            -3,
            -4,
            null,
            -3,
            -4,
            null,
            -4,
            -5,
            null,
            -4,
            -5,
            null,
            -4,
            -5,
            null,
            -5,
            -6,
            null,
            -5,
            -6,
            null,
            -5,
            -6,
            null,
            -6,
            -7,
            null
           ]
          },
          {
           "hoverinfo": "text",
           "marker": {
            "color": "lightblue",
            "line": {
             "width": 2
            },
            "size": 30,
            "symbol": "circle-dot"
           },
           "mode": "markers",
           "text": [
            "[5, 0]",
            "[5, 0.5]",
            "[4.5, 0]",
            "[5.5, 0]",
            "[5, 1.0]",
            "[4.5, 0.5]",
            "[5.5, 0.5]",
            "[5, 1.5]",
            "[4.5, 1.0]",
            "[5.5, 1.0]",
            "[5, 2.0]",
            "[4.5, 1.5]",
            "[5.5, 1.5]",
            "[5, 2.5]",
            "[4.5, 2.0]",
            "[5.5, 2.0]",
            "[5, 3.0]",
            "[4.5, 2.5]",
            "[5.5, 2.5]",
            "[5, 3.5]"
           ],
           "textposition": "middle center",
           "type": "scatter",
           "x": [
            0,
            -1,
            0,
            1,
            -2,
            -1,
            0,
            -3,
            -2,
            -1,
            -4,
            -3,
            -2,
            -5,
            -4,
            -3,
            -6,
            -5,
            -4,
            -7
           ],
           "y": [
            0,
            -1,
            -1,
            -1,
            -2,
            -2,
            -2,
            -3,
            -3,
            -3,
            -4,
            -4,
            -4,
            -5,
            -5,
            -5,
            -6,
            -6,
            -6,
            -7
           ]
          }
         ],
         "name": "20"
        },
        {
         "data": [
          {
           "hoverinfo": "none",
           "line": {
            "color": "gray",
            "width": 1
           },
           "mode": "lines",
           "type": "scatter",
           "x": [
            0,
            -1,
            null,
            0,
            0,
            null,
            0,
            1,
            null,
            -1,
            -2,
            null,
            -1,
            -1,
            null,
            -1,
            0,
            null,
            -2,
            -3,
            null,
            -2,
            -2,
            null,
            -2,
            -1,
            null,
            -3,
            -4,
            null,
            -3,
            -3,
            null,
            -3,
            -2,
            null,
            -4,
            -5,
            null,
            -4,
            -4,
            null,
            -4,
            -3,
            null,
            -5,
            -6,
            null,
            -5,
            -5,
            null,
            -5,
            -4,
            null,
            -6,
            -7,
            null,
            -6,
            -6,
            null
           ],
           "y": [
            0,
            -1,
            null,
            0,
            -1,
            null,
            0,
            -1,
            null,
            -1,
            -2,
            null,
            -1,
            -2,
            null,
            -1,
            -2,
            null,
            -2,
            -3,
            null,
            -2,
            -3,
            null,
            -2,
            -3,
            null,
            -3,
            -4,
            null,
            -3,
            -4,
            null,
            -3,
            -4,
            null,
            -4,
            -5,
            null,
            -4,
            -5,
            null,
            -4,
            -5,
            null,
            -5,
            -6,
            null,
            -5,
            -6,
            null,
            -5,
            -6,
            null,
            -6,
            -7,
            null,
            -6,
            -7,
            null
           ]
          },
          {
           "hoverinfo": "text",
           "marker": {
            "color": "lightblue",
            "line": {
             "width": 2
            },
            "size": 30,
            "symbol": "circle-dot"
           },
           "mode": "markers",
           "text": [
            "[5, 0]",
            "[5, 0.5]",
            "[4.5, 0]",
            "[5.5, 0]",
            "[5, 1.0]",
            "[4.5, 0.5]",
            "[5.5, 0.5]",
            "[5, 1.5]",
            "[4.5, 1.0]",
            "[5.5, 1.0]",
            "[5, 2.0]",
            "[4.5, 1.5]",
            "[5.5, 1.5]",
            "[5, 2.5]",
            "[4.5, 2.0]",
            "[5.5, 2.0]",
            "[5, 3.0]",
            "[4.5, 2.5]",
            "[5.5, 2.5]",
            "[5, 3.5]",
            "[4.5, 3.0]"
           ],
           "textposition": "middle center",
           "type": "scatter",
           "x": [
            0,
            -1,
            0,
            1,
            -2,
            -1,
            0,
            -3,
            -2,
            -1,
            -4,
            -3,
            -2,
            -5,
            -4,
            -3,
            -6,
            -5,
            -4,
            -7,
            -6
           ],
           "y": [
            0,
            -1,
            -1,
            -1,
            -2,
            -2,
            -2,
            -3,
            -3,
            -3,
            -4,
            -4,
            -4,
            -5,
            -5,
            -5,
            -6,
            -6,
            -6,
            -7,
            -7
           ]
          }
         ],
         "name": "21"
        },
        {
         "data": [
          {
           "hoverinfo": "none",
           "line": {
            "color": "gray",
            "width": 1
           },
           "mode": "lines",
           "type": "scatter",
           "x": [
            0,
            -1,
            null,
            0,
            0,
            null,
            0,
            1,
            null,
            -1,
            -2,
            null,
            -1,
            -1,
            null,
            -1,
            0,
            null,
            -2,
            -3,
            null,
            -2,
            -2,
            null,
            -2,
            -1,
            null,
            -3,
            -4,
            null,
            -3,
            -3,
            null,
            -3,
            -2,
            null,
            -4,
            -5,
            null,
            -4,
            -4,
            null,
            -4,
            -3,
            null,
            -5,
            -6,
            null,
            -5,
            -5,
            null,
            -5,
            -4,
            null,
            -6,
            -7,
            null,
            -6,
            -6,
            null,
            -6,
            -5,
            null
           ],
           "y": [
            0,
            -1,
            null,
            0,
            -1,
            null,
            0,
            -1,
            null,
            -1,
            -2,
            null,
            -1,
            -2,
            null,
            -1,
            -2,
            null,
            -2,
            -3,
            null,
            -2,
            -3,
            null,
            -2,
            -3,
            null,
            -3,
            -4,
            null,
            -3,
            -4,
            null,
            -3,
            -4,
            null,
            -4,
            -5,
            null,
            -4,
            -5,
            null,
            -4,
            -5,
            null,
            -5,
            -6,
            null,
            -5,
            -6,
            null,
            -5,
            -6,
            null,
            -6,
            -7,
            null,
            -6,
            -7,
            null,
            -6,
            -7,
            null
           ]
          },
          {
           "hoverinfo": "text",
           "marker": {
            "color": "lightblue",
            "line": {
             "width": 2
            },
            "size": 30,
            "symbol": "circle-dot"
           },
           "mode": "markers",
           "text": [
            "[5, 0]",
            "[5, 0.5]",
            "[4.5, 0]",
            "[5.5, 0]",
            "[5, 1.0]",
            "[4.5, 0.5]",
            "[5.5, 0.5]",
            "[5, 1.5]",
            "[4.5, 1.0]",
            "[5.5, 1.0]",
            "[5, 2.0]",
            "[4.5, 1.5]",
            "[5.5, 1.5]",
            "[5, 2.5]",
            "[4.5, 2.0]",
            "[5.5, 2.0]",
            "[5, 3.0]",
            "[4.5, 2.5]",
            "[5.5, 2.5]",
            "[5, 3.5]",
            "[4.5, 3.0]",
            "[5.5, 3.0]"
           ],
           "textposition": "middle center",
           "type": "scatter",
           "x": [
            0,
            -1,
            0,
            1,
            -2,
            -1,
            0,
            -3,
            -2,
            -1,
            -4,
            -3,
            -2,
            -5,
            -4,
            -3,
            -6,
            -5,
            -4,
            -7,
            -6,
            -5
           ],
           "y": [
            0,
            -1,
            -1,
            -1,
            -2,
            -2,
            -2,
            -3,
            -3,
            -3,
            -4,
            -4,
            -4,
            -5,
            -5,
            -5,
            -6,
            -6,
            -6,
            -7,
            -7,
            -7
           ]
          }
         ],
         "name": "22"
        },
        {
         "data": [
          {
           "hoverinfo": "none",
           "line": {
            "color": "gray",
            "width": 1
           },
           "mode": "lines",
           "type": "scatter",
           "x": [
            0,
            -1,
            null,
            0,
            0,
            null,
            0,
            1,
            null,
            -1,
            -2,
            null,
            -1,
            -1,
            null,
            -1,
            0,
            null,
            -2,
            -3,
            null,
            -2,
            -2,
            null,
            -2,
            -1,
            null,
            -3,
            -4,
            null,
            -3,
            -3,
            null,
            -3,
            -2,
            null,
            -4,
            -5,
            null,
            -4,
            -4,
            null,
            -4,
            -3,
            null,
            -5,
            -6,
            null,
            -5,
            -5,
            null,
            -5,
            -4,
            null,
            -6,
            -7,
            null,
            -6,
            -6,
            null,
            -6,
            -5,
            null,
            -7,
            -7.5,
            null
           ],
           "y": [
            0,
            -1,
            null,
            0,
            -1,
            null,
            0,
            -1,
            null,
            -1,
            -2,
            null,
            -1,
            -2,
            null,
            -1,
            -2,
            null,
            -2,
            -3,
            null,
            -2,
            -3,
            null,
            -2,
            -3,
            null,
            -3,
            -4,
            null,
            -3,
            -4,
            null,
            -3,
            -4,
            null,
            -4,
            -5,
            null,
            -4,
            -5,
            null,
            -4,
            -5,
            null,
            -5,
            -6,
            null,
            -5,
            -6,
            null,
            -5,
            -6,
            null,
            -6,
            -7,
            null,
            -6,
            -7,
            null,
            -6,
            -7,
            null,
            -7,
            -8,
            null
           ]
          },
          {
           "hoverinfo": "text",
           "marker": {
            "color": "lightblue",
            "line": {
             "width": 2
            },
            "size": 30,
            "symbol": "circle-dot"
           },
           "mode": "markers",
           "text": [
            "[5, 0]",
            "[5, 0.5]",
            "[4.5, 0]",
            "[5.5, 0]",
            "[5, 1.0]",
            "[4.5, 0.5]",
            "[5.5, 0.5]",
            "[5, 1.5]",
            "[4.5, 1.0]",
            "[5.5, 1.0]",
            "[5, 2.0]",
            "[4.5, 1.5]",
            "[5.5, 1.5]",
            "[5, 2.5]",
            "[4.5, 2.0]",
            "[5.5, 2.0]",
            "[5, 3.0]",
            "[4.5, 2.5]",
            "[5.5, 2.5]",
            "[5, 3.5]",
            "[4.5, 3.0]",
            "[5.5, 3.0]",
            "[4.5, 3.5]"
           ],
           "textposition": "middle center",
           "type": "scatter",
           "x": [
            0,
            -1,
            0,
            1,
            -2,
            -1,
            0,
            -3,
            -2,
            -1,
            -4,
            -3,
            -2,
            -5,
            -4,
            -3,
            -6,
            -5,
            -4,
            -7,
            -6,
            -5,
            -7.5
           ],
           "y": [
            0,
            -1,
            -1,
            -1,
            -2,
            -2,
            -2,
            -3,
            -3,
            -3,
            -4,
            -4,
            -4,
            -5,
            -5,
            -5,
            -6,
            -6,
            -6,
            -7,
            -7,
            -7,
            -8
           ]
          }
         ],
         "name": "23"
        },
        {
         "data": [
          {
           "hoverinfo": "none",
           "line": {
            "color": "gray",
            "width": 1
           },
           "mode": "lines",
           "type": "scatter",
           "x": [
            0,
            -1,
            null,
            0,
            0,
            null,
            0,
            1,
            null,
            -1,
            -2,
            null,
            -1,
            -1,
            null,
            -1,
            0,
            null,
            -2,
            -3,
            null,
            -2,
            -2,
            null,
            -2,
            -1,
            null,
            -3,
            -4,
            null,
            -3,
            -3,
            null,
            -3,
            -2,
            null,
            -4,
            -5,
            null,
            -4,
            -4,
            null,
            -4,
            -3,
            null,
            -5,
            -6,
            null,
            -5,
            -5,
            null,
            -5,
            -4,
            null,
            -6,
            -7,
            null,
            -6,
            -6,
            null,
            -6,
            -5,
            null,
            -7,
            -7.5,
            null,
            -7,
            -6.5,
            null
           ],
           "y": [
            0,
            -1,
            null,
            0,
            -1,
            null,
            0,
            -1,
            null,
            -1,
            -2,
            null,
            -1,
            -2,
            null,
            -1,
            -2,
            null,
            -2,
            -3,
            null,
            -2,
            -3,
            null,
            -2,
            -3,
            null,
            -3,
            -4,
            null,
            -3,
            -4,
            null,
            -3,
            -4,
            null,
            -4,
            -5,
            null,
            -4,
            -5,
            null,
            -4,
            -5,
            null,
            -5,
            -6,
            null,
            -5,
            -6,
            null,
            -5,
            -6,
            null,
            -6,
            -7,
            null,
            -6,
            -7,
            null,
            -6,
            -7,
            null,
            -7,
            -8,
            null,
            -7,
            -8,
            null
           ]
          },
          {
           "hoverinfo": "text",
           "marker": {
            "color": "lightblue",
            "line": {
             "width": 2
            },
            "size": 30,
            "symbol": "circle-dot"
           },
           "mode": "markers",
           "text": [
            "[5, 0]",
            "[5, 0.5]",
            "[4.5, 0]",
            "[5.5, 0]",
            "[5, 1.0]",
            "[4.5, 0.5]",
            "[5.5, 0.5]",
            "[5, 1.5]",
            "[4.5, 1.0]",
            "[5.5, 1.0]",
            "[5, 2.0]",
            "[4.5, 1.5]",
            "[5.5, 1.5]",
            "[5, 2.5]",
            "[4.5, 2.0]",
            "[5.5, 2.0]",
            "[5, 3.0]",
            "[4.5, 2.5]",
            "[5.5, 2.5]",
            "[5, 3.5]",
            "[4.5, 3.0]",
            "[5.5, 3.0]",
            "[4.5, 3.5]",
            "[5.5, 3.5]"
           ],
           "textposition": "middle center",
           "type": "scatter",
           "x": [
            0,
            -1,
            0,
            1,
            -2,
            -1,
            0,
            -3,
            -2,
            -1,
            -4,
            -3,
            -2,
            -5,
            -4,
            -3,
            -6,
            -5,
            -4,
            -7,
            -6,
            -5,
            -7.5,
            -6.5
           ],
           "y": [
            0,
            -1,
            -1,
            -1,
            -2,
            -2,
            -2,
            -3,
            -3,
            -3,
            -4,
            -4,
            -4,
            -5,
            -5,
            -5,
            -6,
            -6,
            -6,
            -7,
            -7,
            -7,
            -8,
            -8
           ]
          }
         ],
         "name": "24"
        },
        {
         "data": [
          {
           "hoverinfo": "none",
           "line": {
            "color": "gray",
            "width": 1
           },
           "mode": "lines",
           "type": "scatter",
           "x": [
            0,
            -1,
            null,
            0,
            0,
            null,
            0,
            1,
            null,
            -1,
            -2,
            null,
            -1,
            -1,
            null,
            -1,
            0,
            null,
            -2,
            -3,
            null,
            -2,
            -2,
            null,
            -2,
            -1,
            null,
            -3,
            -4,
            null,
            -3,
            -3,
            null,
            -3,
            -2,
            null,
            -4,
            -5,
            null,
            -4,
            -4,
            null,
            -4,
            -3,
            null,
            -5,
            -6,
            null,
            -5,
            -5,
            null,
            -5,
            -4,
            null,
            -6,
            -7,
            null,
            -6,
            -6,
            null,
            -6,
            -5,
            null,
            -7,
            -7.5,
            null,
            -7,
            -6.5,
            null,
            -7.5,
            -7.5,
            null
           ],
           "y": [
            0,
            -1,
            null,
            0,
            -1,
            null,
            0,
            -1,
            null,
            -1,
            -2,
            null,
            -1,
            -2,
            null,
            -1,
            -2,
            null,
            -2,
            -3,
            null,
            -2,
            -3,
            null,
            -2,
            -3,
            null,
            -3,
            -4,
            null,
            -3,
            -4,
            null,
            -3,
            -4,
            null,
            -4,
            -5,
            null,
            -4,
            -5,
            null,
            -4,
            -5,
            null,
            -5,
            -6,
            null,
            -5,
            -6,
            null,
            -5,
            -6,
            null,
            -6,
            -7,
            null,
            -6,
            -7,
            null,
            -6,
            -7,
            null,
            -7,
            -8,
            null,
            -7,
            -8,
            null,
            -8,
            -9,
            null
           ]
          },
          {
           "hoverinfo": "text",
           "marker": {
            "color": "lightblue",
            "line": {
             "width": 2
            },
            "size": 30,
            "symbol": "circle-dot"
           },
           "mode": "markers",
           "text": [
            "[5, 0]",
            "[5, 0.5]",
            "[4.5, 0]",
            "[5.5, 0]",
            "[5, 1.0]",
            "[4.5, 0.5]",
            "[5.5, 0.5]",
            "[5, 1.5]",
            "[4.5, 1.0]",
            "[5.5, 1.0]",
            "[5, 2.0]",
            "[4.5, 1.5]",
            "[5.5, 1.5]",
            "[5, 2.5]",
            "[4.5, 2.0]",
            "[5.5, 2.0]",
            "[5, 3.0]",
            "[4.5, 2.5]",
            "[5.5, 2.5]",
            "[5, 3.5]",
            "[4.5, 3.0]",
            "[5.5, 3.0]",
            "[4.5, 3.5]",
            "[5.5, 3.5]",
            "[4.0, 3.5]"
           ],
           "textposition": "middle center",
           "type": "scatter",
           "x": [
            0,
            -1,
            0,
            1,
            -2,
            -1,
            0,
            -3,
            -2,
            -1,
            -4,
            -3,
            -2,
            -5,
            -4,
            -3,
            -6,
            -5,
            -4,
            -7,
            -6,
            -5,
            -7.5,
            -6.5,
            -7.5
           ],
           "y": [
            0,
            -1,
            -1,
            -1,
            -2,
            -2,
            -2,
            -3,
            -3,
            -3,
            -4,
            -4,
            -4,
            -5,
            -5,
            -5,
            -6,
            -6,
            -6,
            -7,
            -7,
            -7,
            -8,
            -8,
            -9
           ]
          }
         ],
         "name": "25"
        }
       ],
       "layout": {
        "margin": {
         "b": 20,
         "l": 7,
         "r": 5,
         "t": 40
        },
        "showlegend": true,
        "template": {
         "data": {
          "bar": [
           {
            "error_x": {
             "color": "#2a3f5f"
            },
            "error_y": {
             "color": "#2a3f5f"
            },
            "marker": {
             "line": {
              "color": "#E5ECF6",
              "width": 0.5
             },
             "pattern": {
              "fillmode": "overlay",
              "size": 10,
              "solidity": 0.2
             }
            },
            "type": "bar"
           }
          ],
          "barpolar": [
           {
            "marker": {
             "line": {
              "color": "#E5ECF6",
              "width": 0.5
             },
             "pattern": {
              "fillmode": "overlay",
              "size": 10,
              "solidity": 0.2
             }
            },
            "type": "barpolar"
           }
          ],
          "carpet": [
           {
            "aaxis": {
             "endlinecolor": "#2a3f5f",
             "gridcolor": "white",
             "linecolor": "white",
             "minorgridcolor": "white",
             "startlinecolor": "#2a3f5f"
            },
            "baxis": {
             "endlinecolor": "#2a3f5f",
             "gridcolor": "white",
             "linecolor": "white",
             "minorgridcolor": "white",
             "startlinecolor": "#2a3f5f"
            },
            "type": "carpet"
           }
          ],
          "choropleth": [
           {
            "colorbar": {
             "outlinewidth": 0,
             "ticks": ""
            },
            "type": "choropleth"
           }
          ],
          "contour": [
           {
            "colorbar": {
             "outlinewidth": 0,
             "ticks": ""
            },
            "colorscale": [
             [
              0,
              "#0d0887"
             ],
             [
              0.1111111111111111,
              "#46039f"
             ],
             [
              0.2222222222222222,
              "#7201a8"
             ],
             [
              0.3333333333333333,
              "#9c179e"
             ],
             [
              0.4444444444444444,
              "#bd3786"
             ],
             [
              0.5555555555555556,
              "#d8576b"
             ],
             [
              0.6666666666666666,
              "#ed7953"
             ],
             [
              0.7777777777777778,
              "#fb9f3a"
             ],
             [
              0.8888888888888888,
              "#fdca26"
             ],
             [
              1,
              "#f0f921"
             ]
            ],
            "type": "contour"
           }
          ],
          "contourcarpet": [
           {
            "colorbar": {
             "outlinewidth": 0,
             "ticks": ""
            },
            "type": "contourcarpet"
           }
          ],
          "heatmap": [
           {
            "colorbar": {
             "outlinewidth": 0,
             "ticks": ""
            },
            "colorscale": [
             [
              0,
              "#0d0887"
             ],
             [
              0.1111111111111111,
              "#46039f"
             ],
             [
              0.2222222222222222,
              "#7201a8"
             ],
             [
              0.3333333333333333,
              "#9c179e"
             ],
             [
              0.4444444444444444,
              "#bd3786"
             ],
             [
              0.5555555555555556,
              "#d8576b"
             ],
             [
              0.6666666666666666,
              "#ed7953"
             ],
             [
              0.7777777777777778,
              "#fb9f3a"
             ],
             [
              0.8888888888888888,
              "#fdca26"
             ],
             [
              1,
              "#f0f921"
             ]
            ],
            "type": "heatmap"
           }
          ],
          "histogram": [
           {
            "marker": {
             "pattern": {
              "fillmode": "overlay",
              "size": 10,
              "solidity": 0.2
             }
            },
            "type": "histogram"
           }
          ],
          "histogram2d": [
           {
            "colorbar": {
             "outlinewidth": 0,
             "ticks": ""
            },
            "colorscale": [
             [
              0,
              "#0d0887"
             ],
             [
              0.1111111111111111,
              "#46039f"
             ],
             [
              0.2222222222222222,
              "#7201a8"
             ],
             [
              0.3333333333333333,
              "#9c179e"
             ],
             [
              0.4444444444444444,
              "#bd3786"
             ],
             [
              0.5555555555555556,
              "#d8576b"
             ],
             [
              0.6666666666666666,
              "#ed7953"
             ],
             [
              0.7777777777777778,
              "#fb9f3a"
             ],
             [
              0.8888888888888888,
              "#fdca26"
             ],
             [
              1,
              "#f0f921"
             ]
            ],
            "type": "histogram2d"
           }
          ],
          "histogram2dcontour": [
           {
            "colorbar": {
             "outlinewidth": 0,
             "ticks": ""
            },
            "colorscale": [
             [
              0,
              "#0d0887"
             ],
             [
              0.1111111111111111,
              "#46039f"
             ],
             [
              0.2222222222222222,
              "#7201a8"
             ],
             [
              0.3333333333333333,
              "#9c179e"
             ],
             [
              0.4444444444444444,
              "#bd3786"
             ],
             [
              0.5555555555555556,
              "#d8576b"
             ],
             [
              0.6666666666666666,
              "#ed7953"
             ],
             [
              0.7777777777777778,
              "#fb9f3a"
             ],
             [
              0.8888888888888888,
              "#fdca26"
             ],
             [
              1,
              "#f0f921"
             ]
            ],
            "type": "histogram2dcontour"
           }
          ],
          "mesh3d": [
           {
            "colorbar": {
             "outlinewidth": 0,
             "ticks": ""
            },
            "type": "mesh3d"
           }
          ],
          "parcoords": [
           {
            "line": {
             "colorbar": {
              "outlinewidth": 0,
              "ticks": ""
             }
            },
            "type": "parcoords"
           }
          ],
          "pie": [
           {
            "automargin": true,
            "type": "pie"
           }
          ],
          "scatter": [
           {
            "fillpattern": {
             "fillmode": "overlay",
             "size": 10,
             "solidity": 0.2
            },
            "type": "scatter"
           }
          ],
          "scatter3d": [
           {
            "line": {
             "colorbar": {
              "outlinewidth": 0,
              "ticks": ""
             }
            },
            "marker": {
             "colorbar": {
              "outlinewidth": 0,
              "ticks": ""
             }
            },
            "type": "scatter3d"
           }
          ],
          "scattercarpet": [
           {
            "marker": {
             "colorbar": {
              "outlinewidth": 0,
              "ticks": ""
             }
            },
            "type": "scattercarpet"
           }
          ],
          "scattergeo": [
           {
            "marker": {
             "colorbar": {
              "outlinewidth": 0,
              "ticks": ""
             }
            },
            "type": "scattergeo"
           }
          ],
          "scattergl": [
           {
            "marker": {
             "colorbar": {
              "outlinewidth": 0,
              "ticks": ""
             }
            },
            "type": "scattergl"
           }
          ],
          "scattermap": [
           {
            "marker": {
             "colorbar": {
              "outlinewidth": 0,
              "ticks": ""
             }
            },
            "type": "scattermap"
           }
          ],
          "scattermapbox": [
           {
            "marker": {
             "colorbar": {
              "outlinewidth": 0,
              "ticks": ""
             }
            },
            "type": "scattermapbox"
           }
          ],
          "scatterpolar": [
           {
            "marker": {
             "colorbar": {
              "outlinewidth": 0,
              "ticks": ""
             }
            },
            "type": "scatterpolar"
           }
          ],
          "scatterpolargl": [
           {
            "marker": {
             "colorbar": {
              "outlinewidth": 0,
              "ticks": ""
             }
            },
            "type": "scatterpolargl"
           }
          ],
          "scatterternary": [
           {
            "marker": {
             "colorbar": {
              "outlinewidth": 0,
              "ticks": ""
             }
            },
            "type": "scatterternary"
           }
          ],
          "surface": [
           {
            "colorbar": {
             "outlinewidth": 0,
             "ticks": ""
            },
            "colorscale": [
             [
              0,
              "#0d0887"
             ],
             [
              0.1111111111111111,
              "#46039f"
             ],
             [
              0.2222222222222222,
              "#7201a8"
             ],
             [
              0.3333333333333333,
              "#9c179e"
             ],
             [
              0.4444444444444444,
              "#bd3786"
             ],
             [
              0.5555555555555556,
              "#d8576b"
             ],
             [
              0.6666666666666666,
              "#ed7953"
             ],
             [
              0.7777777777777778,
              "#fb9f3a"
             ],
             [
              0.8888888888888888,
              "#fdca26"
             ],
             [
              1,
              "#f0f921"
             ]
            ],
            "type": "surface"
           }
          ],
          "table": [
           {
            "cells": {
             "fill": {
              "color": "#EBF0F8"
             },
             "line": {
              "color": "white"
             }
            },
            "header": {
             "fill": {
              "color": "#C8D4E3"
             },
             "line": {
              "color": "white"
             }
            },
            "type": "table"
           }
          ]
         },
         "layout": {
          "annotationdefaults": {
           "arrowcolor": "#2a3f5f",
           "arrowhead": 0,
           "arrowwidth": 1
          },
          "autotypenumbers": "strict",
          "coloraxis": {
           "colorbar": {
            "outlinewidth": 0,
            "ticks": ""
           }
          },
          "colorscale": {
           "diverging": [
            [
             0,
             "#8e0152"
            ],
            [
             0.1,
             "#c51b7d"
            ],
            [
             0.2,
             "#de77ae"
            ],
            [
             0.3,
             "#f1b6da"
            ],
            [
             0.4,
             "#fde0ef"
            ],
            [
             0.5,
             "#f7f7f7"
            ],
            [
             0.6,
             "#e6f5d0"
            ],
            [
             0.7,
             "#b8e186"
            ],
            [
             0.8,
             "#7fbc41"
            ],
            [
             0.9,
             "#4d9221"
            ],
            [
             1,
             "#276419"
            ]
           ],
           "sequential": [
            [
             0,
             "#0d0887"
            ],
            [
             0.1111111111111111,
             "#46039f"
            ],
            [
             0.2222222222222222,
             "#7201a8"
            ],
            [
             0.3333333333333333,
             "#9c179e"
            ],
            [
             0.4444444444444444,
             "#bd3786"
            ],
            [
             0.5555555555555556,
             "#d8576b"
            ],
            [
             0.6666666666666666,
             "#ed7953"
            ],
            [
             0.7777777777777778,
             "#fb9f3a"
            ],
            [
             0.8888888888888888,
             "#fdca26"
            ],
            [
             1,
             "#f0f921"
            ]
           ],
           "sequentialminus": [
            [
             0,
             "#0d0887"
            ],
            [
             0.1111111111111111,
             "#46039f"
            ],
            [
             0.2222222222222222,
             "#7201a8"
            ],
            [
             0.3333333333333333,
             "#9c179e"
            ],
            [
             0.4444444444444444,
             "#bd3786"
            ],
            [
             0.5555555555555556,
             "#d8576b"
            ],
            [
             0.6666666666666666,
             "#ed7953"
            ],
            [
             0.7777777777777778,
             "#fb9f3a"
            ],
            [
             0.8888888888888888,
             "#fdca26"
            ],
            [
             1,
             "#f0f921"
            ]
           ]
          },
          "colorway": [
           "#636efa",
           "#EF553B",
           "#00cc96",
           "#ab63fa",
           "#FFA15A",
           "#19d3f3",
           "#FF6692",
           "#B6E880",
           "#FF97FF",
           "#FECB52"
          ],
          "font": {
           "color": "#2a3f5f"
          },
          "geo": {
           "bgcolor": "white",
           "lakecolor": "white",
           "landcolor": "#E5ECF6",
           "showlakes": true,
           "showland": true,
           "subunitcolor": "white"
          },
          "hoverlabel": {
           "align": "left"
          },
          "hovermode": "closest",
          "mapbox": {
           "style": "light"
          },
          "paper_bgcolor": "white",
          "plot_bgcolor": "#E5ECF6",
          "polar": {
           "angularaxis": {
            "gridcolor": "white",
            "linecolor": "white",
            "ticks": ""
           },
           "bgcolor": "#E5ECF6",
           "radialaxis": {
            "gridcolor": "white",
            "linecolor": "white",
            "ticks": ""
           }
          },
          "scene": {
           "xaxis": {
            "backgroundcolor": "#E5ECF6",
            "gridcolor": "white",
            "gridwidth": 2,
            "linecolor": "white",
            "showbackground": true,
            "ticks": "",
            "zerolinecolor": "white"
           },
           "yaxis": {
            "backgroundcolor": "#E5ECF6",
            "gridcolor": "white",
            "gridwidth": 2,
            "linecolor": "white",
            "showbackground": true,
            "ticks": "",
            "zerolinecolor": "white"
           },
           "zaxis": {
            "backgroundcolor": "#E5ECF6",
            "gridcolor": "white",
            "gridwidth": 2,
            "linecolor": "white",
            "showbackground": true,
            "ticks": "",
            "zerolinecolor": "white"
           }
          },
          "shapedefaults": {
           "line": {
            "color": "#2a3f5f"
           }
          },
          "ternary": {
           "aaxis": {
            "gridcolor": "white",
            "linecolor": "white",
            "ticks": ""
           },
           "baxis": {
            "gridcolor": "white",
            "linecolor": "white",
            "ticks": ""
           },
           "bgcolor": "#E5ECF6",
           "caxis": {
            "gridcolor": "white",
            "linecolor": "white",
            "ticks": ""
           }
          },
          "title": {
           "x": 0.05
          },
          "xaxis": {
           "automargin": true,
           "gridcolor": "white",
           "linecolor": "white",
           "ticks": "",
           "title": {
            "standoff": 15
           },
           "zerolinecolor": "white",
           "zerolinewidth": 2
          },
          "yaxis": {
           "automargin": true,
           "gridcolor": "white",
           "linecolor": "white",
           "ticks": "",
           "title": {
            "standoff": 15
           },
           "zerolinecolor": "white",
           "zerolinewidth": 2
          }
         }
        },
        "title": {
         "text": "Arbol BPA"
        },
        "updatemenus": [
         {
          "buttons": [
           {
            "args": [
             null,
             {
              "frame": {
               "duration": 500,
               "redraw": true
              },
              "fromcurrent": true,
              "transition": {
               "duration": 0
              }
             }
            ],
            "label": " > Reproducir",
            "method": "animate"
           }
          ],
          "showactive": false,
          "type": "buttons",
          "x": 0.1,
          "y": -0.1
         }
        ],
        "xaxis": {
         "showgrid": false,
         "zeroline": false
        },
        "yaxis": {
         "showgrid": false,
         "zeroline": false
        }
       }
      }
     },
     "metadata": {},
     "output_type": "display_data"
    }
   ],
   "source": [
    "nodos = get_nodos(wall_E_BPA.raiz)\n",
    "etiquetas = get_etiquetas(nodos)\n",
    "grafo, uniones = crear_grafo(nodos, etiquetas)\n",
    "dibujar_grafo_anim(grafo, etiquetas, \"Arbol BPA\")\n"
   ]
  }
 ],
 "metadata": {
  "kernelspec": {
   "display_name": "myenv",
   "language": "python",
   "name": "python3"
  },
  "language_info": {
   "codemirror_mode": {
    "name": "ipython",
    "version": 3
   },
   "file_extension": ".py",
   "mimetype": "text/x-python",
   "name": "python",
   "nbconvert_exporter": "python",
   "pygments_lexer": "ipython3",
   "version": "3.10.16"
  }
 },
 "nbformat": 4,
 "nbformat_minor": 5
}
