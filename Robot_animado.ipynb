{
 "cells": [
  {
   "cell_type": "code",
   "execution_count": 177,
   "id": "6880e558",
   "metadata": {},
   "outputs": [],
   "source": [
    "import matplotlib.pyplot as plt\n",
    "from matplotlib.animation import FuncAnimation\n",
    "import numpy as np\n",
    "import igraph\n",
    "from igraph import Graph, EdgeSeq\n",
    "import plotly.graph_objects as go"
   ]
  },
  {
   "cell_type": "code",
   "execution_count": 178,
   "id": "fd176538",
   "metadata": {},
   "outputs": [],
   "source": [
    "mov = 0.5 # tamanio de paso del robot\n",
    "expandidos = []\n",
    "\n",
    "origen = [5,0]\n",
    "meta = [8,8]"
   ]
  },
  {
   "cell_type": "code",
   "execution_count": 179,
   "id": "9dd627f3",
   "metadata": {},
   "outputs": [],
   "source": [
    "def get_nodos(raiz):\n",
    "    nodos = []\n",
    "    por_visitar = [raiz]\n",
    "    visitados = []\n",
    "\n",
    "    while por_visitar != []:\n",
    "        nodo = por_visitar.pop(0)\n",
    "        if (nodo in visitados) or (nodo in nodos):\n",
    "            continue\n",
    "        nodos.append(nodo)\n",
    "        por_visitar += nodo.hijos\n",
    "        visitados.append(nodo)\n",
    "\n",
    "    return nodos"
   ]
  },
  {
   "cell_type": "code",
   "execution_count": 180,
   "id": "2e38b5a4",
   "metadata": {},
   "outputs": [],
   "source": [
    "def get_etiquetas(nodos):\n",
    "    labels = []\n",
    "    for nodo in nodos:\n",
    "        labels.append(\n",
    "            str(nodo.pos)\n",
    "        )\n",
    "    return labels"
   ]
  },
  {
   "cell_type": "code",
   "execution_count": 181,
   "id": "3f7e746c",
   "metadata": {},
   "outputs": [],
   "source": [
    "def crear_grafo(nodos, etiquetas):\n",
    "    \n",
    "    g = Graph(directed = True)\n",
    "\n",
    "    for nodo in nodos:\n",
    "        g.add_vertex(etiquetas[nodos.index(nodo)])\n",
    "    padre_hijo = []\n",
    "    for nodo in nodos:\n",
    "        \n",
    "        padre_hijo.append([nodo.papa, nodo])\n",
    "    for r in padre_hijo:\n",
    "        if r[0]:  # tiene papa\n",
    "            g.add_edge(etiquetas[nodos.index(r[0])], etiquetas[nodos.index(r[1])])\n",
    "\n",
    "    edges = [e.tuple for e in g.es]\n",
    "    \n",
    "    return g, edges"
   ]
  },
  {
   "cell_type": "code",
   "execution_count": 182,
   "id": "284ed9c0",
   "metadata": {},
   "outputs": [],
   "source": [
    "def dibujar_grafo(grafo, labels, title):\n",
    "    raices = [v.index for v in grafo.vs if grafo.degree(v, mode=\"in\") == 0]\n",
    "    if len(raices) != 1:\n",
    "        return f\"SHay {len(raices)}, imposible ejecutar\"\n",
    "    root_idx = raices[0]\n",
    "\n",
    "    layout = grafo.layout_reingold_tilford(mode=\"out\", root=[root_idx]) # out, que no se graficque hacia los lados, sino hacia abajo\n",
    "\n",
    "    Xn = [pos[0] for pos in layout]\n",
    "    Yn = [-pos[1] for pos in layout]  # y negativa: hacia abajo\n",
    "\n",
    "    Xe, Ye = [], []\n",
    "    for edge in grafo.get_edgelist():\n",
    "        Xe += [Xn[edge[0]], Xn[edge[1]], None]\n",
    "        Ye += [Yn[edge[0]], Yn[edge[1]], None]\n",
    "\n",
    "    trace_edges = go.Scatter(\n",
    "        x=Xe, y=Ye,\n",
    "        mode=\"lines\",\n",
    "        line=dict(width=1, color=\"gray\"),\n",
    "        hoverinfo=\"none\"\n",
    "    )\n",
    "\n",
    "    trace_nodes = go.Scatter(\n",
    "        x=Xn, y=Yn,\n",
    "        mode=\"markers\",\n",
    "        marker=dict(symbol=\"circle-dot\", size=30, color=\"lightblue\", line=dict(width=2)),\n",
    "        text=labels,\n",
    "        textposition=\"middle center\",\n",
    "        hoverinfo=\"text\"\n",
    "    )\n",
    "\n",
    "    fig = go.Figure(data=[trace_edges, trace_nodes],\n",
    "                    layout=go.Layout(title=title,\n",
    "                                     showlegend=True,\n",
    "                                     margin=dict(b=20, l=5, r=5, t=40),\n",
    "                                     xaxis=dict(showgrid=False, zeroline=False),\n",
    "                                     yaxis=dict(showgrid=False, zeroline=False)))\n",
    "    fig.show()"
   ]
  },
  {
   "cell_type": "code",
   "execution_count": 183,
   "id": "c2a2e524",
   "metadata": {},
   "outputs": [],
   "source": [
    "def dibujar_grafo_anim(grafo, labels, title):\n",
    "    raices = [v.index for v in grafo.vs if grafo.degree(v, mode=\"in\") == 0]\n",
    "    if len(raices) != 1:\n",
    "        raise ValueError(f\"Se esperaba 1 raíz, pero hay {len(raices)}\")\n",
    "\n",
    "    root_idx = raices[0]\n",
    "    layout = grafo.layout_reingold_tilford(mode=\"out\", root=[root_idx])\n",
    "    Xn = [pos[0] for pos in layout]\n",
    "    Yn = [-pos[1] for pos in layout]\n",
    "\n",
    "    # Preparar nodos y aristas para cada frame\n",
    "    frames = []\n",
    "    num_nodos = len(grafo.vs)\n",
    "    for i in range(1, num_nodos + 1):\n",
    "        # Aristas visibles hasta este nodo\n",
    "        Xe, Ye = [], []\n",
    "        for edge in grafo.get_edgelist():\n",
    "            if edge[0] < i and edge[1] < i:\n",
    "                Xe += [Xn[edge[0]], Xn[edge[1]], None]\n",
    "                Ye += [Yn[edge[0]], Yn[edge[1]], None]\n",
    "\n",
    "        trace_edges = go.Scatter(\n",
    "            x=Xe, y=Ye,\n",
    "            mode=\"lines\",\n",
    "            line=dict(width=1, color=\"gray\"),\n",
    "            hoverinfo=\"none\"\n",
    "        )\n",
    "\n",
    "        trace_nodes = go.Scatter(\n",
    "            x=Xn[:i], y=Yn[:i],\n",
    "            mode=\"markers\",\n",
    "            marker=dict(symbol=\"circle-dot\", size=30, color=\"lightblue\", line=dict(width=2)),\n",
    "            text=labels[:i],\n",
    "            textposition=\"middle center\",\n",
    "            hoverinfo=\"text\"\n",
    "        )\n",
    "\n",
    "        frames.append(go.Frame(data=[trace_edges, trace_nodes], name=str(i)))\n",
    "\n",
    "    # Frame inicial\n",
    "    initial_edges = go.Scatter(x=[], y=[], mode=\"lines\")\n",
    "    initial_nodes = go.Scatter(x=[], y=[], mode=\"markers\")\n",
    "\n",
    "    fig = go.Figure(\n",
    "        data=[initial_edges, initial_nodes],\n",
    "        layout=go.Layout(\n",
    "            title=title,\n",
    "            showlegend=True,\n",
    "            margin=dict(b=20, l=7, r=5, t=40),\n",
    "            xaxis=dict(showgrid=False, zeroline=False),\n",
    "            yaxis=dict(showgrid=False, zeroline=False),\n",
    "            updatemenus=[dict(\n",
    "                type=\"buttons\",\n",
    "                buttons=[dict(label=\" > Reproducir\",\n",
    "                              method=\"animate\",\n",
    "                              args=[None, {\"frame\": {\"duration\": 500, \"redraw\": True},\n",
    "                                           \"fromcurrent\": True, \"transition\": {\"duration\": 0}}])],\n",
    "                showactive=False,\n",
    "                x=0.1, y=-0.1\n",
    "            )]\n",
    "        ),\n",
    "        frames=frames\n",
    "    )\n",
    "\n",
    "    fig.show()"
   ]
  },
  {
   "cell_type": "code",
   "execution_count": 184,
   "id": "63b43dc7",
   "metadata": {},
   "outputs": [],
   "source": [
    "def dibujar(gp):\n",
    "    plt.grid(True)\n",
    "    plt.scatter(gp[0], gp[1], c=\"r\") # dibula la posicion del punto\n",
    "    plt.plot([0,0,10, 10,0], [0,10,10,0,0], c=\"k\") # dibujamos un cuadro delimitando el espacio de trabajo"
   ]
  },
  {
   "cell_type": "code",
   "execution_count": 185,
   "id": "3ee50ff4",
   "metadata": {},
   "outputs": [],
   "source": [
    "class Obstaculo():\n",
    "    def __init__(self, v1, v2):\n",
    "        self.v1 = v1 # esquina superior\n",
    "        self.v2 = v2 # esquina inferior\n",
    "\n",
    "    def en_colision(self, punto):\n",
    "        if self.v1[0] <= punto[0] <= self.v2[0] and self.v2[1] <= punto[1] <= self.v1[1]:\n",
    "            return True\n",
    "        return False\n",
    "    \n",
    "    def dibuja(self):\n",
    "        x = [self.v1[0], self.v2[0], self.v2[0], self.v1[0], self.v1[0]]\n",
    "        y = [self.v1[1], self.v1[1], self.v2[1], self.v2[1], self.v1[1]]\n",
    "        plt.plot(x,y, \"--k\")"
   ]
  },
  {
   "cell_type": "code",
   "execution_count": 186,
   "id": "840d39b0",
   "metadata": {},
   "outputs": [],
   "source": [
    "def es_punto_valido(punto, obstaculos, limites):\n",
    "    # esta en el limite permitido?\n",
    "    if limites[0] <= punto[0] <= limites[2] and limites[1] <= punto[1] <= limites[3] :\n",
    "        # Hay colision\n",
    "        for o in obstaculos:\n",
    "            if o.en_colision(punto):\n",
    "                return False\n",
    "        return True\n",
    "    return False"
   ]
  },
  {
   "cell_type": "code",
   "execution_count": 187,
   "id": "fe158f93",
   "metadata": {},
   "outputs": [],
   "source": [
    "class Nodo():\n",
    "    def __init__(self, pos, papa = None):\n",
    "        self.pos = pos\n",
    "        self.hijos = []\n",
    "        self.papa = papa\n",
    "        if self not in expandidos:\n",
    "            expandidos.append(self)\n",
    "\n",
    "    def genera_hijos(self, obstaculos, limites):\n",
    "        global expandidos\n",
    "        \n",
    "        # uno arriba\n",
    "        pos_arriba = self.pos[:]\n",
    "        pos_arriba[1] += mov\n",
    "\n",
    "        # uno abajo\n",
    "        pos_abajo = self.pos[:]\n",
    "        pos_abajo[1] -= mov\n",
    "        \n",
    "        # uno izq\n",
    "        pos_izq = self.pos[:]\n",
    "        pos_izq [0] -= mov\n",
    "        \n",
    "        # uno der\n",
    "        pos_der = self.pos[:]\n",
    "        pos_der[0] += mov\n",
    "        \n",
    "        if es_punto_valido(pos_arriba, obstaculos, limites):\n",
    "            hijo = self.__class__(pos_arriba, self)\n",
    "            self.hijos.append(hijo)\n",
    "\n",
    "        if es_punto_valido(pos_abajo, obstaculos, limites):\n",
    "            hijo = self.__class__(pos_abajo, self)\n",
    "            self.hijos.append(hijo)\n",
    "        \n",
    "        if es_punto_valido(pos_izq, obstaculos, limites):\n",
    "            hijo = self.__class__(pos_izq, self)\n",
    "            self.hijos.append(hijo)\n",
    "        \n",
    "        if es_punto_valido(pos_der, obstaculos, limites):\n",
    "            hijo = self.__class__(pos_der, self)\n",
    "            self.hijos.append(hijo)\n",
    "\n",
    "    def __eq__(self, n2):\n",
    "        return self.pos == n2.pos\n",
    "\n",
    "    def __str__(self):\n",
    "        s = f\"{self.pos[0]}, {self.pos[1]}\"\n",
    "        return s\n",
    "\n",
    "    def bpp(self, meta, robot, visitados = []):\n",
    "        \n",
    "        if self in visitados:\n",
    "            return None\n",
    "        \n",
    "        if self.pos == meta:\n",
    "            return [self]\n",
    "\n",
    "        self.genera_hijos(robot.obstaculos, robot.limites)\n",
    "        visitados.append(self)\n",
    "\n",
    "        for h in self.hijos:\n",
    "            resp = h.bpp(meta, robot, visitados)\n",
    "            if resp:\n",
    "                resp.append(self)\n",
    "                return resp\n",
    "        \n",
    "        return None\n",
    "\n",
    "    def bpa(self, meta, robot, visitados = []):\n",
    "        \n",
    "        if self.pos == meta:\n",
    "            return [self]\n",
    "        \n",
    "        if self in visitados:\n",
    "            return None\n",
    "        \n",
    "        self.genera_hijos(robot.obstaculos, robot.limites)\n",
    "        visitados.append(self)\n",
    "\n",
    "        por_visitar = self.hijos[:]\n",
    "\n",
    "        while por_visitar!= []:\n",
    "            h = por_visitar.pop(0)\n",
    "\n",
    "            if h in visitados:\n",
    "                continue\n",
    "\n",
    "            if h.pos == meta:\n",
    "                camino = [h]\n",
    "                papa = h.papa\n",
    "                while papa:\n",
    "                    camino.append(papa)\n",
    "                    papa = papa.papa\n",
    "                print(\"camino guardado...\")\n",
    "                print\n",
    "                camino.reverse()\n",
    "                return camino\n",
    "            \n",
    "            h.genera_hijos(robot.obstaculos, robot.limites)\n",
    "            visitados.append(h)\n",
    "            por_visitar += h.hijos\n",
    "        \n",
    "        return None"
   ]
  },
  {
   "cell_type": "code",
   "execution_count": 188,
   "id": "0dbf5d01",
   "metadata": {},
   "outputs": [],
   "source": [
    "class Robot():\n",
    "    def __init__(self, pos = [5,5], limites = [0,0,10,10], obstaculos = []):\n",
    "        self.pos = pos\n",
    "        self.limites = limites\n",
    "        self.obstaculos = obstaculos\n",
    "        self.trajectory = []\n",
    "        self.raiz = Nodo(self.pos)\n",
    "        if self.raiz not in expandidos:\n",
    "            expandidos.append(self.raiz)\n",
    "    \n",
    "    def agrega_obstaculo(self, obs):\n",
    "        self.obstaculos.append(obs)\n",
    "\n",
    "    def plot_robot(self):\n",
    "        plt.scatter(self.pos[0], self.pos[1], c=\"b\")\n",
    "\n",
    "    def BPP(self, meta, visitados = []):\n",
    "        self.raiz = Nodo(self.pos)\n",
    "        #expandidos.append(self.raiz)\n",
    "        camino = self.raiz.bpp(meta, self)\n",
    "        camino.reverse()\n",
    "        self.trajectory = []\n",
    "        for paso in camino:\n",
    "            self.trajectory += paso.pos\n",
    "        return camino\n",
    "\n",
    "    def BPA(self, meta, visitados = []):\n",
    "        self.raiz = Nodo(self.pos)\n",
    "        #expandidos.append(self.raiz)\n",
    "        camino = self.raiz.bpa(meta, self)\n",
    "        self.trajectory = []\n",
    "\n",
    "        for paso in camino:\n",
    "            self.trajectory += paso.pos\n",
    "        return camino"
   ]
  },
  {
   "cell_type": "code",
   "execution_count": 189,
   "id": "e944231e",
   "metadata": {},
   "outputs": [],
   "source": [
    "class NodoHeuristica(Nodo):\n",
    "    def __init__(self, pos, papa = None):\n",
    "        super(NodoHeuristica, self).__init__(pos, papa)\n",
    "        if papa:\n",
    "            self.costo = papa.costo + 1 # del nodo padre a este nodo\n",
    "        else:\n",
    "            self.costo = 0\n",
    "        self.h = float(\"inf\")\n",
    "\n",
    "        if self not in expandidos:\n",
    "            expandidos.append(self)\n",
    "\n",
    "    \n",
    "    def heuristica(self, meta):\n",
    "        self.h = abs(self.pos[0] - meta[0]) + abs(self.pos[1] - meta[1])\n",
    "        return self.h\n",
    "    \n",
    "    def f_n(self, meta):\n",
    "        self.h = abs(self.pos[0] - meta[0]) + abs(self.pos[1] - meta[1]) + self.costo\n",
    "        return self.h\n",
    "\n",
    "    def bgreedy(self, meta, robot):\n",
    "        print(f\"tipo greedy: {type(self)}\")\n",
    "        visitados = []\n",
    "        franja = [self] # por visitar\n",
    "        while franja != []:\n",
    "            h = franja.pop(0)\n",
    "            if h in visitados:\n",
    "                continue\n",
    "\n",
    "            if h.pos == meta:\n",
    "                print(\"metaaaaaaa\")\n",
    "                camino = [h]\n",
    "                papa = h.papa\n",
    "                while papa:\n",
    "                    camino.append(papa)\n",
    "                    papa = papa.papa\n",
    "                camino.reverse()\n",
    "                return camino\n",
    "            \n",
    "            h.genera_hijos(robot.obstaculos, robot.limites)\n",
    "            \n",
    "            for i in h.hijos:\n",
    "                i.heuristica(meta)\n",
    "            \n",
    "            franja += h.hijos\n",
    "            franja.sort()\n",
    "            visitados.append(h)\n",
    "\n",
    "\n",
    "    def astar(self, meta, robot):\n",
    "              \n",
    "        visitados = []\n",
    "        franja = [self] # por visitar\n",
    "        while franja != []:\n",
    "            h = franja.pop(0)\n",
    "\n",
    "            if h in visitados:\n",
    "                continue\n",
    "\n",
    "            if h.pos == meta:\n",
    "                print(\"metaaaaaaa\")\n",
    "                camino = [h]\n",
    "                papa = h.papa\n",
    "                while papa:\n",
    "                    camino.append(papa)\n",
    "                    papa = papa.papa\n",
    "                camino.reverse()\n",
    "                return camino\n",
    "            \n",
    "            h.genera_hijos(robot.obstaculos, robot.limites)\n",
    "            \n",
    "            for i in h.hijos:\n",
    "                i.f_n(meta)\n",
    "            \n",
    "            franja += h.hijos\n",
    "            franja.sort()\n",
    "            visitados.append(h)\n",
    "\n",
    "\n",
    "    def __lt__(self, n2):\n",
    "        return self.h < n2.h"
   ]
  },
  {
   "cell_type": "code",
   "execution_count": 190,
   "id": "62baf983",
   "metadata": {},
   "outputs": [],
   "source": [
    "class RobotHeur(Robot, Nodo):\n",
    "    \n",
    "    def __init__(self, pos=[5, 5], limites=[0, 0, 10, 10], obstaculos=[]):\n",
    "        super(RobotHeur, self).__init__(pos, limites, obstaculos)\n",
    "        self.raiz = NodoHeuristica(self.pos)\n",
    "\n",
    "    def BGREEDY(self, meta):\n",
    "        self.raiz = NodoHeuristica(self.pos)\n",
    "        camino = self.raiz.bgreedy(meta, self)\n",
    "        if camino:\n",
    "            self.trajectory = []\n",
    "            for paso in camino:\n",
    "                self.trajectory += paso.pos\n",
    "        else:\n",
    "            print(\"Camino no encontrado\")\n",
    "        return camino\n",
    "\n",
    "    def ASTAR(self, meta):\n",
    "        self.raiz = NodoHeuristica(self.pos)\n",
    "        camino = self.raiz.astar(meta, self)\n",
    "        if camino:\n",
    "            self.trajectory = []\n",
    "            for paso in camino:\n",
    "                self.trajectory += paso.pos\n",
    "        else:\n",
    "            print(\"Camino no encontrado\")\n",
    "        return camino"
   ]
  },
  {
   "cell_type": "code",
   "execution_count": 191,
   "id": "b55df1db",
   "metadata": {},
   "outputs": [],
   "source": [
    "def plot_space_simple(robot, expandidos, title):\n",
    "    for obstaculo in robot.obstaculos:\n",
    "        obstaculo.dibuja()\n",
    "    robot.plot_robot()\n",
    "\n",
    "    for p in expandidos:\n",
    "        plt.scatter(p.pos[0], p.pos[1], c=\"k\")\n",
    "\n",
    "    plt.plot(robot.trajectory[0::2], robot.trajectory[1::2], \"o-b\")\n",
    "\n",
    "    dibujar([8,8])\n",
    "\n",
    "    plt.title(title)\n",
    "    plt.grid(visible=True)\n"
   ]
  },
  {
   "cell_type": "code",
   "execution_count": 192,
   "id": "63564aef",
   "metadata": {},
   "outputs": [],
   "source": [
    "def plot_space_animado(robot, expandidos, title):\n",
    "    # Creamos la figura y los ejes\n",
    "    fig, ax = plt.subplots()\n",
    "\n",
    "    x_points = robot.trajectory[0::2]\n",
    "    y_points = robot.trajectory[1::2]\n",
    "    ax.set_xlim(-1, 11)\n",
    "    ax.set_ylim(-1, 11)\n",
    "\n",
    "    for obstaculo in robot.obstaculos:\n",
    "        obstaculo.dibuja()\n",
    "    \n",
    "\n",
    "    # Línea inicial vacía\n",
    "    line, = ax.plot([], [], \"o-b\")\n",
    "    exp = ax.scatter([], [])\n",
    "    \n",
    "\n",
    "\n",
    "    # Función de inicialización\n",
    "    def init():\n",
    "        line.set_data([], [])\n",
    "        exp.set_offsets(np.empty((0, 2)))\n",
    "        dibujar(meta)\n",
    "        robot.plot_robot()\n",
    "        return line,\n",
    "\n",
    "    def update(frame):\n",
    "\n",
    "        x_data = x_points[:frame]\n",
    "        y_data = y_points[:frame]\n",
    "        line.set_data(x_data, y_data)\n",
    "\n",
    "        x_exp = []\n",
    "        y_exp = []\n",
    "\n",
    "        porcentaje = frame / len(x_points)\n",
    "        num_expandidos = int(len(expandidos) * porcentaje)\n",
    "\n",
    "        for nodo in expandidos[:num_expandidos]:\n",
    "            x_exp.append(nodo.pos[0])\n",
    "            y_exp.append(nodo.pos[1])\n",
    "        exp.set_color(\"y\")\n",
    "        exp.set_offsets(np.c_[x_exp, y_exp])\n",
    "        \n",
    "        return line, exp\n",
    "\n",
    "    # Creamos la animación\n",
    "    ani = FuncAnimation(\n",
    "        fig, update, frames=len(x_points),\n",
    "        init_func=init, blit=True, interval=100\n",
    "    )\n",
    "\n",
    "    plt.title(title)\n",
    "    plt.grid(visible=True)\n",
    "    # Mostramos la animación\n",
    "    plt.show()"
   ]
  },
  {
   "cell_type": "code",
   "execution_count": 193,
   "id": "7439a84e",
   "metadata": {},
   "outputs": [],
   "source": [
    "def ejecutar_BPP(origen, meta):\n",
    "    global expandidos\n",
    "    expandidos = []\n",
    "\n",
    "    wall_E_BPP = Robot(origen)\n",
    "    wall_E_BPP.agrega_obstaculo(Obstaculo([6,6],[10,2]))\n",
    "    wall_E_BPP.agrega_obstaculo(Obstaculo([5,9],[7,7]))\n",
    "    wall_E_BPP.agrega_obstaculo(Obstaculo([4,6],[5,4]))\n",
    "\n",
    "    camino = wall_E_BPP.BPP(meta=meta)\n",
    "\n",
    "    \"\"\"\n",
    "    Alternar entre plot_space_simple y plot_space_animated si no se visualiza en la notebook \n",
    "    \"\"\"\n",
    "    plot_space_simple(wall_E_BPP, expandidos, \"Camino del robot con BPP\")\n",
    "    print(f\"Expandidos {len(expandidos)}\")\n",
    "\n",
    "    nodos = get_nodos(wall_E_BPP.raiz)\n",
    "    etiquetas = get_etiquetas(expandidos)\n",
    "    grafo, uniones = crear_grafo(expandidos, etiquetas)\n",
    "    print(f\"Expandidos {len(nodos)}\")\n",
    "    \"\"\"\n",
    "    Alternar entre dibujar_grafo y dibujar_grafo_anim si no se visualiza en la notebook \n",
    "    \"\"\"\n",
    "    dibujar_grafo(grafo, etiquetas, \"Arbol BPP\")"
   ]
  },
  {
   "cell_type": "code",
   "execution_count": 194,
   "id": "31c47b04",
   "metadata": {},
   "outputs": [],
   "source": [
    "def ejecutar_BPA(origen, meta):\n",
    "    global expandidos\n",
    "    expandidos = []\n",
    "\n",
    "    wall_E_BPA = Robot(origen)\n",
    "    expandidos.append(wall_E_BPA)\n",
    "    wall_E_BPA.agrega_obstaculo(Obstaculo([6,6],[10,2]))\n",
    "    wall_E_BPA.agrega_obstaculo(Obstaculo([5,9],[7,7]))\n",
    "    wall_E_BPA.agrega_obstaculo(Obstaculo([4,6],[5,4]))\n",
    "\n",
    "    camino = wall_E_BPA.BPA(meta=meta)\n",
    "\n",
    "\n",
    "    nodos = get_nodos(wall_E_BPA.raiz)\n",
    "    etiquetas = get_etiquetas(nodos)\n",
    "    grafo, uniones = crear_grafo(nodos, etiquetas)\n",
    "    print(f\"Expandidos {len(nodos)}\")\n",
    "\n",
    "    \"\"\"\n",
    "    Alternar entre dibujar_grafo y dibujar_grafo_anim si no se visualiza en la notebook \n",
    "    \"\"\"\n",
    "    dibujar_grafo(grafo, etiquetas, \"Arbol BPA\")\n",
    "\n",
    "\n",
    "    \"\"\"\n",
    "    Alternar entre plot_space_simple y plot_space_animated si no se visualiza en la notebook \n",
    "    \"\"\"\n",
    "    plot_space_simple(wall_E_BPA, expandidos, \"Camino del robot con BPA\")\n",
    "    print(f\"Expandidos {len(expandidos)}\")\n",
    "\n",
    "    "
   ]
  },
  {
   "cell_type": "code",
   "execution_count": 195,
   "id": "8bb9451b",
   "metadata": {},
   "outputs": [],
   "source": [
    "def ejecutar_GREEDY(origen, meta):\n",
    "    global expandidos\n",
    "    expandidos = []\n",
    "\n",
    "    wall_E_GREEDY = RobotHeur(origen)\n",
    "    wall_E_GREEDY.agrega_obstaculo(Obstaculo([6,6],[10,2]))\n",
    "    wall_E_GREEDY.agrega_obstaculo(Obstaculo([5,9],[7,7]))\n",
    "    wall_E_GREEDY.agrega_obstaculo(Obstaculo([4,6],[5,4]))\n",
    "\n",
    "    camino = wall_E_GREEDY.BGREEDY(meta=meta)\n",
    "\n",
    "    \"\"\"\n",
    "    Alternar entre plot_space_simple y plot_space_animated si no se visualiza en la notebook \n",
    "    \"\"\"\n",
    "    plot_space_simple(wall_E_GREEDY, expandidos, \"Camino del robot con GREEDY\")\n",
    "    print(f\"Expandidos {len(expandidos)}\")\n",
    "\n",
    "    nodos = get_nodos(wall_E_GREEDY.raiz)\n",
    "    etiquetas = get_etiquetas(expandidos)\n",
    "    grafo, uniones = crear_grafo(expandidos, etiquetas)\n",
    "    print(f\"Expandidos {len(nodos)}\")\n",
    "\n",
    "    \"\"\"\n",
    "    Alternar entre dibujar_grafo y dibujar_grafo_anim si no se visualiza en la notebook \n",
    "    \"\"\"\n",
    "    dibujar_grafo(grafo, etiquetas, \"Arbol GREEDY\")"
   ]
  },
  {
   "cell_type": "code",
   "execution_count": 196,
   "id": "32ea31f3",
   "metadata": {},
   "outputs": [],
   "source": [
    "def ejecutar_ASTAR(origen, meta):\n",
    "    global expandidos\n",
    "    expandidos = []\n",
    "\n",
    "    wall_E_ASTAR = RobotHeur(origen)\n",
    "    wall_E_ASTAR.agrega_obstaculo(Obstaculo([6,6],[10,2]))\n",
    "    wall_E_ASTAR.agrega_obstaculo(Obstaculo([5,9],[7,7]))\n",
    "    wall_E_ASTAR.agrega_obstaculo(Obstaculo([4,6],[5,4]))\n",
    "\n",
    "    camino = wall_E_ASTAR.ASTAR(meta=meta)\n",
    "\n",
    "    \"\"\"\n",
    "    Alternar entre plot_space_simple y plot_space_animated si no se visualiza en la notebook \n",
    "    \"\"\"\n",
    "    plot_space_simple(wall_E_ASTAR, expandidos, \"Camino del robot con A*\")\n",
    "    print(f\"Expandidos {len(expandidos)}\")\n",
    "\n",
    "    nodos = get_nodos(wall_E_ASTAR.raiz)\n",
    "    etiquetas = get_etiquetas(expandidos)\n",
    "    grafo, uniones = crear_grafo(expandidos, etiquetas)\n",
    "\n",
    "    \"\"\"\n",
    "    Alternar entre dibujar_grafo y dibujar_grafo_anim si no se visualiza en la notebook \n",
    "    \"\"\"\n",
    "    dibujar_grafo(grafo, etiquetas, \"Arbol A*\")"
   ]
  },
  {
   "cell_type": "code",
   "execution_count": 200,
   "id": "34b955dc",
   "metadata": {},
   "outputs": [
    {
     "name": "stdout",
     "output_type": "stream",
     "text": [
      "tipo greedy: <class '__main__.NodoHeuristica'>\n",
      "metaaaaaaa\n",
      "Expandidos 43\n",
      "Expandidos 43\n"
     ]
    },
    {
     "data": {
      "application/vnd.plotly.v1+json": {
       "config": {
        "plotlyServerURL": "https://plot.ly"
       },
       "data": [
        {
         "hoverinfo": "none",
         "line": {
          "color": "gray",
          "width": 1
         },
         "mode": "lines",
         "type": "scatter",
         "x": [
          0,
          -1,
          null,
          0,
          0,
          null,
          0,
          1,
          null,
          -1,
          -2,
          null,
          -1,
          -1,
          null,
          -1,
          0,
          null,
          -2,
          -3,
          null,
          -2,
          -2,
          null,
          -2,
          -1,
          null,
          -3,
          -4,
          null,
          -3,
          -3,
          null,
          -3,
          -2,
          null,
          -4,
          -5,
          null,
          -4,
          -4,
          null,
          -4,
          -3,
          null,
          -5,
          -6,
          null,
          -5,
          -5,
          null,
          -5,
          -4,
          null,
          -6,
          -7,
          null,
          -6,
          -6,
          null,
          -6,
          -5,
          null,
          -7,
          -7.5,
          null,
          -7,
          -6.5,
          null,
          -6.5,
          -6.5,
          null,
          -6.5,
          -6.5,
          null,
          -6.5,
          -6.5,
          null,
          -6.5,
          -6.5,
          null,
          -6.5,
          -6.5,
          null,
          -6.5,
          -6.5,
          null,
          -6.5,
          -7,
          null,
          -6.5,
          -6,
          null,
          -6,
          -6,
          null,
          -6,
          -6,
          null,
          -6,
          -6,
          null,
          -6,
          -6.5,
          null,
          -6,
          -5.5,
          null,
          -6.5,
          -7,
          null,
          -6.5,
          -6,
          null,
          -7,
          -7.5,
          null,
          -7,
          -6.5,
          null,
          -7.5,
          -8,
          null,
          -7.5,
          -7,
          null
         ],
         "y": [
          0,
          -1,
          null,
          0,
          -1,
          null,
          0,
          -1,
          null,
          -1,
          -2,
          null,
          -1,
          -2,
          null,
          -1,
          -2,
          null,
          -2,
          -3,
          null,
          -2,
          -3,
          null,
          -2,
          -3,
          null,
          -3,
          -4,
          null,
          -3,
          -4,
          null,
          -3,
          -4,
          null,
          -4,
          -5,
          null,
          -4,
          -5,
          null,
          -4,
          -5,
          null,
          -5,
          -6,
          null,
          -5,
          -6,
          null,
          -5,
          -6,
          null,
          -6,
          -7,
          null,
          -6,
          -7,
          null,
          -6,
          -7,
          null,
          -7,
          -8,
          null,
          -7,
          -8,
          null,
          -8,
          -9,
          null,
          -9,
          -10,
          null,
          -10,
          -11,
          null,
          -11,
          -12,
          null,
          -12,
          -13,
          null,
          -13,
          -14,
          null,
          -14,
          -15,
          null,
          -14,
          -15,
          null,
          -15,
          -16,
          null,
          -16,
          -17,
          null,
          -17,
          -18,
          null,
          -18,
          -19,
          null,
          -18,
          -19,
          null,
          -19,
          -20,
          null,
          -19,
          -20,
          null,
          -20,
          -21,
          null,
          -20,
          -21,
          null,
          -21,
          -22,
          null,
          -21,
          -22,
          null
         ]
        },
        {
         "hoverinfo": "text",
         "marker": {
          "color": "lightblue",
          "line": {
           "width": 2
          },
          "size": 30,
          "symbol": "circle-dot"
         },
         "mode": "markers",
         "text": [
          "[5, 0]",
          "[5, 0.5]",
          "[4.5, 0]",
          "[5.5, 0]",
          "[5, 1.0]",
          "[4.5, 0.5]",
          "[5.5, 0.5]",
          "[5, 1.5]",
          "[4.5, 1.0]",
          "[5.5, 1.0]",
          "[5, 2.0]",
          "[4.5, 1.5]",
          "[5.5, 1.5]",
          "[5, 2.5]",
          "[4.5, 2.0]",
          "[5.5, 2.0]",
          "[5, 3.0]",
          "[4.5, 2.5]",
          "[5.5, 2.5]",
          "[5, 3.5]",
          "[4.5, 3.0]",
          "[5.5, 3.0]",
          "[4.5, 3.5]",
          "[5.5, 3.5]",
          "[5.5, 4.0]",
          "[5.5, 4.5]",
          "[5.5, 5.0]",
          "[5.5, 5.5]",
          "[5.5, 6.0]",
          "[5.5, 6.5]",
          "[5.0, 6.5]",
          "[6.0, 6.5]",
          "[6.5, 6.5]",
          "[7.0, 6.5]",
          "[7.5, 6.5]",
          "[7.5, 7.0]",
          "[8.0, 6.5]",
          "[7.5, 7.5]",
          "[8.0, 7.0]",
          "[7.5, 8.0]",
          "[8.0, 7.5]",
          "[7.5, 8.5]",
          "[8.0, 8.0]"
         ],
         "textposition": "middle center",
         "type": "scatter",
         "x": [
          0,
          -1,
          0,
          1,
          -2,
          -1,
          0,
          -3,
          -2,
          -1,
          -4,
          -3,
          -2,
          -5,
          -4,
          -3,
          -6,
          -5,
          -4,
          -7,
          -6,
          -5,
          -7.5,
          -6.5,
          -6.5,
          -6.5,
          -6.5,
          -6.5,
          -6.5,
          -6.5,
          -7,
          -6,
          -6,
          -6,
          -6,
          -6.5,
          -5.5,
          -7,
          -6,
          -7.5,
          -6.5,
          -8,
          -7
         ],
         "y": [
          0,
          -1,
          -1,
          -1,
          -2,
          -2,
          -2,
          -3,
          -3,
          -3,
          -4,
          -4,
          -4,
          -5,
          -5,
          -5,
          -6,
          -6,
          -6,
          -7,
          -7,
          -7,
          -8,
          -8,
          -9,
          -10,
          -11,
          -12,
          -13,
          -14,
          -15,
          -15,
          -16,
          -17,
          -18,
          -19,
          -19,
          -20,
          -20,
          -21,
          -21,
          -22,
          -22
         ]
        }
       ],
       "layout": {
        "margin": {
         "b": 20,
         "l": 5,
         "r": 5,
         "t": 40
        },
        "showlegend": true,
        "template": {
         "data": {
          "bar": [
           {
            "error_x": {
             "color": "#2a3f5f"
            },
            "error_y": {
             "color": "#2a3f5f"
            },
            "marker": {
             "line": {
              "color": "#E5ECF6",
              "width": 0.5
             },
             "pattern": {
              "fillmode": "overlay",
              "size": 10,
              "solidity": 0.2
             }
            },
            "type": "bar"
           }
          ],
          "barpolar": [
           {
            "marker": {
             "line": {
              "color": "#E5ECF6",
              "width": 0.5
             },
             "pattern": {
              "fillmode": "overlay",
              "size": 10,
              "solidity": 0.2
             }
            },
            "type": "barpolar"
           }
          ],
          "carpet": [
           {
            "aaxis": {
             "endlinecolor": "#2a3f5f",
             "gridcolor": "white",
             "linecolor": "white",
             "minorgridcolor": "white",
             "startlinecolor": "#2a3f5f"
            },
            "baxis": {
             "endlinecolor": "#2a3f5f",
             "gridcolor": "white",
             "linecolor": "white",
             "minorgridcolor": "white",
             "startlinecolor": "#2a3f5f"
            },
            "type": "carpet"
           }
          ],
          "choropleth": [
           {
            "colorbar": {
             "outlinewidth": 0,
             "ticks": ""
            },
            "type": "choropleth"
           }
          ],
          "contour": [
           {
            "colorbar": {
             "outlinewidth": 0,
             "ticks": ""
            },
            "colorscale": [
             [
              0,
              "#0d0887"
             ],
             [
              0.1111111111111111,
              "#46039f"
             ],
             [
              0.2222222222222222,
              "#7201a8"
             ],
             [
              0.3333333333333333,
              "#9c179e"
             ],
             [
              0.4444444444444444,
              "#bd3786"
             ],
             [
              0.5555555555555556,
              "#d8576b"
             ],
             [
              0.6666666666666666,
              "#ed7953"
             ],
             [
              0.7777777777777778,
              "#fb9f3a"
             ],
             [
              0.8888888888888888,
              "#fdca26"
             ],
             [
              1,
              "#f0f921"
             ]
            ],
            "type": "contour"
           }
          ],
          "contourcarpet": [
           {
            "colorbar": {
             "outlinewidth": 0,
             "ticks": ""
            },
            "type": "contourcarpet"
           }
          ],
          "heatmap": [
           {
            "colorbar": {
             "outlinewidth": 0,
             "ticks": ""
            },
            "colorscale": [
             [
              0,
              "#0d0887"
             ],
             [
              0.1111111111111111,
              "#46039f"
             ],
             [
              0.2222222222222222,
              "#7201a8"
             ],
             [
              0.3333333333333333,
              "#9c179e"
             ],
             [
              0.4444444444444444,
              "#bd3786"
             ],
             [
              0.5555555555555556,
              "#d8576b"
             ],
             [
              0.6666666666666666,
              "#ed7953"
             ],
             [
              0.7777777777777778,
              "#fb9f3a"
             ],
             [
              0.8888888888888888,
              "#fdca26"
             ],
             [
              1,
              "#f0f921"
             ]
            ],
            "type": "heatmap"
           }
          ],
          "histogram": [
           {
            "marker": {
             "pattern": {
              "fillmode": "overlay",
              "size": 10,
              "solidity": 0.2
             }
            },
            "type": "histogram"
           }
          ],
          "histogram2d": [
           {
            "colorbar": {
             "outlinewidth": 0,
             "ticks": ""
            },
            "colorscale": [
             [
              0,
              "#0d0887"
             ],
             [
              0.1111111111111111,
              "#46039f"
             ],
             [
              0.2222222222222222,
              "#7201a8"
             ],
             [
              0.3333333333333333,
              "#9c179e"
             ],
             [
              0.4444444444444444,
              "#bd3786"
             ],
             [
              0.5555555555555556,
              "#d8576b"
             ],
             [
              0.6666666666666666,
              "#ed7953"
             ],
             [
              0.7777777777777778,
              "#fb9f3a"
             ],
             [
              0.8888888888888888,
              "#fdca26"
             ],
             [
              1,
              "#f0f921"
             ]
            ],
            "type": "histogram2d"
           }
          ],
          "histogram2dcontour": [
           {
            "colorbar": {
             "outlinewidth": 0,
             "ticks": ""
            },
            "colorscale": [
             [
              0,
              "#0d0887"
             ],
             [
              0.1111111111111111,
              "#46039f"
             ],
             [
              0.2222222222222222,
              "#7201a8"
             ],
             [
              0.3333333333333333,
              "#9c179e"
             ],
             [
              0.4444444444444444,
              "#bd3786"
             ],
             [
              0.5555555555555556,
              "#d8576b"
             ],
             [
              0.6666666666666666,
              "#ed7953"
             ],
             [
              0.7777777777777778,
              "#fb9f3a"
             ],
             [
              0.8888888888888888,
              "#fdca26"
             ],
             [
              1,
              "#f0f921"
             ]
            ],
            "type": "histogram2dcontour"
           }
          ],
          "mesh3d": [
           {
            "colorbar": {
             "outlinewidth": 0,
             "ticks": ""
            },
            "type": "mesh3d"
           }
          ],
          "parcoords": [
           {
            "line": {
             "colorbar": {
              "outlinewidth": 0,
              "ticks": ""
             }
            },
            "type": "parcoords"
           }
          ],
          "pie": [
           {
            "automargin": true,
            "type": "pie"
           }
          ],
          "scatter": [
           {
            "fillpattern": {
             "fillmode": "overlay",
             "size": 10,
             "solidity": 0.2
            },
            "type": "scatter"
           }
          ],
          "scatter3d": [
           {
            "line": {
             "colorbar": {
              "outlinewidth": 0,
              "ticks": ""
             }
            },
            "marker": {
             "colorbar": {
              "outlinewidth": 0,
              "ticks": ""
             }
            },
            "type": "scatter3d"
           }
          ],
          "scattercarpet": [
           {
            "marker": {
             "colorbar": {
              "outlinewidth": 0,
              "ticks": ""
             }
            },
            "type": "scattercarpet"
           }
          ],
          "scattergeo": [
           {
            "marker": {
             "colorbar": {
              "outlinewidth": 0,
              "ticks": ""
             }
            },
            "type": "scattergeo"
           }
          ],
          "scattergl": [
           {
            "marker": {
             "colorbar": {
              "outlinewidth": 0,
              "ticks": ""
             }
            },
            "type": "scattergl"
           }
          ],
          "scattermap": [
           {
            "marker": {
             "colorbar": {
              "outlinewidth": 0,
              "ticks": ""
             }
            },
            "type": "scattermap"
           }
          ],
          "scattermapbox": [
           {
            "marker": {
             "colorbar": {
              "outlinewidth": 0,
              "ticks": ""
             }
            },
            "type": "scattermapbox"
           }
          ],
          "scatterpolar": [
           {
            "marker": {
             "colorbar": {
              "outlinewidth": 0,
              "ticks": ""
             }
            },
            "type": "scatterpolar"
           }
          ],
          "scatterpolargl": [
           {
            "marker": {
             "colorbar": {
              "outlinewidth": 0,
              "ticks": ""
             }
            },
            "type": "scatterpolargl"
           }
          ],
          "scatterternary": [
           {
            "marker": {
             "colorbar": {
              "outlinewidth": 0,
              "ticks": ""
             }
            },
            "type": "scatterternary"
           }
          ],
          "surface": [
           {
            "colorbar": {
             "outlinewidth": 0,
             "ticks": ""
            },
            "colorscale": [
             [
              0,
              "#0d0887"
             ],
             [
              0.1111111111111111,
              "#46039f"
             ],
             [
              0.2222222222222222,
              "#7201a8"
             ],
             [
              0.3333333333333333,
              "#9c179e"
             ],
             [
              0.4444444444444444,
              "#bd3786"
             ],
             [
              0.5555555555555556,
              "#d8576b"
             ],
             [
              0.6666666666666666,
              "#ed7953"
             ],
             [
              0.7777777777777778,
              "#fb9f3a"
             ],
             [
              0.8888888888888888,
              "#fdca26"
             ],
             [
              1,
              "#f0f921"
             ]
            ],
            "type": "surface"
           }
          ],
          "table": [
           {
            "cells": {
             "fill": {
              "color": "#EBF0F8"
             },
             "line": {
              "color": "white"
             }
            },
            "header": {
             "fill": {
              "color": "#C8D4E3"
             },
             "line": {
              "color": "white"
             }
            },
            "type": "table"
           }
          ]
         },
         "layout": {
          "annotationdefaults": {
           "arrowcolor": "#2a3f5f",
           "arrowhead": 0,
           "arrowwidth": 1
          },
          "autotypenumbers": "strict",
          "coloraxis": {
           "colorbar": {
            "outlinewidth": 0,
            "ticks": ""
           }
          },
          "colorscale": {
           "diverging": [
            [
             0,
             "#8e0152"
            ],
            [
             0.1,
             "#c51b7d"
            ],
            [
             0.2,
             "#de77ae"
            ],
            [
             0.3,
             "#f1b6da"
            ],
            [
             0.4,
             "#fde0ef"
            ],
            [
             0.5,
             "#f7f7f7"
            ],
            [
             0.6,
             "#e6f5d0"
            ],
            [
             0.7,
             "#b8e186"
            ],
            [
             0.8,
             "#7fbc41"
            ],
            [
             0.9,
             "#4d9221"
            ],
            [
             1,
             "#276419"
            ]
           ],
           "sequential": [
            [
             0,
             "#0d0887"
            ],
            [
             0.1111111111111111,
             "#46039f"
            ],
            [
             0.2222222222222222,
             "#7201a8"
            ],
            [
             0.3333333333333333,
             "#9c179e"
            ],
            [
             0.4444444444444444,
             "#bd3786"
            ],
            [
             0.5555555555555556,
             "#d8576b"
            ],
            [
             0.6666666666666666,
             "#ed7953"
            ],
            [
             0.7777777777777778,
             "#fb9f3a"
            ],
            [
             0.8888888888888888,
             "#fdca26"
            ],
            [
             1,
             "#f0f921"
            ]
           ],
           "sequentialminus": [
            [
             0,
             "#0d0887"
            ],
            [
             0.1111111111111111,
             "#46039f"
            ],
            [
             0.2222222222222222,
             "#7201a8"
            ],
            [
             0.3333333333333333,
             "#9c179e"
            ],
            [
             0.4444444444444444,
             "#bd3786"
            ],
            [
             0.5555555555555556,
             "#d8576b"
            ],
            [
             0.6666666666666666,
             "#ed7953"
            ],
            [
             0.7777777777777778,
             "#fb9f3a"
            ],
            [
             0.8888888888888888,
             "#fdca26"
            ],
            [
             1,
             "#f0f921"
            ]
           ]
          },
          "colorway": [
           "#636efa",
           "#EF553B",
           "#00cc96",
           "#ab63fa",
           "#FFA15A",
           "#19d3f3",
           "#FF6692",
           "#B6E880",
           "#FF97FF",
           "#FECB52"
          ],
          "font": {
           "color": "#2a3f5f"
          },
          "geo": {
           "bgcolor": "white",
           "lakecolor": "white",
           "landcolor": "#E5ECF6",
           "showlakes": true,
           "showland": true,
           "subunitcolor": "white"
          },
          "hoverlabel": {
           "align": "left"
          },
          "hovermode": "closest",
          "mapbox": {
           "style": "light"
          },
          "paper_bgcolor": "white",
          "plot_bgcolor": "#E5ECF6",
          "polar": {
           "angularaxis": {
            "gridcolor": "white",
            "linecolor": "white",
            "ticks": ""
           },
           "bgcolor": "#E5ECF6",
           "radialaxis": {
            "gridcolor": "white",
            "linecolor": "white",
            "ticks": ""
           }
          },
          "scene": {
           "xaxis": {
            "backgroundcolor": "#E5ECF6",
            "gridcolor": "white",
            "gridwidth": 2,
            "linecolor": "white",
            "showbackground": true,
            "ticks": "",
            "zerolinecolor": "white"
           },
           "yaxis": {
            "backgroundcolor": "#E5ECF6",
            "gridcolor": "white",
            "gridwidth": 2,
            "linecolor": "white",
            "showbackground": true,
            "ticks": "",
            "zerolinecolor": "white"
           },
           "zaxis": {
            "backgroundcolor": "#E5ECF6",
            "gridcolor": "white",
            "gridwidth": 2,
            "linecolor": "white",
            "showbackground": true,
            "ticks": "",
            "zerolinecolor": "white"
           }
          },
          "shapedefaults": {
           "line": {
            "color": "#2a3f5f"
           }
          },
          "ternary": {
           "aaxis": {
            "gridcolor": "white",
            "linecolor": "white",
            "ticks": ""
           },
           "baxis": {
            "gridcolor": "white",
            "linecolor": "white",
            "ticks": ""
           },
           "bgcolor": "#E5ECF6",
           "caxis": {
            "gridcolor": "white",
            "linecolor": "white",
            "ticks": ""
           }
          },
          "title": {
           "x": 0.05
          },
          "xaxis": {
           "automargin": true,
           "gridcolor": "white",
           "linecolor": "white",
           "ticks": "",
           "title": {
            "standoff": 15
           },
           "zerolinecolor": "white",
           "zerolinewidth": 2
          },
          "yaxis": {
           "automargin": true,
           "gridcolor": "white",
           "linecolor": "white",
           "ticks": "",
           "title": {
            "standoff": 15
           },
           "zerolinecolor": "white",
           "zerolinewidth": 2
          }
         }
        },
        "title": {
         "text": "Arbol GREEDY"
        },
        "xaxis": {
         "showgrid": false,
         "zeroline": false
        },
        "yaxis": {
         "showgrid": false,
         "zeroline": false
        }
       }
      }
     },
     "metadata": {},
     "output_type": "display_data"
    },
    {
     "data": {
      "image/png": "[encoded data removed]",
      "text/plain": [
       "<Figure size 640x480 with 1 Axes>"
      ]
     },
     "metadata": {},
     "output_type": "display_data"
    }
   ],
   "source": [
    "ejecutar_GREEDY(origen, meta)"
   ]
  },
  {
   "cell_type": "code",
   "execution_count": null,
   "id": "8b488dd5",
   "metadata": {},
   "outputs": [],
   "source": []
  }
 ],
 "metadata": {
  "kernelspec": {
   "display_name": "myenv",
   "language": "python",
   "name": "python3"
  },
  "language_info": {
   "codemirror_mode": {
    "name": "ipython",
    "version": 3
   },
   "file_extension": ".py",
   "mimetype": "text/x-python",
   "name": "python",
   "nbconvert_exporter": "python",
   "pygments_lexer": "ipython3",
   "version": "3.10.16"
  }
 },
 "nbformat": 4,
 "nbformat_minor": 5
}
