{
 "cells": [
  {
   "cell_type": "code",
   "execution_count": 43,
   "id": "37da7f36",
   "metadata": {},
   "outputs": [],
   "source": [
    "import igraph\n",
    "from igraph import Graph, EdgeSeq\n",
    "import plotly.graph_objects as go"
   ]
  },
  {
   "cell_type": "code",
   "execution_count": 44,
   "id": "8b4804ea",
   "metadata": {},
   "outputs": [],
   "source": [
    "class Nodo():\n",
    "    def __init__(self, estado, papa = None, costo = -1):\n",
    "        self.estado = estado\n",
    "        self.hijos = []\n",
    "        self.papa = papa\n",
    "        self.heuristica = None\n",
    "        self.costo = costo +1\n",
    "\n",
    "    def genera_hijos(self, meta = None, metodo = None):\n",
    "        pos = self.estado.index(\"_\")\n",
    "        #respetar restricciones\n",
    "        n = 3\n",
    "        #posiciones\n",
    "        # 0 1 2\n",
    "        # 3 4 5\n",
    "        # 6 7 8\n",
    "        \n",
    "        #mover arriba\n",
    "        if (pos >= n):\n",
    "            new_estado = self.estado[:]         # copiar\n",
    "            new_estado[pos] = new_estado[pos-n] # copiar valor de esa posicion\n",
    "            new_estado[pos-n] = \"_\"             # asignar el hueco en la matriz\n",
    "            \n",
    "            new_nodo = Nodo(new_estado, self, self.costo)\n",
    "            self.hijos.append(new_nodo)\n",
    "            \n",
    "            if meta:\n",
    "                if metodo == \"greedy\": \n",
    "                    new_nodo.heuristica2(meta)\n",
    "                else:\n",
    "                    new_nodo.f_n(meta)  # fn = g(n) (costo) + h(n) (heuristica)\n",
    "\n",
    "        #mover abajo\n",
    "        if (pos < n*2):\n",
    "            new_estado = self.estado[:]         # copiar\n",
    "            new_estado[pos] = new_estado[pos+n] # copiar valor de esa posicion\n",
    "            new_estado[pos+n] = \"_\"             # asignar el hueco en la matriz\n",
    "\n",
    "            new_nodo = Nodo(new_estado, self, self.costo)\n",
    "            self.hijos.append(new_nodo)\n",
    "            \n",
    "            if meta:\n",
    "                if metodo == \"greedy\":\n",
    "                    new_nodo.heuristica2(meta)\n",
    "                else:\n",
    "                    new_nodo.f_n(meta)  # fn = g(n) (costo) + h(n)\n",
    "\n",
    "        #mover izquierda\n",
    "        if (pos%n != 0):\n",
    "            new_estado = self.estado[:]         # copiar\n",
    "            new_estado[pos] = new_estado[pos-1] # copiar valor de esa posicion\n",
    "            new_estado[pos-1] = \"_\"             # asignar el hueco en la matriz\n",
    "\n",
    "            new_nodo = Nodo(new_estado, self, self.costo)\n",
    "            self.hijos.append(new_nodo)\n",
    "            \n",
    "            if meta:\n",
    "                if metodo == \"greedy\":\n",
    "                    new_nodo.heuristica2(meta)\n",
    "                else:\n",
    "                    new_nodo.f_n(meta)  # fn = g(n) (costo) + h(n)\n",
    "\n",
    "        #mover derecha\n",
    "        if ((pos+1)%n != 0):\n",
    "            new_estado = self.estado[:]         # copiar\n",
    "            new_estado[pos] = new_estado[pos+1] # copiar valor de esa posicion\n",
    "            new_estado[pos+1] = \"_\"             # asignar el hueco en la matriz\n",
    " \n",
    "            new_nodo = Nodo(new_estado, self, self.costo)\n",
    "            self.hijos.append(new_nodo)\n",
    "            \n",
    "            if meta:\n",
    "                \n",
    "                if metodo == \"greedy\":\n",
    "                    new_nodo.heuristica2(meta)\n",
    "                else:\n",
    "                    new_nodo.f_n(meta)  # fn = g(n) (costo) + h(n)\n",
    "\n",
    "    def soy_visitado(self, visitados):\n",
    "        #return any(self.estado == arr for arr in visitados)\n",
    "        return self.estado in visitados\n",
    "\n",
    "    def bpp(self, meta, visitados=None): # busqueda primero en profundidad (DFS Depth First Search)\n",
    "\n",
    "        if self.estado == meta: # si soy\n",
    "            visited = len(visitados)\n",
    "            return [self]\n",
    "        # soy gemelo malvado de uno visitado? checar si nodo ya se visito\n",
    "        # return None\n",
    "        # seguir buscando\n",
    "\n",
    "        if visitados is None:\n",
    "            visitados = []\n",
    "        if self.soy_visitado(visitados): # ya lo visitamos\n",
    "            return None\n",
    "\n",
    "        res = None\n",
    "        self.genera_hijos()\n",
    "        visitados.append(self.estado)\n",
    "\n",
    "        for h in self.hijos: # hijos de self\n",
    "            res = h.bpp(meta, visitados) # los nietos \n",
    "            if not (res == None): # si hay resutado\n",
    "                res.append(self)\n",
    "                return res\n",
    "\n",
    "    def bpa(self, meta, visitados = None, por_visitar = []): # busqueda primero por anchura\n",
    "        global visited\n",
    "        # --- hacerlo funcion\n",
    "        if self.estado == meta: # soy la meta?\n",
    "            return [self]\n",
    "        \n",
    "        if visitados is None: # si visitados vacio, se inicializa\n",
    "            visitados = []\n",
    "        if self.soy_visitado(visitados): # si soy visitado, true, y retorna none\n",
    "            return None\n",
    "        \n",
    "        self.genera_hijos()\n",
    "        visitados.append(self.estado)\n",
    "        # --- hasta aqui\n",
    "\n",
    "        por_visitar += self.hijos\n",
    "\n",
    "        while (por_visitar != []):\n",
    "            h = por_visitar.pop(0)\n",
    "            if h.estado == meta: # soy yo?\n",
    "                visited = len(por_visitar) + len(visitados)\n",
    "                camino = [h]\n",
    "                papa = h.papa\n",
    "                while (papa != None):\n",
    "                    camino.append(papa)\n",
    "                    papa=papa.papa\n",
    "                camino.reverse()\n",
    "                return camino # checar aqui\n",
    "        \n",
    "            if h.soy_visitado(visitados): # ya lo visitamos?\n",
    "                continue\n",
    "            \n",
    "            h.genera_hijos()\n",
    "            visitados.append(h.estado)\n",
    "\n",
    "            por_visitar += h.hijos\n",
    "\n",
    "    def heuristica1(self, meta):\n",
    "        contador = 0\n",
    "        for e1, e2 in zip(self.estado, meta):\n",
    "            if not e1 == e2:\n",
    "                contador = contador + 1\n",
    "        self.heuristica = contador\n",
    "        return contador\n",
    "\n",
    "    def heuristica2(self, meta):\n",
    "        sumador = 0\n",
    "        for el in self.estado:\n",
    "            sumador += abs(self.estado.index(el) - meta.index(el))\n",
    "        self.heuristica = sumador\n",
    "        return sumador\n",
    "            \n",
    "    def f_n(self, meta):\n",
    "        self.heuristica = self.costo + self.heuristica2(meta)\n",
    "        return self.heuristica\n",
    "\n",
    "    def greedy(self, meta, visitados = [], metodo = \"greedy\"):\n",
    "        visitados = []\n",
    "        #por_visitar = []\n",
    "        por_visitar = [self]\n",
    "\n",
    "        while(por_visitar!= []):\n",
    "            h = por_visitar.pop(0)\n",
    "            if h.estado == meta: # soy yo?\n",
    "                camino = [h]\n",
    "                papa = h.papa\n",
    "                while (papa != None):\n",
    "                    camino.append(papa)\n",
    "                    papa=papa.papa\n",
    "                camino.reverse()\n",
    "                return camino # checar aqui\n",
    "        \n",
    "            if h.soy_visitado(visitados): # ya lo visitamos?\n",
    "                continue\n",
    "            \n",
    "            h.genera_hijos(meta)\n",
    "            visitados.append(h.estado)\n",
    "\n",
    "            por_visitar += h.hijos\n",
    "            por_visitar.sort()\n",
    "            #ordenar los por_visitar\n",
    "\n",
    "    def a_star(self, meta, visitados = []):\n",
    "        visitados = []\n",
    "        #por_visitar = []\n",
    "        por_visitar = [self]\n",
    "\n",
    "        while(por_visitar!= []):\n",
    "            h = por_visitar.pop(0)\n",
    "            if h.estado == meta: # soy yo?\n",
    "                camino = [h]\n",
    "                papa = h.papa\n",
    "                while (papa != None):\n",
    "                    camino.append(papa)\n",
    "                    papa=papa.papa\n",
    "                camino.reverse()\n",
    "                return camino # checar aqui\n",
    "        \n",
    "            if h.soy_visitado(visitados): # ya lo visitamos?\n",
    "                continue\n",
    "            \n",
    "            h.genera_hijos(meta)\n",
    "            visitados.append(h.estado)\n",
    "\n",
    "            por_visitar += h.hijos\n",
    "            por_visitar.sort()\n",
    "            #ordenar los por_visitar\n",
    "\n",
    "    def size(self):\n",
    "        visitados = []\n",
    "        por_visitar = [self]\n",
    "\n",
    "        while por_visitar != []:\n",
    "            nodo = por_visitar.pop(0)\n",
    "            if nodo in visitados:\n",
    "                continue\n",
    "            por_visitar += nodo.hijos\n",
    "            visitados.append(nodo)\n",
    "            \n",
    "        return len(visitados)\n",
    "\n",
    "    def __lt__(self, n2):\n",
    "        if n2 == None:\n",
    "            return False\n",
    "        return self.heuristica < n2.heuristica\n",
    "\n",
    "    def __eq__(self, n2):\n",
    "        if n2 == None:\n",
    "            return False\n",
    "        return self.estado == n2.estado\n",
    "\n",
    "    def __repr__(self):\n",
    "        return(\"\\n\" + str(self.costo) + \" --------\\n\" + str(self.estado[:3]) + \"\\n\" + str(self.estado[3:6]) +\"\\n\" + str(self.estado[6:]))\n"
   ]
  },
  {
   "cell_type": "code",
   "execution_count": 45,
   "id": "fdaf93c0",
   "metadata": {},
   "outputs": [],
   "source": [
    "def get_nodos(raiz):\n",
    "    nodos = []\n",
    "    por_visitar = [raiz]\n",
    "    visitados = []\n",
    "\n",
    "    while por_visitar != []:\n",
    "        nodo = por_visitar.pop(0)\n",
    "        if (nodo in visitados) or (nodo in nodos):\n",
    "            continue\n",
    "        nodos.append(nodo)\n",
    "\n",
    "        por_visitar += nodo.hijos\n",
    "        visitados.append(nodo)\n",
    "\n",
    "    return nodos"
   ]
  },
  {
   "cell_type": "code",
   "execution_count": 46,
   "id": "795d8b0a",
   "metadata": {},
   "outputs": [],
   "source": [
    "def get_etiquetas(nodos):\n",
    "    labels = []\n",
    "    for nodo in nodos:\n",
    "        labels.append(\n",
    "            str(nodo.estado[:3]) + \"<br>\" +\n",
    "            str(nodo.estado[3:6]) + \"<br>\" +\n",
    "            str(nodo.estado[6:])\n",
    "        )\n",
    "    return labels"
   ]
  },
  {
   "cell_type": "code",
   "execution_count": 47,
   "id": "172acc70",
   "metadata": {},
   "outputs": [],
   "source": [
    "def crear_grafo(nodos, etiquetas):\n",
    "    \n",
    "    g = Graph(directed = True)\n",
    "\n",
    "    for nodo in nodos:\n",
    "        g.add_vertex(etiquetas[nodos.index(nodo)])\n",
    "    padre_hijo = []\n",
    "    for nodo in nodos:\n",
    "        \n",
    "        padre_hijo.append([nodo.papa, nodo])\n",
    "    for r in padre_hijo:\n",
    "        if r[0]:  # tiene papa\n",
    "            g.add_edge(etiquetas[nodos.index(r[0])], etiquetas[nodos.index(r[1])])\n",
    "\n",
    "    edges = [e.tuple for e in g.es]\n",
    "    \n",
    "    return g, edges\n",
    "    "
   ]
  },
  {
   "cell_type": "code",
   "execution_count": 48,
   "id": "6917701f",
   "metadata": {},
   "outputs": [],
   "source": [
    "def dibujar_grafo(grafo, labels):\n",
    "    # Encontrar raíz: nodo sin padres (grado de entrada 0)\n",
    "    raices = [v.index for v in grafo.vs if grafo.degree(v, mode=\"in\") == 0]\n",
    "    if len(raices) != 1:\n",
    "        return f\"SHay {len(raices)}, imposible ejecutar\"\n",
    "    root_idx = raices[0]\n",
    "\n",
    "    layout = grafo.layout_reingold_tilford(mode=\"out\", root=[root_idx]) # out, que no se graficque hacia los lados, sino hacia abajo\n",
    "\n",
    "    Xn = [pos[0] for pos in layout]\n",
    "    Yn = [-pos[1] for pos in layout]  # y negativa: hacia abajo\n",
    "\n",
    "    Xe, Ye = [], []\n",
    "    for edge in grafo.get_edgelist():\n",
    "        Xe += [Xn[edge[0]], Xn[edge[1]], None]\n",
    "        Ye += [Yn[edge[0]], Yn[edge[1]], None]\n",
    "\n",
    "    trace_edges = go.Scatter(\n",
    "        x=Xe, y=Ye,\n",
    "        mode='lines',\n",
    "        line=dict(width=1, color='gray'),\n",
    "        hoverinfo='none'\n",
    "    )\n",
    "\n",
    "    trace_nodes = go.Scatter(\n",
    "        x=Xn, y=Yn,\n",
    "        mode='markers',\n",
    "        marker=dict(symbol=\"circle-dot\", size=30, color=\"lightblue\", line=dict(width=2)),\n",
    "        text=labels,\n",
    "        textposition=\"middle center\",\n",
    "        hoverinfo=\"text\"\n",
    "    )\n",
    "\n",
    "    fig = go.Figure(data=[trace_edges, trace_nodes],\n",
    "                    layout=go.Layout(title=\"Arbol 8 puzzle\",\n",
    "                                     showlegend=True,\n",
    "                                     margin=dict(b=20, l=5, r=5, t=40),\n",
    "                                     xaxis=dict(showgrid=False, zeroline=False),\n",
    "                                     yaxis=dict(showgrid=False, zeroline=False)))\n",
    "    fig.show()\n"
   ]
  },
  {
   "cell_type": "code",
   "execution_count": 49,
   "id": "c4d68d9a",
   "metadata": {},
   "outputs": [],
   "source": [
    "# BPA\n",
    "meta = [1, 2, 3,\n",
    "        4, 5, 6,\n",
    "        7, 8, \"_\"]\n",
    "\n",
    "estado = [1,\"_\", 2,\n",
    "          4, 5, 3,\n",
    "          7, 8, 6]\n",
    "\n",
    "raiz = Nodo(estado)"
   ]
  },
  {
   "cell_type": "code",
   "execution_count": 50,
   "id": "f9e546f6",
   "metadata": {},
   "outputs": [
    {
     "name": "stdout",
     "output_type": "stream",
     "text": [
      "Movimientos: 3\n",
      "Tamanio: 7\n"
     ]
    }
   ],
   "source": [
    "camino = raiz.a_star(meta)\n",
    "print(\"Movimientos:\", len(camino) - 1)\n",
    "print(\"Tamanio: \" + str(raiz.size()))"
   ]
  },
  {
   "cell_type": "code",
   "execution_count": 51,
   "id": "b75a01b6",
   "metadata": {},
   "outputs": [
    {
     "data": {
      "text/plain": [
       "[\"[1, '_', 2]<br>[4, 5, 3]<br>[7, 8, 6]\",\n",
       " \"[1, 5, 2]<br>[4, '_', 3]<br>[7, 8, 6]\",\n",
       " \"['_', 1, 2]<br>[4, 5, 3]<br>[7, 8, 6]\",\n",
       " \"[1, 2, '_']<br>[4, 5, 3]<br>[7, 8, 6]\",\n",
       " \"[1, 2, 3]<br>[4, 5, '_']<br>[7, 8, 6]\",\n",
       " \"[1, 2, 3]<br>[4, 5, 6]<br>[7, 8, '_']\",\n",
       " \"[1, 2, 3]<br>[4, '_', 5]<br>[7, 8, 6]\"]"
      ]
     },
     "execution_count": 51,
     "metadata": {},
     "output_type": "execute_result"
    }
   ],
   "source": [
    "nodos = get_nodos(raiz)\n",
    "#print(etiquetas)\n",
    "etiquetas = get_etiquetas(nodos)\n",
    "etiquetas"
   ]
  },
  {
   "cell_type": "code",
   "execution_count": 52,
   "id": "298bf7a4",
   "metadata": {},
   "outputs": [
    {
     "name": "stdout",
     "output_type": "stream",
     "text": [
      "IGRAPH DN-- 7 6 --\n",
      "+ attr: name (v)\n",
      "+ edges (vertex names):\n",
      "[1, '_', 2]<br>[4, 5, 3]<br>[7, 8, 6]->[1, 5, 2]<br>[4, '_', 3]<br>[7, 8, 6],\n",
      "[1, '_', 2]<br>[4, 5, 3]<br>[7, 8, 6]->['_', 1, 2]<br>[4, 5, 3]<br>[7, 8, 6],\n",
      "[1, '_', 2]<br>[4, 5, 3]<br>[7, 8, 6]->[1, 2, '_']<br>[4, 5, 3]<br>[7, 8, 6],\n",
      "[1, 2, '_']<br>[4, 5, 3]<br>[7, 8, 6]->[1, 2, 3]<br>[4, 5, '_']<br>[7, 8, 6],\n",
      "[1, 2, 3]<br>[4, 5, '_']<br>[7, 8, 6]->[1, 2, 3]<br>[4, 5, 6]<br>[7, 8, '_'],\n",
      "[1, 2, 3]<br>[4, 5, '_']<br>[7, 8, 6]->[1, 2, 3]<br>[4, '_', 5]<br>[7, 8, 6]\n",
      "[(0, 1), (0, 2), (0, 3), (3, 4), (4, 5), (4, 6)]\n"
     ]
    }
   ],
   "source": [
    "grafo, edges = crear_grafo(nodos, etiquetas)\n",
    "print(grafo)\n",
    "print(edges)"
   ]
  },
  {
   "cell_type": "code",
   "execution_count": 53,
   "id": "94525831",
   "metadata": {},
   "outputs": [
    {
     "data": {
      "application/vnd.plotly.v1+json": {
       "config": {
        "plotlyServerURL": "https://plot.ly"
       },
       "data": [
        {
         "hoverinfo": "none",
         "line": {
          "color": "gray",
          "width": 1
         },
         "mode": "lines",
         "type": "scatter",
         "x": [
          0,
          -1,
          null,
          0,
          0,
          null,
          0,
          1,
          null,
          1,
          1,
          null,
          1,
          0.5,
          null,
          1,
          1.5,
          null
         ],
         "y": [
          0,
          -1,
          null,
          0,
          -1,
          null,
          0,
          -1,
          null,
          -1,
          -2,
          null,
          -2,
          -3,
          null,
          -2,
          -3,
          null
         ]
        },
        {
         "hoverinfo": "text",
         "marker": {
          "color": "lightblue",
          "line": {
           "width": 2
          },
          "size": 30,
          "symbol": "circle-dot"
         },
         "mode": "markers",
         "text": [
          "[1, '_', 2]<br>[4, 5, 3]<br>[7, 8, 6]",
          "[1, 5, 2]<br>[4, '_', 3]<br>[7, 8, 6]",
          "['_', 1, 2]<br>[4, 5, 3]<br>[7, 8, 6]",
          "[1, 2, '_']<br>[4, 5, 3]<br>[7, 8, 6]",
          "[1, 2, 3]<br>[4, 5, '_']<br>[7, 8, 6]",
          "[1, 2, 3]<br>[4, 5, 6]<br>[7, 8, '_']",
          "[1, 2, 3]<br>[4, '_', 5]<br>[7, 8, 6]"
         ],
         "textposition": "middle center",
         "type": "scatter",
         "x": [
          0,
          -1,
          0,
          1,
          1,
          0.5,
          1.5
         ],
         "y": [
          0,
          -1,
          -1,
          -1,
          -2,
          -3,
          -3
         ]
        }
       ],
       "layout": {
        "margin": {
         "b": 20,
         "l": 5,
         "r": 5,
         "t": 40
        },
        "showlegend": true,
        "template": {
         "data": {
          "bar": [
           {
            "error_x": {
             "color": "#2a3f5f"
            },
            "error_y": {
             "color": "#2a3f5f"
            },
            "marker": {
             "line": {
              "color": "#E5ECF6",
              "width": 0.5
             },
             "pattern": {
              "fillmode": "overlay",
              "size": 10,
              "solidity": 0.2
             }
            },
            "type": "bar"
           }
          ],
          "barpolar": [
           {
            "marker": {
             "line": {
              "color": "#E5ECF6",
              "width": 0.5
             },
             "pattern": {
              "fillmode": "overlay",
              "size": 10,
              "solidity": 0.2
             }
            },
            "type": "barpolar"
           }
          ],
          "carpet": [
           {
            "aaxis": {
             "endlinecolor": "#2a3f5f",
             "gridcolor": "white",
             "linecolor": "white",
             "minorgridcolor": "white",
             "startlinecolor": "#2a3f5f"
            },
            "baxis": {
             "endlinecolor": "#2a3f5f",
             "gridcolor": "white",
             "linecolor": "white",
             "minorgridcolor": "white",
             "startlinecolor": "#2a3f5f"
            },
            "type": "carpet"
           }
          ],
          "choropleth": [
           {
            "colorbar": {
             "outlinewidth": 0,
             "ticks": ""
            },
            "type": "choropleth"
           }
          ],
          "contour": [
           {
            "colorbar": {
             "outlinewidth": 0,
             "ticks": ""
            },
            "colorscale": [
             [
              0,
              "#0d0887"
             ],
             [
              0.1111111111111111,
              "#46039f"
             ],
             [
              0.2222222222222222,
              "#7201a8"
             ],
             [
              0.3333333333333333,
              "#9c179e"
             ],
             [
              0.4444444444444444,
              "#bd3786"
             ],
             [
              0.5555555555555556,
              "#d8576b"
             ],
             [
              0.6666666666666666,
              "#ed7953"
             ],
             [
              0.7777777777777778,
              "#fb9f3a"
             ],
             [
              0.8888888888888888,
              "#fdca26"
             ],
             [
              1,
              "#f0f921"
             ]
            ],
            "type": "contour"
           }
          ],
          "contourcarpet": [
           {
            "colorbar": {
             "outlinewidth": 0,
             "ticks": ""
            },
            "type": "contourcarpet"
           }
          ],
          "heatmap": [
           {
            "colorbar": {
             "outlinewidth": 0,
             "ticks": ""
            },
            "colorscale": [
             [
              0,
              "#0d0887"
             ],
             [
              0.1111111111111111,
              "#46039f"
             ],
             [
              0.2222222222222222,
              "#7201a8"
             ],
             [
              0.3333333333333333,
              "#9c179e"
             ],
             [
              0.4444444444444444,
              "#bd3786"
             ],
             [
              0.5555555555555556,
              "#d8576b"
             ],
             [
              0.6666666666666666,
              "#ed7953"
             ],
             [
              0.7777777777777778,
              "#fb9f3a"
             ],
             [
              0.8888888888888888,
              "#fdca26"
             ],
             [
              1,
              "#f0f921"
             ]
            ],
            "type": "heatmap"
           }
          ],
          "histogram": [
           {
            "marker": {
             "pattern": {
              "fillmode": "overlay",
              "size": 10,
              "solidity": 0.2
             }
            },
            "type": "histogram"
           }
          ],
          "histogram2d": [
           {
            "colorbar": {
             "outlinewidth": 0,
             "ticks": ""
            },
            "colorscale": [
             [
              0,
              "#0d0887"
             ],
             [
              0.1111111111111111,
              "#46039f"
             ],
             [
              0.2222222222222222,
              "#7201a8"
             ],
             [
              0.3333333333333333,
              "#9c179e"
             ],
             [
              0.4444444444444444,
              "#bd3786"
             ],
             [
              0.5555555555555556,
              "#d8576b"
             ],
             [
              0.6666666666666666,
              "#ed7953"
             ],
             [
              0.7777777777777778,
              "#fb9f3a"
             ],
             [
              0.8888888888888888,
              "#fdca26"
             ],
             [
              1,
              "#f0f921"
             ]
            ],
            "type": "histogram2d"
           }
          ],
          "histogram2dcontour": [
           {
            "colorbar": {
             "outlinewidth": 0,
             "ticks": ""
            },
            "colorscale": [
             [
              0,
              "#0d0887"
             ],
             [
              0.1111111111111111,
              "#46039f"
             ],
             [
              0.2222222222222222,
              "#7201a8"
             ],
             [
              0.3333333333333333,
              "#9c179e"
             ],
             [
              0.4444444444444444,
              "#bd3786"
             ],
             [
              0.5555555555555556,
              "#d8576b"
             ],
             [
              0.6666666666666666,
              "#ed7953"
             ],
             [
              0.7777777777777778,
              "#fb9f3a"
             ],
             [
              0.8888888888888888,
              "#fdca26"
             ],
             [
              1,
              "#f0f921"
             ]
            ],
            "type": "histogram2dcontour"
           }
          ],
          "mesh3d": [
           {
            "colorbar": {
             "outlinewidth": 0,
             "ticks": ""
            },
            "type": "mesh3d"
           }
          ],
          "parcoords": [
           {
            "line": {
             "colorbar": {
              "outlinewidth": 0,
              "ticks": ""
             }
            },
            "type": "parcoords"
           }
          ],
          "pie": [
           {
            "automargin": true,
            "type": "pie"
           }
          ],
          "scatter": [
           {
            "fillpattern": {
             "fillmode": "overlay",
             "size": 10,
             "solidity": 0.2
            },
            "type": "scatter"
           }
          ],
          "scatter3d": [
           {
            "line": {
             "colorbar": {
              "outlinewidth": 0,
              "ticks": ""
             }
            },
            "marker": {
             "colorbar": {
              "outlinewidth": 0,
              "ticks": ""
             }
            },
            "type": "scatter3d"
           }
          ],
          "scattercarpet": [
           {
            "marker": {
             "colorbar": {
              "outlinewidth": 0,
              "ticks": ""
             }
            },
            "type": "scattercarpet"
           }
          ],
          "scattergeo": [
           {
            "marker": {
             "colorbar": {
              "outlinewidth": 0,
              "ticks": ""
             }
            },
            "type": "scattergeo"
           }
          ],
          "scattergl": [
           {
            "marker": {
             "colorbar": {
              "outlinewidth": 0,
              "ticks": ""
             }
            },
            "type": "scattergl"
           }
          ],
          "scattermap": [
           {
            "marker": {
             "colorbar": {
              "outlinewidth": 0,
              "ticks": ""
             }
            },
            "type": "scattermap"
           }
          ],
          "scattermapbox": [
           {
            "marker": {
             "colorbar": {
              "outlinewidth": 0,
              "ticks": ""
             }
            },
            "type": "scattermapbox"
           }
          ],
          "scatterpolar": [
           {
            "marker": {
             "colorbar": {
              "outlinewidth": 0,
              "ticks": ""
             }
            },
            "type": "scatterpolar"
           }
          ],
          "scatterpolargl": [
           {
            "marker": {
             "colorbar": {
              "outlinewidth": 0,
              "ticks": ""
             }
            },
            "type": "scatterpolargl"
           }
          ],
          "scatterternary": [
           {
            "marker": {
             "colorbar": {
              "outlinewidth": 0,
              "ticks": ""
             }
            },
            "type": "scatterternary"
           }
          ],
          "surface": [
           {
            "colorbar": {
             "outlinewidth": 0,
             "ticks": ""
            },
            "colorscale": [
             [
              0,
              "#0d0887"
             ],
             [
              0.1111111111111111,
              "#46039f"
             ],
             [
              0.2222222222222222,
              "#7201a8"
             ],
             [
              0.3333333333333333,
              "#9c179e"
             ],
             [
              0.4444444444444444,
              "#bd3786"
             ],
             [
              0.5555555555555556,
              "#d8576b"
             ],
             [
              0.6666666666666666,
              "#ed7953"
             ],
             [
              0.7777777777777778,
              "#fb9f3a"
             ],
             [
              0.8888888888888888,
              "#fdca26"
             ],
             [
              1,
              "#f0f921"
             ]
            ],
            "type": "surface"
           }
          ],
          "table": [
           {
            "cells": {
             "fill": {
              "color": "#EBF0F8"
             },
             "line": {
              "color": "white"
             }
            },
            "header": {
             "fill": {
              "color": "#C8D4E3"
             },
             "line": {
              "color": "white"
             }
            },
            "type": "table"
           }
          ]
         },
         "layout": {
          "annotationdefaults": {
           "arrowcolor": "#2a3f5f",
           "arrowhead": 0,
           "arrowwidth": 1
          },
          "autotypenumbers": "strict",
          "coloraxis": {
           "colorbar": {
            "outlinewidth": 0,
            "ticks": ""
           }
          },
          "colorscale": {
           "diverging": [
            [
             0,
             "#8e0152"
            ],
            [
             0.1,
             "#c51b7d"
            ],
            [
             0.2,
             "#de77ae"
            ],
            [
             0.3,
             "#f1b6da"
            ],
            [
             0.4,
             "#fde0ef"
            ],
            [
             0.5,
             "#f7f7f7"
            ],
            [
             0.6,
             "#e6f5d0"
            ],
            [
             0.7,
             "#b8e186"
            ],
            [
             0.8,
             "#7fbc41"
            ],
            [
             0.9,
             "#4d9221"
            ],
            [
             1,
             "#276419"
            ]
           ],
           "sequential": [
            [
             0,
             "#0d0887"
            ],
            [
             0.1111111111111111,
             "#46039f"
            ],
            [
             0.2222222222222222,
             "#7201a8"
            ],
            [
             0.3333333333333333,
             "#9c179e"
            ],
            [
             0.4444444444444444,
             "#bd3786"
            ],
            [
             0.5555555555555556,
             "#d8576b"
            ],
            [
             0.6666666666666666,
             "#ed7953"
            ],
            [
             0.7777777777777778,
             "#fb9f3a"
            ],
            [
             0.8888888888888888,
             "#fdca26"
            ],
            [
             1,
             "#f0f921"
            ]
           ],
           "sequentialminus": [
            [
             0,
             "#0d0887"
            ],
            [
             0.1111111111111111,
             "#46039f"
            ],
            [
             0.2222222222222222,
             "#7201a8"
            ],
            [
             0.3333333333333333,
             "#9c179e"
            ],
            [
             0.4444444444444444,
             "#bd3786"
            ],
            [
             0.5555555555555556,
             "#d8576b"
            ],
            [
             0.6666666666666666,
             "#ed7953"
            ],
            [
             0.7777777777777778,
             "#fb9f3a"
            ],
            [
             0.8888888888888888,
             "#fdca26"
            ],
            [
             1,
             "#f0f921"
            ]
           ]
          },
          "colorway": [
           "#636efa",
           "#EF553B",
           "#00cc96",
           "#ab63fa",
           "#FFA15A",
           "#19d3f3",
           "#FF6692",
           "#B6E880",
           "#FF97FF",
           "#FECB52"
          ],
          "font": {
           "color": "#2a3f5f"
          },
          "geo": {
           "bgcolor": "white",
           "lakecolor": "white",
           "landcolor": "#E5ECF6",
           "showlakes": true,
           "showland": true,
           "subunitcolor": "white"
          },
          "hoverlabel": {
           "align": "left"
          },
          "hovermode": "closest",
          "mapbox": {
           "style": "light"
          },
          "paper_bgcolor": "white",
          "plot_bgcolor": "#E5ECF6",
          "polar": {
           "angularaxis": {
            "gridcolor": "white",
            "linecolor": "white",
            "ticks": ""
           },
           "bgcolor": "#E5ECF6",
           "radialaxis": {
            "gridcolor": "white",
            "linecolor": "white",
            "ticks": ""
           }
          },
          "scene": {
           "xaxis": {
            "backgroundcolor": "#E5ECF6",
            "gridcolor": "white",
            "gridwidth": 2,
            "linecolor": "white",
            "showbackground": true,
            "ticks": "",
            "zerolinecolor": "white"
           },
           "yaxis": {
            "backgroundcolor": "#E5ECF6",
            "gridcolor": "white",
            "gridwidth": 2,
            "linecolor": "white",
            "showbackground": true,
            "ticks": "",
            "zerolinecolor": "white"
           },
           "zaxis": {
            "backgroundcolor": "#E5ECF6",
            "gridcolor": "white",
            "gridwidth": 2,
            "linecolor": "white",
            "showbackground": true,
            "ticks": "",
            "zerolinecolor": "white"
           }
          },
          "shapedefaults": {
           "line": {
            "color": "#2a3f5f"
           }
          },
          "ternary": {
           "aaxis": {
            "gridcolor": "white",
            "linecolor": "white",
            "ticks": ""
           },
           "baxis": {
            "gridcolor": "white",
            "linecolor": "white",
            "ticks": ""
           },
           "bgcolor": "#E5ECF6",
           "caxis": {
            "gridcolor": "white",
            "linecolor": "white",
            "ticks": ""
           }
          },
          "title": {
           "x": 0.05
          },
          "xaxis": {
           "automargin": true,
           "gridcolor": "white",
           "linecolor": "white",
           "ticks": "",
           "title": {
            "standoff": 15
           },
           "zerolinecolor": "white",
           "zerolinewidth": 2
          },
          "yaxis": {
           "automargin": true,
           "gridcolor": "white",
           "linecolor": "white",
           "ticks": "",
           "title": {
            "standoff": 15
           },
           "zerolinecolor": "white",
           "zerolinewidth": 2
          }
         }
        },
        "title": {
         "text": "Arbol 8 puzzle"
        },
        "xaxis": {
         "showgrid": false,
         "zeroline": false
        },
        "yaxis": {
         "showgrid": false,
         "zeroline": false
        }
       }
      }
     },
     "metadata": {},
     "output_type": "display_data"
    }
   ],
   "source": [
    "dibujar_grafo(grafo, etiquetas)"
   ]
  },
  {
   "cell_type": "code",
   "execution_count": 54,
   "id": "789a70e3",
   "metadata": {},
   "outputs": [
    {
     "name": "stdout",
     "output_type": "stream",
     "text": [
      "[\"[1, '_', 2]<br>[4, 5, 3]<br>[7, 8, 6]\", \"[1, 2, '_']<br>[4, 5, 3]<br>[7, 8, 6]\", \"[1, 2, 3]<br>[4, 5, '_']<br>[7, 8, 6]\", \"[1, 2, 3]<br>[4, 5, 6]<br>[7, 8, '_']\"]\n"
     ]
    }
   ],
   "source": [
    "etiquetas_camino = get_etiquetas(camino)\n",
    "print(etiquetas_camino)"
   ]
  },
  {
   "cell_type": "code",
   "execution_count": 55,
   "id": "ade8c2a3",
   "metadata": {},
   "outputs": [],
   "source": [
    "gC, edges = crear_grafo(camino, etiquetas_camino)"
   ]
  },
  {
   "cell_type": "code",
   "execution_count": 56,
   "id": "b1a789f4",
   "metadata": {},
   "outputs": [
    {
     "data": {
      "application/vnd.plotly.v1+json": {
       "config": {
        "plotlyServerURL": "https://plot.ly"
       },
       "data": [
        {
         "hoverinfo": "none",
         "line": {
          "color": "gray",
          "width": 1
         },
         "mode": "lines",
         "type": "scatter",
         "x": [
          0,
          0,
          null,
          0,
          0,
          null,
          0,
          0,
          null
         ],
         "y": [
          0,
          -1,
          null,
          -1,
          -2,
          null,
          -2,
          -3,
          null
         ]
        },
        {
         "hoverinfo": "text",
         "marker": {
          "color": "lightblue",
          "line": {
           "width": 2
          },
          "size": 30,
          "symbol": "circle-dot"
         },
         "mode": "markers",
         "text": [
          "[1, '_', 2]<br>[4, 5, 3]<br>[7, 8, 6]",
          "[1, 2, '_']<br>[4, 5, 3]<br>[7, 8, 6]",
          "[1, 2, 3]<br>[4, 5, '_']<br>[7, 8, 6]",
          "[1, 2, 3]<br>[4, 5, 6]<br>[7, 8, '_']"
         ],
         "textposition": "middle center",
         "type": "scatter",
         "x": [
          0,
          0,
          0,
          0
         ],
         "y": [
          0,
          -1,
          -2,
          -3
         ]
        }
       ],
       "layout": {
        "margin": {
         "b": 20,
         "l": 5,
         "r": 5,
         "t": 40
        },
        "showlegend": true,
        "template": {
         "data": {
          "bar": [
           {
            "error_x": {
             "color": "#2a3f5f"
            },
            "error_y": {
             "color": "#2a3f5f"
            },
            "marker": {
             "line": {
              "color": "#E5ECF6",
              "width": 0.5
             },
             "pattern": {
              "fillmode": "overlay",
              "size": 10,
              "solidity": 0.2
             }
            },
            "type": "bar"
           }
          ],
          "barpolar": [
           {
            "marker": {
             "line": {
              "color": "#E5ECF6",
              "width": 0.5
             },
             "pattern": {
              "fillmode": "overlay",
              "size": 10,
              "solidity": 0.2
             }
            },
            "type": "barpolar"
           }
          ],
          "carpet": [
           {
            "aaxis": {
             "endlinecolor": "#2a3f5f",
             "gridcolor": "white",
             "linecolor": "white",
             "minorgridcolor": "white",
             "startlinecolor": "#2a3f5f"
            },
            "baxis": {
             "endlinecolor": "#2a3f5f",
             "gridcolor": "white",
             "linecolor": "white",
             "minorgridcolor": "white",
             "startlinecolor": "#2a3f5f"
            },
            "type": "carpet"
           }
          ],
          "choropleth": [
           {
            "colorbar": {
             "outlinewidth": 0,
             "ticks": ""
            },
            "type": "choropleth"
           }
          ],
          "contour": [
           {
            "colorbar": {
             "outlinewidth": 0,
             "ticks": ""
            },
            "colorscale": [
             [
              0,
              "#0d0887"
             ],
             [
              0.1111111111111111,
              "#46039f"
             ],
             [
              0.2222222222222222,
              "#7201a8"
             ],
             [
              0.3333333333333333,
              "#9c179e"
             ],
             [
              0.4444444444444444,
              "#bd3786"
             ],
             [
              0.5555555555555556,
              "#d8576b"
             ],
             [
              0.6666666666666666,
              "#ed7953"
             ],
             [
              0.7777777777777778,
              "#fb9f3a"
             ],
             [
              0.8888888888888888,
              "#fdca26"
             ],
             [
              1,
              "#f0f921"
             ]
            ],
            "type": "contour"
           }
          ],
          "contourcarpet": [
           {
            "colorbar": {
             "outlinewidth": 0,
             "ticks": ""
            },
            "type": "contourcarpet"
           }
          ],
          "heatmap": [
           {
            "colorbar": {
             "outlinewidth": 0,
             "ticks": ""
            },
            "colorscale": [
             [
              0,
              "#0d0887"
             ],
             [
              0.1111111111111111,
              "#46039f"
             ],
             [
              0.2222222222222222,
              "#7201a8"
             ],
             [
              0.3333333333333333,
              "#9c179e"
             ],
             [
              0.4444444444444444,
              "#bd3786"
             ],
             [
              0.5555555555555556,
              "#d8576b"
             ],
             [
              0.6666666666666666,
              "#ed7953"
             ],
             [
              0.7777777777777778,
              "#fb9f3a"
             ],
             [
              0.8888888888888888,
              "#fdca26"
             ],
             [
              1,
              "#f0f921"
             ]
            ],
            "type": "heatmap"
           }
          ],
          "histogram": [
           {
            "marker": {
             "pattern": {
              "fillmode": "overlay",
              "size": 10,
              "solidity": 0.2
             }
            },
            "type": "histogram"
           }
          ],
          "histogram2d": [
           {
            "colorbar": {
             "outlinewidth": 0,
             "ticks": ""
            },
            "colorscale": [
             [
              0,
              "#0d0887"
             ],
             [
              0.1111111111111111,
              "#46039f"
             ],
             [
              0.2222222222222222,
              "#7201a8"
             ],
             [
              0.3333333333333333,
              "#9c179e"
             ],
             [
              0.4444444444444444,
              "#bd3786"
             ],
             [
              0.5555555555555556,
              "#d8576b"
             ],
             [
              0.6666666666666666,
              "#ed7953"
             ],
             [
              0.7777777777777778,
              "#fb9f3a"
             ],
             [
              0.8888888888888888,
              "#fdca26"
             ],
             [
              1,
              "#f0f921"
             ]
            ],
            "type": "histogram2d"
           }
          ],
          "histogram2dcontour": [
           {
            "colorbar": {
             "outlinewidth": 0,
             "ticks": ""
            },
            "colorscale": [
             [
              0,
              "#0d0887"
             ],
             [
              0.1111111111111111,
              "#46039f"
             ],
             [
              0.2222222222222222,
              "#7201a8"
             ],
             [
              0.3333333333333333,
              "#9c179e"
             ],
             [
              0.4444444444444444,
              "#bd3786"
             ],
             [
              0.5555555555555556,
              "#d8576b"
             ],
             [
              0.6666666666666666,
              "#ed7953"
             ],
             [
              0.7777777777777778,
              "#fb9f3a"
             ],
             [
              0.8888888888888888,
              "#fdca26"
             ],
             [
              1,
              "#f0f921"
             ]
            ],
            "type": "histogram2dcontour"
           }
          ],
          "mesh3d": [
           {
            "colorbar": {
             "outlinewidth": 0,
             "ticks": ""
            },
            "type": "mesh3d"
           }
          ],
          "parcoords": [
           {
            "line": {
             "colorbar": {
              "outlinewidth": 0,
              "ticks": ""
             }
            },
            "type": "parcoords"
           }
          ],
          "pie": [
           {
            "automargin": true,
            "type": "pie"
           }
          ],
          "scatter": [
           {
            "fillpattern": {
             "fillmode": "overlay",
             "size": 10,
             "solidity": 0.2
            },
            "type": "scatter"
           }
          ],
          "scatter3d": [
           {
            "line": {
             "colorbar": {
              "outlinewidth": 0,
              "ticks": ""
             }
            },
            "marker": {
             "colorbar": {
              "outlinewidth": 0,
              "ticks": ""
             }
            },
            "type": "scatter3d"
           }
          ],
          "scattercarpet": [
           {
            "marker": {
             "colorbar": {
              "outlinewidth": 0,
              "ticks": ""
             }
            },
            "type": "scattercarpet"
           }
          ],
          "scattergeo": [
           {
            "marker": {
             "colorbar": {
              "outlinewidth": 0,
              "ticks": ""
             }
            },
            "type": "scattergeo"
           }
          ],
          "scattergl": [
           {
            "marker": {
             "colorbar": {
              "outlinewidth": 0,
              "ticks": ""
             }
            },
            "type": "scattergl"
           }
          ],
          "scattermap": [
           {
            "marker": {
             "colorbar": {
              "outlinewidth": 0,
              "ticks": ""
             }
            },
            "type": "scattermap"
           }
          ],
          "scattermapbox": [
           {
            "marker": {
             "colorbar": {
              "outlinewidth": 0,
              "ticks": ""
             }
            },
            "type": "scattermapbox"
           }
          ],
          "scatterpolar": [
           {
            "marker": {
             "colorbar": {
              "outlinewidth": 0,
              "ticks": ""
             }
            },
            "type": "scatterpolar"
           }
          ],
          "scatterpolargl": [
           {
            "marker": {
             "colorbar": {
              "outlinewidth": 0,
              "ticks": ""
             }
            },
            "type": "scatterpolargl"
           }
          ],
          "scatterternary": [
           {
            "marker": {
             "colorbar": {
              "outlinewidth": 0,
              "ticks": ""
             }
            },
            "type": "scatterternary"
           }
          ],
          "surface": [
           {
            "colorbar": {
             "outlinewidth": 0,
             "ticks": ""
            },
            "colorscale": [
             [
              0,
              "#0d0887"
             ],
             [
              0.1111111111111111,
              "#46039f"
             ],
             [
              0.2222222222222222,
              "#7201a8"
             ],
             [
              0.3333333333333333,
              "#9c179e"
             ],
             [
              0.4444444444444444,
              "#bd3786"
             ],
             [
              0.5555555555555556,
              "#d8576b"
             ],
             [
              0.6666666666666666,
              "#ed7953"
             ],
             [
              0.7777777777777778,
              "#fb9f3a"
             ],
             [
              0.8888888888888888,
              "#fdca26"
             ],
             [
              1,
              "#f0f921"
             ]
            ],
            "type": "surface"
           }
          ],
          "table": [
           {
            "cells": {
             "fill": {
              "color": "#EBF0F8"
             },
             "line": {
              "color": "white"
             }
            },
            "header": {
             "fill": {
              "color": "#C8D4E3"
             },
             "line": {
              "color": "white"
             }
            },
            "type": "table"
           }
          ]
         },
         "layout": {
          "annotationdefaults": {
           "arrowcolor": "#2a3f5f",
           "arrowhead": 0,
           "arrowwidth": 1
          },
          "autotypenumbers": "strict",
          "coloraxis": {
           "colorbar": {
            "outlinewidth": 0,
            "ticks": ""
           }
          },
          "colorscale": {
           "diverging": [
            [
             0,
             "#8e0152"
            ],
            [
             0.1,
             "#c51b7d"
            ],
            [
             0.2,
             "#de77ae"
            ],
            [
             0.3,
             "#f1b6da"
            ],
            [
             0.4,
             "#fde0ef"
            ],
            [
             0.5,
             "#f7f7f7"
            ],
            [
             0.6,
             "#e6f5d0"
            ],
            [
             0.7,
             "#b8e186"
            ],
            [
             0.8,
             "#7fbc41"
            ],
            [
             0.9,
             "#4d9221"
            ],
            [
             1,
             "#276419"
            ]
           ],
           "sequential": [
            [
             0,
             "#0d0887"
            ],
            [
             0.1111111111111111,
             "#46039f"
            ],
            [
             0.2222222222222222,
             "#7201a8"
            ],
            [
             0.3333333333333333,
             "#9c179e"
            ],
            [
             0.4444444444444444,
             "#bd3786"
            ],
            [
             0.5555555555555556,
             "#d8576b"
            ],
            [
             0.6666666666666666,
             "#ed7953"
            ],
            [
             0.7777777777777778,
             "#fb9f3a"
            ],
            [
             0.8888888888888888,
             "#fdca26"
            ],
            [
             1,
             "#f0f921"
            ]
           ],
           "sequentialminus": [
            [
             0,
             "#0d0887"
            ],
            [
             0.1111111111111111,
             "#46039f"
            ],
            [
             0.2222222222222222,
             "#7201a8"
            ],
            [
             0.3333333333333333,
             "#9c179e"
            ],
            [
             0.4444444444444444,
             "#bd3786"
            ],
            [
             0.5555555555555556,
             "#d8576b"
            ],
            [
             0.6666666666666666,
             "#ed7953"
            ],
            [
             0.7777777777777778,
             "#fb9f3a"
            ],
            [
             0.8888888888888888,
             "#fdca26"
            ],
            [
             1,
             "#f0f921"
            ]
           ]
          },
          "colorway": [
           "#636efa",
           "#EF553B",
           "#00cc96",
           "#ab63fa",
           "#FFA15A",
           "#19d3f3",
           "#FF6692",
           "#B6E880",
           "#FF97FF",
           "#FECB52"
          ],
          "font": {
           "color": "#2a3f5f"
          },
          "geo": {
           "bgcolor": "white",
           "lakecolor": "white",
           "landcolor": "#E5ECF6",
           "showlakes": true,
           "showland": true,
           "subunitcolor": "white"
          },
          "hoverlabel": {
           "align": "left"
          },
          "hovermode": "closest",
          "mapbox": {
           "style": "light"
          },
          "paper_bgcolor": "white",
          "plot_bgcolor": "#E5ECF6",
          "polar": {
           "angularaxis": {
            "gridcolor": "white",
            "linecolor": "white",
            "ticks": ""
           },
           "bgcolor": "#E5ECF6",
           "radialaxis": {
            "gridcolor": "white",
            "linecolor": "white",
            "ticks": ""
           }
          },
          "scene": {
           "xaxis": {
            "backgroundcolor": "#E5ECF6",
            "gridcolor": "white",
            "gridwidth": 2,
            "linecolor": "white",
            "showbackground": true,
            "ticks": "",
            "zerolinecolor": "white"
           },
           "yaxis": {
            "backgroundcolor": "#E5ECF6",
            "gridcolor": "white",
            "gridwidth": 2,
            "linecolor": "white",
            "showbackground": true,
            "ticks": "",
            "zerolinecolor": "white"
           },
           "zaxis": {
            "backgroundcolor": "#E5ECF6",
            "gridcolor": "white",
            "gridwidth": 2,
            "linecolor": "white",
            "showbackground": true,
            "ticks": "",
            "zerolinecolor": "white"
           }
          },
          "shapedefaults": {
           "line": {
            "color": "#2a3f5f"
           }
          },
          "ternary": {
           "aaxis": {
            "gridcolor": "white",
            "linecolor": "white",
            "ticks": ""
           },
           "baxis": {
            "gridcolor": "white",
            "linecolor": "white",
            "ticks": ""
           },
           "bgcolor": "#E5ECF6",
           "caxis": {
            "gridcolor": "white",
            "linecolor": "white",
            "ticks": ""
           }
          },
          "title": {
           "x": 0.05
          },
          "xaxis": {
           "automargin": true,
           "gridcolor": "white",
           "linecolor": "white",
           "ticks": "",
           "title": {
            "standoff": 15
           },
           "zerolinecolor": "white",
           "zerolinewidth": 2
          },
          "yaxis": {
           "automargin": true,
           "gridcolor": "white",
           "linecolor": "white",
           "ticks": "",
           "title": {
            "standoff": 15
           },
           "zerolinecolor": "white",
           "zerolinewidth": 2
          }
         }
        },
        "title": {
         "text": "Arbol 8 puzzle"
        },
        "xaxis": {
         "showgrid": false,
         "zeroline": false
        },
        "yaxis": {
         "showgrid": false,
         "zeroline": false
        }
       }
      }
     },
     "metadata": {},
     "output_type": "display_data"
    }
   ],
   "source": [
    "dibujar_grafo(gC, etiquetas_camino)"
   ]
  },
  {
   "cell_type": "code",
   "execution_count": null,
   "id": "220ebe94",
   "metadata": {},
   "outputs": [],
   "source": []
  }
 ],
 "metadata": {
  "kernelspec": {
   "display_name": "myenv",
   "language": "python",
   "name": "python3"
  },
  "language_info": {
   "codemirror_mode": {
    "name": "ipython",
    "version": 3
   },
   "file_extension": ".py",
   "mimetype": "text/x-python",
   "name": "python",
   "nbconvert_exporter": "python",
   "pygments_lexer": "ipython3",
   "version": "3.10.16"
  }
 },
 "nbformat": 4,
 "nbformat_minor": 5
}
